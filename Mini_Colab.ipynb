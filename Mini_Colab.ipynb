{
  "cells": [
    {
      "cell_type": "markdown",
      "metadata": {
        "id": "view-in-github",
        "colab_type": "text"
      },
      "source": [
        "<a href=\"https://colab.research.google.com/github/Husam94/poseydon-chisel/blob/master/Mini_Colab.ipynb\" target=\"_parent\"><img src=\"https://colab.research.google.com/assets/colab-badge.svg\" alt=\"Open In Colab\"/></a>"
      ]
    },
    {
      "cell_type": "markdown",
      "id": "e136b68c-0015-44f2-ba68-0725d2020fb7",
      "metadata": {
        "id": "e136b68c-0015-44f2-ba68-0725d2020fb7"
      },
      "source": [
        "**The following is the Case Study 1.1.**  \n",
        "**Google Colab Edition**  \n",
        "This is a combination of Parts A and B but uses less memory and computation resource for use on Google Colab.  \n",
        "Due to memory constraints, variables are deleted and reloaded at different times.  "
      ]
    },
    {
      "cell_type": "code",
      "execution_count": null,
      "id": "a139c538-ab3b-4eda-bccd-26f2b5953e3f",
      "metadata": {
        "id": "a139c538-ab3b-4eda-bccd-26f2b5953e3f"
      },
      "outputs": [],
      "source": []
    },
    {
      "cell_type": "markdown",
      "id": "789311be-0f23-4551-8f09-d6920f4b15a2",
      "metadata": {
        "id": "789311be-0f23-4551-8f09-d6920f4b15a2"
      },
      "source": [
        "Install Chisel and restart runtime"
      ]
    },
    {
      "cell_type": "code",
      "execution_count": null,
      "id": "bb814fdc-aabf-4212-ac2a-f443b8d1b351",
      "metadata": {
        "colab": {
          "base_uri": "https://localhost:8080/",
          "height": 1000
        },
        "id": "bb814fdc-aabf-4212-ac2a-f443b8d1b351",
        "outputId": "d7447d66-6554-4d8b-c165-5a5742bf4f32"
      },
      "outputs": [
        {
          "output_type": "stream",
          "name": "stdout",
          "text": [
            "Looking in indexes: https://pypi.org/simple, https://us-python.pkg.dev/colab-wheels/public/simple/\n",
            "Collecting poseydon-chisel\n",
            "  Downloading poseydon-chisel-0.0.3.tar.gz (11 kB)\n",
            "Requirement already satisfied: numpy>=1.20.0 in /usr/local/lib/python3.7/dist-packages (from poseydon-chisel) (1.21.6)\n",
            "Requirement already satisfied: pandas>=1.3.0 in /usr/local/lib/python3.7/dist-packages (from poseydon-chisel) (1.3.5)\n",
            "Collecting pysam>=0.18.0\n",
            "  Downloading pysam-0.19.1-cp37-cp37m-manylinux_2_24_x86_64.whl (15.1 MB)\n",
            "\u001b[K     |████████████████████████████████| 15.1 MB 7.6 MB/s \n",
            "\u001b[?25hCollecting pybigwig\n",
            "  Downloading pyBigWig-0.3.18.tar.gz (64 kB)\n",
            "\u001b[K     |████████████████████████████████| 64 kB 3.8 MB/s \n",
            "\u001b[?25hCollecting biopython>=1.79\n",
            "  Downloading biopython-1.79-cp37-cp37m-manylinux_2_5_x86_64.manylinux1_x86_64.whl (2.3 MB)\n",
            "\u001b[K     |████████████████████████████████| 2.3 MB 37.3 MB/s \n",
            "\u001b[?25hRequirement already satisfied: joblib>=1.1.0 in /usr/local/lib/python3.7/dist-packages (from poseydon-chisel) (1.1.0)\n",
            "Collecting matplotlib>=3.5.0\n",
            "  Downloading matplotlib-3.5.3-cp37-cp37m-manylinux_2_5_x86_64.manylinux1_x86_64.whl (11.2 MB)\n",
            "\u001b[K     |████████████████████████████████| 11.2 MB 47.8 MB/s \n",
            "\u001b[?25hCollecting denseweight==0.1.2\n",
            "  Downloading denseweight-0.1.2-py3-none-any.whl (16 kB)\n",
            "Collecting KDEpy\n",
            "  Downloading KDEpy-1.1.0-cp37-cp37m-manylinux_2_17_x86_64.manylinux2014_x86_64.whl (420 kB)\n",
            "\u001b[K     |████████████████████████████████| 420 kB 69.7 MB/s \n",
            "\u001b[?25hRequirement already satisfied: scikit-learn in /usr/local/lib/python3.7/dist-packages (from denseweight==0.1.2->poseydon-chisel) (1.0.2)\n",
            "Requirement already satisfied: kiwisolver>=1.0.1 in /usr/local/lib/python3.7/dist-packages (from matplotlib>=3.5.0->poseydon-chisel) (1.4.4)\n",
            "Requirement already satisfied: pillow>=6.2.0 in /usr/local/lib/python3.7/dist-packages (from matplotlib>=3.5.0->poseydon-chisel) (7.1.2)\n",
            "Requirement already satisfied: python-dateutil>=2.7 in /usr/local/lib/python3.7/dist-packages (from matplotlib>=3.5.0->poseydon-chisel) (2.8.2)\n",
            "Requirement already satisfied: packaging>=20.0 in /usr/local/lib/python3.7/dist-packages (from matplotlib>=3.5.0->poseydon-chisel) (21.3)\n",
            "Requirement already satisfied: cycler>=0.10 in /usr/local/lib/python3.7/dist-packages (from matplotlib>=3.5.0->poseydon-chisel) (0.11.0)\n",
            "Collecting fonttools>=4.22.0\n",
            "  Downloading fonttools-4.37.2-py3-none-any.whl (959 kB)\n",
            "\u001b[K     |████████████████████████████████| 959 kB 62.2 MB/s \n",
            "\u001b[?25hRequirement already satisfied: pyparsing>=2.2.1 in /usr/local/lib/python3.7/dist-packages (from matplotlib>=3.5.0->poseydon-chisel) (3.0.9)\n",
            "Requirement already satisfied: typing-extensions in /usr/local/lib/python3.7/dist-packages (from kiwisolver>=1.0.1->matplotlib>=3.5.0->poseydon-chisel) (4.1.1)\n",
            "Requirement already satisfied: pytz>=2017.3 in /usr/local/lib/python3.7/dist-packages (from pandas>=1.3.0->poseydon-chisel) (2022.2.1)\n",
            "Requirement already satisfied: six>=1.5 in /usr/local/lib/python3.7/dist-packages (from python-dateutil>=2.7->matplotlib>=3.5.0->poseydon-chisel) (1.15.0)\n",
            "Requirement already satisfied: scipy>=1.0.1 in /usr/local/lib/python3.7/dist-packages (from KDEpy->denseweight==0.1.2->poseydon-chisel) (1.7.3)\n",
            "Requirement already satisfied: threadpoolctl>=2.0.0 in /usr/local/lib/python3.7/dist-packages (from scikit-learn->denseweight==0.1.2->poseydon-chisel) (3.1.0)\n",
            "Building wheels for collected packages: poseydon-chisel, pybigwig\n",
            "  Building wheel for poseydon-chisel (setup.py) ... \u001b[?25l\u001b[?25hdone\n",
            "  Created wheel for poseydon-chisel: filename=poseydon_chisel-0.0.3-py3-none-any.whl size=10973 sha256=2d7307433c3ac9bb935670ccf6067b9f828c7edf15979446a71dcb399086b306\n",
            "  Stored in directory: /root/.cache/pip/wheels/d5/af/30/b3da35a0017d7b9bd4cb9f7a488d429f876342ba1150281554\n",
            "  Building wheel for pybigwig (setup.py) ... \u001b[?25l\u001b[?25hdone\n",
            "  Created wheel for pybigwig: filename=pyBigWig-0.3.18-cp37-cp37m-linux_x86_64.whl size=197544 sha256=9f90c5dd85a76d531ab57d24fd48605b4c9abd9ed51502ae413350cfc23040b8\n",
            "  Stored in directory: /root/.cache/pip/wheels/28/eb/46/c761563ba38bd516bcc6accde3d4188cd84eec067f9201cbec\n",
            "Successfully built poseydon-chisel pybigwig\n",
            "Installing collected packages: fonttools, matplotlib, KDEpy, pysam, pybigwig, denseweight, biopython, poseydon-chisel\n",
            "  Attempting uninstall: matplotlib\n",
            "    Found existing installation: matplotlib 3.2.2\n",
            "    Uninstalling matplotlib-3.2.2:\n",
            "      Successfully uninstalled matplotlib-3.2.2\n",
            "Successfully installed KDEpy-1.1.0 biopython-1.79 denseweight-0.1.2 fonttools-4.37.2 matplotlib-3.5.3 poseydon-chisel-0.0.3 pybigwig-0.3.18 pysam-0.19.1\n"
          ]
        },
        {
          "output_type": "display_data",
          "data": {
            "application/vnd.colab-display-data+json": {
              "pip_warning": {
                "packages": [
                  "matplotlib",
                  "mpl_toolkits"
                ]
              }
            }
          },
          "metadata": {}
        }
      ],
      "source": [
        "!pip install poseydon-chisel"
      ]
    },
    {
      "cell_type": "markdown",
      "id": "c2e502f3-0644-4d9e-8901-39ee2f6090f1",
      "metadata": {
        "id": "c2e502f3-0644-4d9e-8901-39ee2f6090f1"
      },
      "source": [
        "## Launch"
      ]
    },
    {
      "cell_type": "code",
      "execution_count": 2,
      "id": "9c078ce1-e1fb-48a4-9f78-d2fff345a204",
      "metadata": {
        "id": "9c078ce1-e1fb-48a4-9f78-d2fff345a204"
      },
      "outputs": [],
      "source": [
        "from poseydon_chisel import * "
      ]
    },
    {
      "cell_type": "code",
      "execution_count": 3,
      "id": "08ca25fb-331f-4a1c-b872-4bc60313b61f",
      "metadata": {
        "id": "08ca25fb-331f-4a1c-b872-4bc60313b61f"
      },
      "outputs": [],
      "source": [
        "import pandas as pd\n",
        "import numpy as np\n",
        "import pickle\n",
        "\n",
        "from scipy import stats"
      ]
    },
    {
      "cell_type": "code",
      "execution_count": 4,
      "id": "657f4fb1-b321-46aa-a501-28ff9c400784",
      "metadata": {
        "id": "657f4fb1-b321-46aa-a501-28ff9c400784"
      },
      "outputs": [],
      "source": [
        "import urllib.request\n",
        "from tqdm import tqdm\n",
        "\n",
        "#https://stackoverflow.com/questions/15644964/python-progress-bar-and-downloads\n",
        "\n",
        "class DownloadProgressBar(tqdm):\n",
        "    def update_to(self, b=1, bsize=1, tsize=None):\n",
        "        if tsize is not None:\n",
        "            self.total = tsize\n",
        "        self.update(b * bsize - self.n)\n",
        "\n",
        "def download_url(url, output_path):\n",
        "    with DownloadProgressBar(unit='B', unit_scale=True,\n",
        "                             miniters=1, desc=url.split('/')[-1]) as t:\n",
        "        urllib.request.urlretrieve(url, filename=output_path, reporthook=t.update_to)"
      ]
    },
    {
      "cell_type": "markdown",
      "id": "16bc59c3-267f-4da2-a692-f2e532ae16e2",
      "metadata": {
        "id": "16bc59c3-267f-4da2-a692-f2e532ae16e2"
      },
      "source": [
        "### Global Variables"
      ]
    },
    {
      "cell_type": "markdown",
      "id": "77f8d59b-b853-4e04-922a-ba54b8aadf2d",
      "metadata": {
        "id": "77f8d59b-b853-4e04-922a-ba54b8aadf2d"
      },
      "source": [
        "Set these based on computing resources.  \n",
        "The defaults work well on google colab but may be expanded.  \n",
        "Only 2 of the 11 histones are used, only chromosome 3, and most CurrentTracks are at a 100bp resolution. "
      ]
    },
    {
      "cell_type": "code",
      "execution_count": 5,
      "id": "57e42e19-66a9-4676-ab1b-430f6db8f5f2",
      "metadata": {
        "id": "57e42e19-66a9-4676-ab1b-430f6db8f5f2"
      },
      "outputs": [],
      "source": [
        "histones = ['H3K4me3', 'H3K27ac']\n",
        "select_chrs = ['chr3']\n",
        "CTReso = 100 #resolution of CurrentTracks (when appropriate)\n",
        "fontsize = 12"
      ]
    },
    {
      "cell_type": "markdown",
      "id": "9783e44d-d433-4d05-af30-a0e221f9ad8b",
      "metadata": {
        "tags": [],
        "id": "9783e44d-d433-4d05-af30-a0e221f9ad8b"
      },
      "source": [
        "## Part A"
      ]
    },
    {
      "cell_type": "markdown",
      "id": "eb285967-5454-4b62-839a-a0860976fa7f",
      "metadata": {
        "id": "eb285967-5454-4b62-839a-a0860976fa7f"
      },
      "source": [
        "Download necessary pre-made files from GitHub"
      ]
    },
    {
      "cell_type": "code",
      "execution_count": null,
      "id": "29b89f1e-7643-4112-8b41-cb77e9232a99",
      "metadata": {
        "colab": {
          "base_uri": "https://localhost:8080/"
        },
        "id": "29b89f1e-7643-4112-8b41-cb77e9232a99",
        "outputId": "9c21f526-5746-4dc5-ee9a-838e1df6c34d"
      },
      "outputs": [
        {
          "output_type": "stream",
          "name": "stderr",
          "text": [
            "hg38-blacklist.v2.bed: 32.8kB [00:00, 185kB/s]                             \n",
            "YY1_summits_toppeaks.bed: 147kB [00:00, 500kB/s]                             \n",
            "YY1_CM.txt: 8.19kB [00:00, 47.3kB/s]\n",
            "Dataset_Identifiers.txt: 8.19kB [00:00, 52.1kB/s]\n"
          ]
        }
      ],
      "source": [
        "bank = 'https://raw.githubusercontent.com/Husam94/poseydon-chisel/master/docs/'\n",
        "bank_files = ['hg38-blacklist.v2.bed', 'YY1_summits_toppeaks.bed', 'YY1_CM.txt', 'Dataset_Identifiers.txt']\n",
        "\n",
        "for bf in bank_files:\n",
        "    download_url(bank+bf, bf)"
      ]
    },
    {
      "cell_type": "code",
      "execution_count": null,
      "id": "f7648ae4-ceac-4398-a4ac-0b57ec62bab4",
      "metadata": {
        "id": "f7648ae4-ceac-4398-a4ac-0b57ec62bab4"
      },
      "outputs": [],
      "source": [
        "data_source = pd.read_csv('Dataset_Identifiers.txt', sep = '\\t', header = 0)"
      ]
    },
    {
      "cell_type": "code",
      "execution_count": null,
      "id": "edc4dcbf-5fb4-4bdf-a6d1-129cefb7afc4",
      "metadata": {
        "id": "edc4dcbf-5fb4-4bdf-a6d1-129cefb7afc4"
      },
      "outputs": [],
      "source": [
        "!mkdir bam"
      ]
    },
    {
      "cell_type": "code",
      "execution_count": null,
      "id": "c97b36c4-abcd-454c-9ff4-be601cd1e088",
      "metadata": {
        "tags": [],
        "colab": {
          "base_uri": "https://localhost:8080/"
        },
        "id": "c97b36c4-abcd-454c-9ff4-be601cd1e088",
        "outputId": "3a688efa-04b0-49a9-f444-c77b9999ec43"
      },
      "outputs": [
        {
          "output_type": "stream",
          "name": "stderr",
          "text": [
            "ENCFF564SVK.bam: 298MB [00:07, 40.9MB/s]                           \n",
            "ENCFF685PPQ.bam: 471MB [00:11, 39.4MB/s]                           \n",
            "ENCFF121RHF.bam: 465MB [00:10, 43.4MB/s]                           \n",
            "ENCFF907MNY.bam: 227MB [00:05, 40.3MB/s]                           \n",
            "ENCFF158VHG.bam: 344MB [00:08, 42.6MB/s]                           \n",
            "ENCFF821RKN.bam: 815MB [00:19, 41.4MB/s]                           \n"
          ]
        }
      ],
      "source": [
        "path_A = 'https://www.encodeproject.org/files/'\n",
        "path_B = '/@@download/'\n",
        "path_C = '.bam'\n",
        "\n",
        "for index, row in data_source.iterrows():\n",
        "    if row['target'] in histones + ['YY1']: #Only downloading those select histones and YY1\n",
        "        download_url(path_A + row['id'] + path_B + row['id'] + path_C, 'bam/' + row['newid'] + path_C)"
      ]
    },
    {
      "cell_type": "code",
      "execution_count": null,
      "id": "a9d1828c-c99d-4f91-a51c-4a4c67cb9ce9",
      "metadata": {
        "colab": {
          "base_uri": "https://localhost:8080/"
        },
        "id": "a9d1828c-c99d-4f91-a51c-4a4c67cb9ce9",
        "outputId": "cb22a446-c256-408c-d4ad-6eb62051ad8f"
      },
      "outputs": [
        {
          "output_type": "stream",
          "name": "stderr",
          "text": [
            "GRCh38_no_alt_analysis_set_GCA_000001405.15.fasta.gz: 873MB [00:18, 46.7MB/s]                           \n"
          ]
        }
      ],
      "source": [
        "#genome from https://www.encodeproject.org/data-standards/reference-sequences/\n",
        "genome_url = 'https://www.encodeproject.org/files/GRCh38_no_alt_analysis_set_GCA_000001405.15/@@download/GRCh38_no_alt_analysis_set_GCA_000001405.15.fasta.gz'\n",
        "download_url(genome_url, 'hg38.fasta.gz')"
      ]
    },
    {
      "cell_type": "code",
      "execution_count": null,
      "id": "b790ccec-488d-4d53-a54b-00cf956a9323",
      "metadata": {
        "id": "b790ccec-488d-4d53-a54b-00cf956a9323"
      },
      "outputs": [],
      "source": [
        "!gzip -d ./hg38.fasta.gz #unzip file "
      ]
    },
    {
      "cell_type": "markdown",
      "id": "35741d0f-4140-405d-9f5e-959407f7cc1e",
      "metadata": {
        "id": "35741d0f-4140-405d-9f5e-959407f7cc1e"
      },
      "source": [
        "## Part B"
      ]
    },
    {
      "cell_type": "markdown",
      "id": "64e90112-cfa1-4dea-a7dc-58633a150146",
      "metadata": {
        "tags": [],
        "id": "64e90112-cfa1-4dea-a7dc-58633a150146"
      },
      "source": [
        "#### Human Genome"
      ]
    },
    {
      "cell_type": "markdown",
      "id": "ffdab3f3-a94d-4239-a32c-17c61552b6fd",
      "metadata": {
        "id": "ffdab3f3-a94d-4239-a32c-17c61552b6fd"
      },
      "source": [
        "Creating a SeqCurrent from human genome fasta file. \\\n",
        "Only using the first 3 entries in the genome for sub-seqs. Loading only the first 3 to save memory. "
      ]
    },
    {
      "cell_type": "code",
      "execution_count": null,
      "id": "2c36a4ac-6291-4109-8f7a-64b03676c138",
      "metadata": {
        "id": "2c36a4ac-6291-4109-8f7a-64b03676c138"
      },
      "outputs": [],
      "source": [
        "hg38, hg38_id = Fasta2Seqs('hg38.fasta', idents = True, first = 3)\n",
        "hg38_id = [c.split()[0] for c in hg38_id] #Simplifying ids \n",
        "\n",
        "hg38, hg38_id = [[x[ic] for ic, c in enumerate(hg38_id) if c in select_chrs] for x in [hg38, hg38_id]]\n",
        "\n",
        "hg38_sizes = [len(c) for c in hg38] #Getting sizes\n",
        "\n",
        "pickle.dump([hg38, hg38_id, hg38_sizes], open('hg38' + '.p', 'wb')) #Saving"
      ]
    },
    {
      "cell_type": "code",
      "execution_count": null,
      "id": "7b6793d9-7f5a-4914-b908-4bb1f24dc937",
      "metadata": {
        "colab": {
          "base_uri": "https://localhost:8080/"
        },
        "id": "7b6793d9-7f5a-4914-b908-4bb1f24dc937",
        "outputId": "0507d85f-ad49-4b43-de34-88cce9543cf8"
      },
      "outputs": [
        {
          "output_type": "execute_result",
          "data": {
            "text/plain": [
              "(['chr3'], [198295559])"
            ]
          },
          "metadata": {},
          "execution_count": 14
        }
      ],
      "source": [
        "hg38_id, hg38_sizes"
      ]
    },
    {
      "cell_type": "code",
      "execution_count": null,
      "id": "332cedff-ce26-4300-bccc-98a13c74419a",
      "metadata": {
        "id": "332cedff-ce26-4300-bccc-98a13c74419a"
      },
      "outputs": [],
      "source": [
        "del [hg38]"
      ]
    },
    {
      "cell_type": "markdown",
      "id": "69408100-943c-42e3-9df3-455d2f4604d1",
      "metadata": {
        "tags": [],
        "id": "69408100-943c-42e3-9df3-455d2f4604d1"
      },
      "source": [
        "#### Blacklist Regions"
      ]
    },
    {
      "cell_type": "markdown",
      "id": "1bd86211-421b-4358-9251-520aa86b72c2",
      "metadata": {
        "id": "1bd86211-421b-4358-9251-520aa86b72c2"
      },
      "source": [
        "Importing Blacklist Regions bed file as Markers and converting to a BinCurrent.  \n",
        "*See First_steps for pre-work*"
      ]
    },
    {
      "cell_type": "code",
      "execution_count": null,
      "id": "54cd031e-5d1c-495d-99e4-95f795b6b072",
      "metadata": {
        "colab": {
          "base_uri": "https://localhost:8080/",
          "height": 424
        },
        "id": "54cd031e-5d1c-495d-99e4-95f795b6b072",
        "outputId": "0e795aa4-b462-472d-eda3-4ab68c4c651c"
      },
      "outputs": [
        {
          "output_type": "execute_result",
          "data": {
            "text/plain": [
              "    subseq        loc  strand      size\n",
              "0     chr1     396250       0    792500\n",
              "1     chr1   91387350       0      2100\n",
              "2     chr1  103677500       0    166200\n",
              "3     chr1  123272050       0   3333700\n",
              "4     chr1  125076800       0     18400\n",
              "..     ...        ...     ...       ...\n",
              "631   chrY    4344800       0      2000\n",
              "632   chrY   10643700       0    795000\n",
              "633   chrY   11203700       0    263200\n",
              "634   chrY   11622200       0    271200\n",
              "635   chrY   41932350       0  30590100\n",
              "\n",
              "[636 rows x 4 columns]"
            ],
            "text/html": [
              "\n",
              "  <div id=\"df-68e02a5c-99bb-41bc-9d86-304ba3c16ae0\">\n",
              "    <div class=\"colab-df-container\">\n",
              "      <div>\n",
              "<style scoped>\n",
              "    .dataframe tbody tr th:only-of-type {\n",
              "        vertical-align: middle;\n",
              "    }\n",
              "\n",
              "    .dataframe tbody tr th {\n",
              "        vertical-align: top;\n",
              "    }\n",
              "\n",
              "    .dataframe thead th {\n",
              "        text-align: right;\n",
              "    }\n",
              "</style>\n",
              "<table border=\"1\" class=\"dataframe\">\n",
              "  <thead>\n",
              "    <tr style=\"text-align: right;\">\n",
              "      <th></th>\n",
              "      <th>subseq</th>\n",
              "      <th>loc</th>\n",
              "      <th>strand</th>\n",
              "      <th>size</th>\n",
              "    </tr>\n",
              "  </thead>\n",
              "  <tbody>\n",
              "    <tr>\n",
              "      <th>0</th>\n",
              "      <td>chr1</td>\n",
              "      <td>396250</td>\n",
              "      <td>0</td>\n",
              "      <td>792500</td>\n",
              "    </tr>\n",
              "    <tr>\n",
              "      <th>1</th>\n",
              "      <td>chr1</td>\n",
              "      <td>91387350</td>\n",
              "      <td>0</td>\n",
              "      <td>2100</td>\n",
              "    </tr>\n",
              "    <tr>\n",
              "      <th>2</th>\n",
              "      <td>chr1</td>\n",
              "      <td>103677500</td>\n",
              "      <td>0</td>\n",
              "      <td>166200</td>\n",
              "    </tr>\n",
              "    <tr>\n",
              "      <th>3</th>\n",
              "      <td>chr1</td>\n",
              "      <td>123272050</td>\n",
              "      <td>0</td>\n",
              "      <td>3333700</td>\n",
              "    </tr>\n",
              "    <tr>\n",
              "      <th>4</th>\n",
              "      <td>chr1</td>\n",
              "      <td>125076800</td>\n",
              "      <td>0</td>\n",
              "      <td>18400</td>\n",
              "    </tr>\n",
              "    <tr>\n",
              "      <th>...</th>\n",
              "      <td>...</td>\n",
              "      <td>...</td>\n",
              "      <td>...</td>\n",
              "      <td>...</td>\n",
              "    </tr>\n",
              "    <tr>\n",
              "      <th>631</th>\n",
              "      <td>chrY</td>\n",
              "      <td>4344800</td>\n",
              "      <td>0</td>\n",
              "      <td>2000</td>\n",
              "    </tr>\n",
              "    <tr>\n",
              "      <th>632</th>\n",
              "      <td>chrY</td>\n",
              "      <td>10643700</td>\n",
              "      <td>0</td>\n",
              "      <td>795000</td>\n",
              "    </tr>\n",
              "    <tr>\n",
              "      <th>633</th>\n",
              "      <td>chrY</td>\n",
              "      <td>11203700</td>\n",
              "      <td>0</td>\n",
              "      <td>263200</td>\n",
              "    </tr>\n",
              "    <tr>\n",
              "      <th>634</th>\n",
              "      <td>chrY</td>\n",
              "      <td>11622200</td>\n",
              "      <td>0</td>\n",
              "      <td>271200</td>\n",
              "    </tr>\n",
              "    <tr>\n",
              "      <th>635</th>\n",
              "      <td>chrY</td>\n",
              "      <td>41932350</td>\n",
              "      <td>0</td>\n",
              "      <td>30590100</td>\n",
              "    </tr>\n",
              "  </tbody>\n",
              "</table>\n",
              "<p>636 rows × 4 columns</p>\n",
              "</div>\n",
              "      <button class=\"colab-df-convert\" onclick=\"convertToInteractive('df-68e02a5c-99bb-41bc-9d86-304ba3c16ae0')\"\n",
              "              title=\"Convert this dataframe to an interactive table.\"\n",
              "              style=\"display:none;\">\n",
              "        \n",
              "  <svg xmlns=\"http://www.w3.org/2000/svg\" height=\"24px\"viewBox=\"0 0 24 24\"\n",
              "       width=\"24px\">\n",
              "    <path d=\"M0 0h24v24H0V0z\" fill=\"none\"/>\n",
              "    <path d=\"M18.56 5.44l.94 2.06.94-2.06 2.06-.94-2.06-.94-.94-2.06-.94 2.06-2.06.94zm-11 1L8.5 8.5l.94-2.06 2.06-.94-2.06-.94L8.5 2.5l-.94 2.06-2.06.94zm10 10l.94 2.06.94-2.06 2.06-.94-2.06-.94-.94-2.06-.94 2.06-2.06.94z\"/><path d=\"M17.41 7.96l-1.37-1.37c-.4-.4-.92-.59-1.43-.59-.52 0-1.04.2-1.43.59L10.3 9.45l-7.72 7.72c-.78.78-.78 2.05 0 2.83L4 21.41c.39.39.9.59 1.41.59.51 0 1.02-.2 1.41-.59l7.78-7.78 2.81-2.81c.8-.78.8-2.07 0-2.86zM5.41 20L4 18.59l7.72-7.72 1.47 1.35L5.41 20z\"/>\n",
              "  </svg>\n",
              "      </button>\n",
              "      \n",
              "  <style>\n",
              "    .colab-df-container {\n",
              "      display:flex;\n",
              "      flex-wrap:wrap;\n",
              "      gap: 12px;\n",
              "    }\n",
              "\n",
              "    .colab-df-convert {\n",
              "      background-color: #E8F0FE;\n",
              "      border: none;\n",
              "      border-radius: 50%;\n",
              "      cursor: pointer;\n",
              "      display: none;\n",
              "      fill: #1967D2;\n",
              "      height: 32px;\n",
              "      padding: 0 0 0 0;\n",
              "      width: 32px;\n",
              "    }\n",
              "\n",
              "    .colab-df-convert:hover {\n",
              "      background-color: #E2EBFA;\n",
              "      box-shadow: 0px 1px 2px rgba(60, 64, 67, 0.3), 0px 1px 3px 1px rgba(60, 64, 67, 0.15);\n",
              "      fill: #174EA6;\n",
              "    }\n",
              "\n",
              "    [theme=dark] .colab-df-convert {\n",
              "      background-color: #3B4455;\n",
              "      fill: #D2E3FC;\n",
              "    }\n",
              "\n",
              "    [theme=dark] .colab-df-convert:hover {\n",
              "      background-color: #434B5C;\n",
              "      box-shadow: 0px 1px 3px 1px rgba(0, 0, 0, 0.15);\n",
              "      filter: drop-shadow(0px 1px 2px rgba(0, 0, 0, 0.3));\n",
              "      fill: #FFFFFF;\n",
              "    }\n",
              "  </style>\n",
              "\n",
              "      <script>\n",
              "        const buttonEl =\n",
              "          document.querySelector('#df-68e02a5c-99bb-41bc-9d86-304ba3c16ae0 button.colab-df-convert');\n",
              "        buttonEl.style.display =\n",
              "          google.colab.kernel.accessAllowed ? 'block' : 'none';\n",
              "\n",
              "        async function convertToInteractive(key) {\n",
              "          const element = document.querySelector('#df-68e02a5c-99bb-41bc-9d86-304ba3c16ae0');\n",
              "          const dataTable =\n",
              "            await google.colab.kernel.invokeFunction('convertToInteractive',\n",
              "                                                     [key], {});\n",
              "          if (!dataTable) return;\n",
              "\n",
              "          const docLinkHtml = 'Like what you see? Visit the ' +\n",
              "            '<a target=\"_blank\" href=https://colab.research.google.com/notebooks/data_table.ipynb>data table notebook</a>'\n",
              "            + ' to learn more about interactive tables.';\n",
              "          element.innerHTML = '';\n",
              "          dataTable['output_type'] = 'display_data';\n",
              "          await google.colab.output.renderOutput(dataTable, element);\n",
              "          const docLink = document.createElement('div');\n",
              "          docLink.innerHTML = docLinkHtml;\n",
              "          element.appendChild(docLink);\n",
              "        }\n",
              "      </script>\n",
              "    </div>\n",
              "  </div>\n",
              "  "
            ]
          },
          "metadata": {},
          "execution_count": 15
        }
      ],
      "source": [
        "BLR = Bed2Markers('hg38-blacklist.v2.bed') \n",
        "BLR"
      ]
    },
    {
      "cell_type": "markdown",
      "id": "7d5f7a49-566e-4bce-afc1-24cd049daaf3",
      "metadata": {
        "id": "7d5f7a49-566e-4bce-afc1-24cd049daaf3"
      },
      "source": [
        "Making inverse BinCurrent from Blacklist Markers (0s are bad regions)"
      ]
    },
    {
      "cell_type": "code",
      "execution_count": null,
      "id": "6f229529-87b1-4955-b050-08eea8dc7aad",
      "metadata": {
        "id": "6f229529-87b1-4955-b050-08eea8dc7aad"
      },
      "outputs": [],
      "source": [
        "BLC = Markers2BinCurrent(BLR, hg38_sizes, hg38_id, select_BS_ids = select_chrs, \n",
        "                         Msizes = BLR.iloc[:, 3], reso = 1, inverse = True, dtype = np.int8) \n",
        "\n",
        "pickle.dump(BLC, open('BLC' + '.p', 'wb')) #Saving"
      ]
    },
    {
      "cell_type": "markdown",
      "id": "61219cb4-b0aa-4bac-8099-ce96fd3a0ecd",
      "metadata": {
        "id": "61219cb4-b0aa-4bac-8099-ce96fd3a0ecd"
      },
      "source": [
        "Lowering resolution to NR and taking the minimum (0s are bad regions) "
      ]
    },
    {
      "cell_type": "code",
      "execution_count": null,
      "id": "c738a142-fa35-430c-8269-9621d8e6d7f5",
      "metadata": {
        "id": "c738a142-fa35-430c-8269-9621d8e6d7f5"
      },
      "outputs": [],
      "source": [
        "BLC_LR = LowerResCurrent(BLC, reso = 1, newreso = CTReso, resomode = np.min, dtype = np.int8) \n",
        "\n",
        "pickle.dump(BLC_LR, open('BLC_LR' + '.p', 'wb')) #Saving"
      ]
    },
    {
      "cell_type": "code",
      "execution_count": null,
      "id": "d2981eb7-0be7-4e80-96c1-28ea0a3ac96e",
      "metadata": {
        "id": "d2981eb7-0be7-4e80-96c1-28ea0a3ac96e"
      },
      "outputs": [],
      "source": [
        "del [BLC, BLC_LR] #deleting "
      ]
    },
    {
      "cell_type": "markdown",
      "id": "3deb1daa-02c9-43e3-a846-65ac15b1fd41",
      "metadata": {
        "tags": [],
        "id": "3deb1daa-02c9-43e3-a846-65ac15b1fd41"
      },
      "source": [
        "### ChIP Signals"
      ]
    },
    {
      "cell_type": "markdown",
      "id": "c1124b45-52c3-460e-838c-725ce0b6f5cd",
      "metadata": {
        "tags": [],
        "id": "c1124b45-52c3-460e-838c-725ce0b6f5cd"
      },
      "source": [
        "#### Histones"
      ]
    },
    {
      "cell_type": "markdown",
      "id": "8548c0e8-46f4-47b6-a460-a704d3105777",
      "metadata": {
        "id": "8548c0e8-46f4-47b6-a460-a704d3105777"
      },
      "source": [
        "Making a dictionary of histone SigCurrents. Each entry is also a dictionary for the replicates. "
      ]
    },
    {
      "cell_type": "code",
      "execution_count": null,
      "id": "ade924e8-72f8-4b12-bbf6-5e6e9e7ee41b",
      "metadata": {
        "id": "ade924e8-72f8-4b12-bbf6-5e6e9e7ee41b"
      },
      "outputs": [],
      "source": [
        "histone_reps = {}\n",
        "for h in histones: histone_reps[h] = {}"
      ]
    },
    {
      "cell_type": "markdown",
      "id": "b50815c7-796f-4cbe-a897-d3f098b5d4f0",
      "metadata": {
        "id": "b50815c7-796f-4cbe-a897-d3f098b5d4f0"
      },
      "source": [
        "SigCurrents produced from bam alignment files. Reads are single-end and are extended to 300bp.  \n",
        "*See First_steps for pre-work*"
      ]
    },
    {
      "cell_type": "code",
      "execution_count": null,
      "id": "3e4d50de-0619-4dfd-a10e-3aecd3289985",
      "metadata": {
        "id": "3e4d50de-0619-4dfd-a10e-3aecd3289985"
      },
      "outputs": [],
      "source": [
        "for index, row in data_source[data_source['target'].isin(histones)].iterrows(): \n",
        "    target, rep, newid = row['target'], row['rep'], row['newid']\n",
        "    histone_reps[target][rep] = Bam2Current('./bam/' + newid + '.bam', hg38_sizes, hg38_id, select_BS_ids = select_chrs, \n",
        "                                            newreso = CTReso, resomode = np.mean, stranded = False, read_length = 300, \n",
        "                                            paired = False, make_index = True, dtype = np.float32)\n",
        "\n",
        "pickle.dump(histone_reps, open('histone_reps' + '.p', 'wb')) #Saving"
      ]
    },
    {
      "cell_type": "markdown",
      "id": "49f85ac4-73e9-4785-a76b-2bc13a708604",
      "metadata": {
        "id": "49f85ac4-73e9-4785-a76b-2bc13a708604"
      },
      "source": [
        "Merging replicates by summing and storing in a new dictionary"
      ]
    },
    {
      "cell_type": "code",
      "execution_count": null,
      "id": "b13a36a3-2fc8-44c5-b381-e598939ec38b",
      "metadata": {
        "id": "b13a36a3-2fc8-44c5-b381-e598939ec38b"
      },
      "outputs": [],
      "source": [
        "histone_merged = {}\n",
        "for h in histone_reps.keys(): \n",
        "    histone_merged[h] = CurrentMerger(Currents2Current([histone_reps[h][e] for e in histone_reps[h].keys()]), mode = np.sum, dtype = np.float32) "
      ]
    },
    {
      "cell_type": "code",
      "execution_count": null,
      "id": "2493e565-5462-4c53-a58a-b7f51501857c",
      "metadata": {
        "id": "2493e565-5462-4c53-a58a-b7f51501857c"
      },
      "outputs": [],
      "source": [
        "del [histone_reps] #deleting"
      ]
    },
    {
      "cell_type": "markdown",
      "id": "46514fe7-f695-476a-a1dc-2c2747de5f37",
      "metadata": {
        "id": "46514fe7-f695-476a-a1dc-2c2747de5f37"
      },
      "source": [
        "Combining all merged replicates into a single signal Current. "
      ]
    },
    {
      "cell_type": "code",
      "execution_count": null,
      "id": "1982f0c1-db60-4df2-a097-6aa7d392686f",
      "metadata": {
        "id": "1982f0c1-db60-4df2-a097-6aa7d392686f"
      },
      "outputs": [],
      "source": [
        "histone_combined = Currents2Current([histone_merged[h] for h in histone_merged.keys()])\n",
        "\n",
        "pickle.dump(histone_combined, open('histone_combined' + '.p', 'wb')) #Saving"
      ]
    },
    {
      "cell_type": "code",
      "execution_count": null,
      "id": "49a816ea-1cf4-4b10-84ed-e22aade96dcd",
      "metadata": {
        "id": "49a816ea-1cf4-4b10-84ed-e22aade96dcd"
      },
      "outputs": [],
      "source": [
        "del [histone_merged] #deleting"
      ]
    },
    {
      "cell_type": "markdown",
      "id": "d63059ec-23f9-4b8e-8436-c08446f3ddc2",
      "metadata": {
        "id": "d63059ec-23f9-4b8e-8436-c08446f3ddc2"
      },
      "source": [
        "Zeroing signals in BLRs by multiplying Currents by CurrentModifier. BLC and BLC_LR, 0s are bad regions and 1s are good. "
      ]
    },
    {
      "cell_type": "code",
      "execution_count": null,
      "id": "9f009881-0063-45d9-9ef0-436aa1bc219f",
      "metadata": {
        "id": "9f009881-0063-45d9-9ef0-436aa1bc219f"
      },
      "outputs": [],
      "source": [
        "#histone_combined = pickle.load(open('histone_combined' + '.p', 'rb')) #loading\n",
        "\n",
        "BLC_LR = pickle.load(open('BLC_LR' + '.p', 'rb')) #loading\n",
        "\n",
        "histone_noBLR = CurrentModifier(histone_combined, BLC_LR, np.multiply) "
      ]
    },
    {
      "cell_type": "markdown",
      "id": "6ba79e82-eb4d-4879-b0fd-7c897702ffc8",
      "metadata": {
        "id": "6ba79e82-eb4d-4879-b0fd-7c897702ffc8"
      },
      "source": [
        "Min max normalizing values from 0 to max score for each signal in SigCurrent. "
      ]
    },
    {
      "cell_type": "code",
      "execution_count": null,
      "id": "c122d0fe-c58a-4259-a826-1674cdb56fea",
      "metadata": {
        "id": "c122d0fe-c58a-4259-a826-1674cdb56fea"
      },
      "outputs": [],
      "source": [
        "histone_norm = CurrentTransformer(histone_noBLR, minmax = (0, None), standardize = False, dtype = np.float32) \n",
        "\n",
        "pickle.dump(histone_norm, open('histone_norm' + '.p', 'wb')) #Saving"
      ]
    },
    {
      "cell_type": "code",
      "execution_count": null,
      "id": "76c1cd48-5bb2-42ff-b377-e4cbe891cea0",
      "metadata": {
        "tags": [],
        "id": "76c1cd48-5bb2-42ff-b377-e4cbe891cea0"
      },
      "outputs": [],
      "source": [
        "del [histone_combined, BLC_LR, histone_noBLR] #deleting"
      ]
    },
    {
      "cell_type": "markdown",
      "id": "a4a600da-56ee-4f92-9b41-440f6237cbf4",
      "metadata": {
        "tags": [],
        "id": "a4a600da-56ee-4f92-9b41-440f6237cbf4"
      },
      "source": [
        "#### Dead Regions"
      ]
    },
    {
      "cell_type": "markdown",
      "id": "ef17af2a-5789-41b9-999e-ec867527463c",
      "metadata": {
        "id": "ef17af2a-5789-41b9-999e-ec867527463c"
      },
      "source": [
        "Getting a Dead region Current by windowing, thresholding, then padding.  \n",
        "Dead region will be defined as not having any signal above 0.1 in a 2000bp window. "
      ]
    },
    {
      "cell_type": "code",
      "execution_count": null,
      "id": "e3b29dfb-5463-4d81-a64d-dfe9e85a62dd",
      "metadata": {
        "id": "e3b29dfb-5463-4d81-a64d-dfe9e85a62dd"
      },
      "outputs": [],
      "source": [
        "#histone_norm = pickle.load(open('histone_norm' + '.p', 'rb')) #loading\n",
        "\n",
        "DC = CurrentWindower(histone_norm, reso = CTReso, mode = np.max, window = 2000, center = True, extend = True, dtype = np.float32) \n",
        "DC = CurrentThresholder(DC, threshold = 0.1, threshsign = np.greater, binary = True) #Windows not passing threshold have a 0\n",
        "DC = CurrentPadder(DC, reso = CTReso, pad = 1000, shift = 0, value = 0, base = 1, dtype = np.int8) #Expanding 0s 1000bp each side to match initial 2000bp window\n",
        "\n",
        "pickle.dump(DC,  open('DC' + '.p', 'wb')) #Saving"
      ]
    },
    {
      "cell_type": "markdown",
      "id": "f3011a52-5988-44b6-b83a-1729ecceb6fa",
      "metadata": {
        "id": "f3011a52-5988-44b6-b83a-1729ecceb6fa"
      },
      "source": [
        "Merging Blacklist and Dead regions together to make a full filter Current (FT), aka a BadCurrent, keeping 0s in from both Currents by taking minumum. "
      ]
    },
    {
      "cell_type": "code",
      "execution_count": null,
      "id": "911426d6-81c7-416a-affe-9a8aad7a9b6a",
      "metadata": {
        "id": "911426d6-81c7-416a-affe-9a8aad7a9b6a"
      },
      "outputs": [],
      "source": [
        "#DC = pickle.load(open('DC' + '.p', 'rb')) #loading\n",
        "\n",
        "BLC_LR = pickle.load(open('BLC_LR' + '.p', 'rb')) #loading\n",
        "\n",
        "FT = CurrentMerger(Currents2Current([BLC_LR, DC]), mode = np.min) \n",
        "\n",
        "pickle.dump(FT, open('FT' + '.p', 'wb')) #Saving"
      ]
    },
    {
      "cell_type": "markdown",
      "id": "6a5d5865-dbdb-4758-8587-da3435f03f34",
      "metadata": {
        "id": "6a5d5865-dbdb-4758-8587-da3435f03f34"
      },
      "source": [
        "Making bp resolution Dead region Current for later use. "
      ]
    },
    {
      "cell_type": "code",
      "execution_count": null,
      "id": "d548f851-db3c-4c0f-87d1-396e5fc49fcc",
      "metadata": {
        "id": "d548f851-db3c-4c0f-87d1-396e5fc49fcc"
      },
      "outputs": [],
      "source": [
        "#FT = pickle.load(open('FT' + '.p', 'rb')) #loading\n",
        "\n",
        "FTE = CurrentExpander(FT, CTReso, hg38_sizes, hg38_id, select_BS_ids = select_chrs)\n",
        "\n",
        "pickle.dump(FTE, open('FTE' + '.p', 'wb')) #Saving"
      ]
    },
    {
      "cell_type": "code",
      "execution_count": null,
      "id": "ccd61134-af66-45db-a727-56ce6a2e5367",
      "metadata": {
        "id": "ccd61134-af66-45db-a727-56ce6a2e5367"
      },
      "outputs": [],
      "source": [
        "del [FTE] #deleting"
      ]
    },
    {
      "cell_type": "markdown",
      "id": "81945822-1c86-4ea6-89c3-25f68c8a6aa5",
      "metadata": {
        "id": "81945822-1c86-4ea6-89c3-25f68c8a6aa5"
      },
      "source": [
        "Inverting so that 0s are good and 1s are bad for later use. "
      ]
    },
    {
      "cell_type": "code",
      "execution_count": null,
      "id": "f2b38515-3d55-4d74-b597-d6c4cad5dc26",
      "metadata": {
        "id": "f2b38515-3d55-4d74-b597-d6c4cad5dc26"
      },
      "outputs": [],
      "source": [
        "#FT = pickle.load(open('FT' + '.p', 'rb')) #loading\n",
        "\n",
        "FTI = BinCurrentInverter(FT) \n",
        "\n",
        "pickle.dump(FTI, open('FTI' + '.p', 'wb')) #Saving"
      ]
    },
    {
      "cell_type": "code",
      "execution_count": null,
      "id": "1a088ff5-08c2-4120-a886-9fb75d4de03f",
      "metadata": {
        "id": "1a088ff5-08c2-4120-a886-9fb75d4de03f"
      },
      "outputs": [],
      "source": [
        "del [FTI] #deleting"
      ]
    },
    {
      "cell_type": "markdown",
      "id": "1a2ddfb4-de18-4155-b056-3caafcabe31b",
      "metadata": {
        "tags": [],
        "id": "1a2ddfb4-de18-4155-b056-3caafcabe31b"
      },
      "source": [
        "#### YY1"
      ]
    },
    {
      "cell_type": "markdown",
      "id": "b064a30d-fbb2-4bf9-95d6-b5d08f8eddf1",
      "metadata": {
        "id": "b064a30d-fbb2-4bf9-95d6-b5d08f8eddf1"
      },
      "source": [
        "Like with histones previously, making a dictionary of YY1 replicates SigCurrents.  \n",
        "SigCurrents produced from bam alignment files.  \n",
        "*See First_steps for pre-work*"
      ]
    },
    {
      "cell_type": "code",
      "execution_count": null,
      "id": "2a3dec34-cb51-4ad7-b5d3-02925c0341cb",
      "metadata": {
        "id": "2a3dec34-cb51-4ad7-b5d3-02925c0341cb"
      },
      "outputs": [],
      "source": [
        "YY1_reps = {}\n",
        "for index, row in data_source[data_source['target'] == 'YY1'].iterrows(): \n",
        "    rep, newid = row['rep'], row['newid']\n",
        "    YY1_reps[rep] = Bam2Current('./bam/' + newid + '.bam', hg38_sizes, hg38_id, select_BS_ids = select_chrs, \n",
        "                                newreso = CTReso, resomode = np.mean, stranded = False, read_length = 300, \n",
        "                                paired = False, make_index = True, dtype = np.float32)\n",
        "\n",
        "pickle.dump(YY1_reps, open('YY1_reps' + '.p', 'wb')) #Saving"
      ]
    },
    {
      "cell_type": "markdown",
      "id": "bdd1d9a2-db80-46dd-a862-3fa1e2bb0785",
      "metadata": {
        "id": "bdd1d9a2-db80-46dd-a862-3fa1e2bb0785"
      },
      "source": [
        "Like with histones previously, merging replicates by summing, zeroing Blacklist region signals, and min max normalizing. "
      ]
    },
    {
      "cell_type": "code",
      "execution_count": null,
      "id": "dff1b853-ffb5-4c67-a326-151934f0aa2c",
      "metadata": {
        "id": "dff1b853-ffb5-4c67-a326-151934f0aa2c"
      },
      "outputs": [],
      "source": [
        "#YY1_reps = pickle.load(open('YY1_reps' + '.p', 'rb')) #loading\n",
        "BLC_LR = pickle.load(open('BLC_LR' + '.p', 'rb')) #loading#\n",
        "\n",
        "YY1_merged = CurrentMerger(Currents2Current([YY1_reps[r] for r in YY1_reps.keys()]), mode = np.sum, dtype = np.float32)\n",
        "\n",
        "YY1_noBLR = CurrentModifier(YY1_merged, BLC_LR, np.multiply, dtype = np.float32)\n",
        "\n",
        "YY1_norm = CurrentTransformer(YY1_noBLR, minmax = (0, None), standardize = False, dtype = np.float32)\n",
        "\n",
        "pickle.dump(YY1_norm, open('YY1_norm' + '.p', 'wb')) #Saving"
      ]
    },
    {
      "cell_type": "code",
      "execution_count": null,
      "id": "a446dcc3-b16a-463a-9378-70b211819a1d",
      "metadata": {
        "id": "a446dcc3-b16a-463a-9378-70b211819a1d"
      },
      "outputs": [],
      "source": [
        "del [YY1_merged, YY1_noBLR, YY1_norm]"
      ]
    },
    {
      "cell_type": "markdown",
      "id": "dad90c55-e812-45f7-bfbb-06a39ff09c02",
      "metadata": {
        "tags": [],
        "id": "dad90c55-e812-45f7-bfbb-06a39ff09c02"
      },
      "source": [
        "### YY1 Peaks"
      ]
    },
    {
      "cell_type": "markdown",
      "id": "c14f2b4e-01c4-4c3b-bc2f-186e95e3759f",
      "metadata": {
        "id": "c14f2b4e-01c4-4c3b-bc2f-186e95e3759f"
      },
      "source": [
        "Making Markers from YY1 peaks.  \n",
        "*See First_steps for pre-work*"
      ]
    },
    {
      "cell_type": "code",
      "execution_count": null,
      "id": "0c43bc36-e5ca-40c1-94d8-e5bf03b13874",
      "metadata": {
        "colab": {
          "base_uri": "https://localhost:8080/",
          "height": 424
        },
        "id": "0c43bc36-e5ca-40c1-94d8-e5bf03b13874",
        "outputId": "7d99ac60-6f8d-40b1-dbb7-80df8c3ad751"
      },
      "outputs": [
        {
          "output_type": "execute_result",
          "data": {
            "text/plain": [
              "     subseq        loc  strand  size     add4\n",
              "0      chr1     778560       0   100  193.965\n",
              "1      chr1     959185       0   100  236.246\n",
              "2      chr1    1231946       0   100  293.486\n",
              "3      chr1    1273793       0   100  319.671\n",
              "4      chr1    1399262       0   100  284.429\n",
              "...     ...        ...     ...   ...      ...\n",
              "2995   chrX  154437081       0   100  255.714\n",
              "2996   chrX  154516170       0   100  270.880\n",
              "2997   chrX  154762904       0   100  195.129\n",
              "2998   chrX  155071473       0   100  245.130\n",
              "2999   chrX  155216434       0   100  263.190\n",
              "\n",
              "[3000 rows x 5 columns]"
            ],
            "text/html": [
              "\n",
              "  <div id=\"df-15c24fec-af7c-4baa-827d-5a2f1e707ef8\">\n",
              "    <div class=\"colab-df-container\">\n",
              "      <div>\n",
              "<style scoped>\n",
              "    .dataframe tbody tr th:only-of-type {\n",
              "        vertical-align: middle;\n",
              "    }\n",
              "\n",
              "    .dataframe tbody tr th {\n",
              "        vertical-align: top;\n",
              "    }\n",
              "\n",
              "    .dataframe thead th {\n",
              "        text-align: right;\n",
              "    }\n",
              "</style>\n",
              "<table border=\"1\" class=\"dataframe\">\n",
              "  <thead>\n",
              "    <tr style=\"text-align: right;\">\n",
              "      <th></th>\n",
              "      <th>subseq</th>\n",
              "      <th>loc</th>\n",
              "      <th>strand</th>\n",
              "      <th>size</th>\n",
              "      <th>add4</th>\n",
              "    </tr>\n",
              "  </thead>\n",
              "  <tbody>\n",
              "    <tr>\n",
              "      <th>0</th>\n",
              "      <td>chr1</td>\n",
              "      <td>778560</td>\n",
              "      <td>0</td>\n",
              "      <td>100</td>\n",
              "      <td>193.965</td>\n",
              "    </tr>\n",
              "    <tr>\n",
              "      <th>1</th>\n",
              "      <td>chr1</td>\n",
              "      <td>959185</td>\n",
              "      <td>0</td>\n",
              "      <td>100</td>\n",
              "      <td>236.246</td>\n",
              "    </tr>\n",
              "    <tr>\n",
              "      <th>2</th>\n",
              "      <td>chr1</td>\n",
              "      <td>1231946</td>\n",
              "      <td>0</td>\n",
              "      <td>100</td>\n",
              "      <td>293.486</td>\n",
              "    </tr>\n",
              "    <tr>\n",
              "      <th>3</th>\n",
              "      <td>chr1</td>\n",
              "      <td>1273793</td>\n",
              "      <td>0</td>\n",
              "      <td>100</td>\n",
              "      <td>319.671</td>\n",
              "    </tr>\n",
              "    <tr>\n",
              "      <th>4</th>\n",
              "      <td>chr1</td>\n",
              "      <td>1399262</td>\n",
              "      <td>0</td>\n",
              "      <td>100</td>\n",
              "      <td>284.429</td>\n",
              "    </tr>\n",
              "    <tr>\n",
              "      <th>...</th>\n",
              "      <td>...</td>\n",
              "      <td>...</td>\n",
              "      <td>...</td>\n",
              "      <td>...</td>\n",
              "      <td>...</td>\n",
              "    </tr>\n",
              "    <tr>\n",
              "      <th>2995</th>\n",
              "      <td>chrX</td>\n",
              "      <td>154437081</td>\n",
              "      <td>0</td>\n",
              "      <td>100</td>\n",
              "      <td>255.714</td>\n",
              "    </tr>\n",
              "    <tr>\n",
              "      <th>2996</th>\n",
              "      <td>chrX</td>\n",
              "      <td>154516170</td>\n",
              "      <td>0</td>\n",
              "      <td>100</td>\n",
              "      <td>270.880</td>\n",
              "    </tr>\n",
              "    <tr>\n",
              "      <th>2997</th>\n",
              "      <td>chrX</td>\n",
              "      <td>154762904</td>\n",
              "      <td>0</td>\n",
              "      <td>100</td>\n",
              "      <td>195.129</td>\n",
              "    </tr>\n",
              "    <tr>\n",
              "      <th>2998</th>\n",
              "      <td>chrX</td>\n",
              "      <td>155071473</td>\n",
              "      <td>0</td>\n",
              "      <td>100</td>\n",
              "      <td>245.130</td>\n",
              "    </tr>\n",
              "    <tr>\n",
              "      <th>2999</th>\n",
              "      <td>chrX</td>\n",
              "      <td>155216434</td>\n",
              "      <td>0</td>\n",
              "      <td>100</td>\n",
              "      <td>263.190</td>\n",
              "    </tr>\n",
              "  </tbody>\n",
              "</table>\n",
              "<p>3000 rows × 5 columns</p>\n",
              "</div>\n",
              "      <button class=\"colab-df-convert\" onclick=\"convertToInteractive('df-15c24fec-af7c-4baa-827d-5a2f1e707ef8')\"\n",
              "              title=\"Convert this dataframe to an interactive table.\"\n",
              "              style=\"display:none;\">\n",
              "        \n",
              "  <svg xmlns=\"http://www.w3.org/2000/svg\" height=\"24px\"viewBox=\"0 0 24 24\"\n",
              "       width=\"24px\">\n",
              "    <path d=\"M0 0h24v24H0V0z\" fill=\"none\"/>\n",
              "    <path d=\"M18.56 5.44l.94 2.06.94-2.06 2.06-.94-2.06-.94-.94-2.06-.94 2.06-2.06.94zm-11 1L8.5 8.5l.94-2.06 2.06-.94-2.06-.94L8.5 2.5l-.94 2.06-2.06.94zm10 10l.94 2.06.94-2.06 2.06-.94-2.06-.94-.94-2.06-.94 2.06-2.06.94z\"/><path d=\"M17.41 7.96l-1.37-1.37c-.4-.4-.92-.59-1.43-.59-.52 0-1.04.2-1.43.59L10.3 9.45l-7.72 7.72c-.78.78-.78 2.05 0 2.83L4 21.41c.39.39.9.59 1.41.59.51 0 1.02-.2 1.41-.59l7.78-7.78 2.81-2.81c.8-.78.8-2.07 0-2.86zM5.41 20L4 18.59l7.72-7.72 1.47 1.35L5.41 20z\"/>\n",
              "  </svg>\n",
              "      </button>\n",
              "      \n",
              "  <style>\n",
              "    .colab-df-container {\n",
              "      display:flex;\n",
              "      flex-wrap:wrap;\n",
              "      gap: 12px;\n",
              "    }\n",
              "\n",
              "    .colab-df-convert {\n",
              "      background-color: #E8F0FE;\n",
              "      border: none;\n",
              "      border-radius: 50%;\n",
              "      cursor: pointer;\n",
              "      display: none;\n",
              "      fill: #1967D2;\n",
              "      height: 32px;\n",
              "      padding: 0 0 0 0;\n",
              "      width: 32px;\n",
              "    }\n",
              "\n",
              "    .colab-df-convert:hover {\n",
              "      background-color: #E2EBFA;\n",
              "      box-shadow: 0px 1px 2px rgba(60, 64, 67, 0.3), 0px 1px 3px 1px rgba(60, 64, 67, 0.15);\n",
              "      fill: #174EA6;\n",
              "    }\n",
              "\n",
              "    [theme=dark] .colab-df-convert {\n",
              "      background-color: #3B4455;\n",
              "      fill: #D2E3FC;\n",
              "    }\n",
              "\n",
              "    [theme=dark] .colab-df-convert:hover {\n",
              "      background-color: #434B5C;\n",
              "      box-shadow: 0px 1px 3px 1px rgba(0, 0, 0, 0.15);\n",
              "      filter: drop-shadow(0px 1px 2px rgba(0, 0, 0, 0.3));\n",
              "      fill: #FFFFFF;\n",
              "    }\n",
              "  </style>\n",
              "\n",
              "      <script>\n",
              "        const buttonEl =\n",
              "          document.querySelector('#df-15c24fec-af7c-4baa-827d-5a2f1e707ef8 button.colab-df-convert');\n",
              "        buttonEl.style.display =\n",
              "          google.colab.kernel.accessAllowed ? 'block' : 'none';\n",
              "\n",
              "        async function convertToInteractive(key) {\n",
              "          const element = document.querySelector('#df-15c24fec-af7c-4baa-827d-5a2f1e707ef8');\n",
              "          const dataTable =\n",
              "            await google.colab.kernel.invokeFunction('convertToInteractive',\n",
              "                                                     [key], {});\n",
              "          if (!dataTable) return;\n",
              "\n",
              "          const docLinkHtml = 'Like what you see? Visit the ' +\n",
              "            '<a target=\"_blank\" href=https://colab.research.google.com/notebooks/data_table.ipynb>data table notebook</a>'\n",
              "            + ' to learn more about interactive tables.';\n",
              "          element.innerHTML = '';\n",
              "          dataTable['output_type'] = 'display_data';\n",
              "          await google.colab.output.renderOutput(dataTable, element);\n",
              "          const docLink = document.createElement('div');\n",
              "          docLink.innerHTML = docLinkHtml;\n",
              "          element.appendChild(docLink);\n",
              "        }\n",
              "      </script>\n",
              "    </div>\n",
              "  </div>\n",
              "  "
            ]
          },
          "metadata": {},
          "execution_count": 44
        }
      ],
      "source": [
        "YY1peaks = Bed2Markers('YY1_summits_toppeaks.bed', addcols = [4])\n",
        "YY1peaks"
      ]
    },
    {
      "cell_type": "markdown",
      "id": "ad1d8fe0-fab5-4700-9b48-8ccc46740a9a",
      "metadata": {
        "id": "ad1d8fe0-fab5-4700-9b48-8ccc46740a9a"
      },
      "source": [
        "Filter YY1 peaks Marker to only include select_chrs and remove those within 400bp of a full filtered region. "
      ]
    },
    {
      "cell_type": "code",
      "execution_count": null,
      "id": "345394dc-a9a1-4791-96e3-06c9b652a5f1",
      "metadata": {
        "colab": {
          "base_uri": "https://localhost:8080/",
          "height": 424
        },
        "id": "345394dc-a9a1-4791-96e3-06c9b652a5f1",
        "outputId": "1bc80478-32e5-4337-faed-5fbbf6d425d0"
      },
      "outputs": [
        {
          "output_type": "execute_result",
          "data": {
            "text/plain": [
              "    subseq        loc  strand  size     add4\n",
              "0     chr3    3179634       0   100  238.511\n",
              "1     chr3    4467187       0   100  241.612\n",
              "2     chr3    9397134       0   100  177.039\n",
              "3     chr3    9897902       0   100  177.458\n",
              "4     chr3   10115654       0   100  196.316\n",
              "..     ...        ...     ...   ...      ...\n",
              "151   chr3  196739874       0   100  246.127\n",
              "152   chr3  197298080       0   100  276.323\n",
              "153   chr3  197791236       0   100  297.556\n",
              "154   chr3  197950155       0   100  238.640\n",
              "155   chr3  197960198       0   100  271.288\n",
              "\n",
              "[156 rows x 5 columns]"
            ],
            "text/html": [
              "\n",
              "  <div id=\"df-06e6d30a-47d6-492e-a7ac-893ee78eb656\">\n",
              "    <div class=\"colab-df-container\">\n",
              "      <div>\n",
              "<style scoped>\n",
              "    .dataframe tbody tr th:only-of-type {\n",
              "        vertical-align: middle;\n",
              "    }\n",
              "\n",
              "    .dataframe tbody tr th {\n",
              "        vertical-align: top;\n",
              "    }\n",
              "\n",
              "    .dataframe thead th {\n",
              "        text-align: right;\n",
              "    }\n",
              "</style>\n",
              "<table border=\"1\" class=\"dataframe\">\n",
              "  <thead>\n",
              "    <tr style=\"text-align: right;\">\n",
              "      <th></th>\n",
              "      <th>subseq</th>\n",
              "      <th>loc</th>\n",
              "      <th>strand</th>\n",
              "      <th>size</th>\n",
              "      <th>add4</th>\n",
              "    </tr>\n",
              "  </thead>\n",
              "  <tbody>\n",
              "    <tr>\n",
              "      <th>0</th>\n",
              "      <td>chr3</td>\n",
              "      <td>3179634</td>\n",
              "      <td>0</td>\n",
              "      <td>100</td>\n",
              "      <td>238.511</td>\n",
              "    </tr>\n",
              "    <tr>\n",
              "      <th>1</th>\n",
              "      <td>chr3</td>\n",
              "      <td>4467187</td>\n",
              "      <td>0</td>\n",
              "      <td>100</td>\n",
              "      <td>241.612</td>\n",
              "    </tr>\n",
              "    <tr>\n",
              "      <th>2</th>\n",
              "      <td>chr3</td>\n",
              "      <td>9397134</td>\n",
              "      <td>0</td>\n",
              "      <td>100</td>\n",
              "      <td>177.039</td>\n",
              "    </tr>\n",
              "    <tr>\n",
              "      <th>3</th>\n",
              "      <td>chr3</td>\n",
              "      <td>9897902</td>\n",
              "      <td>0</td>\n",
              "      <td>100</td>\n",
              "      <td>177.458</td>\n",
              "    </tr>\n",
              "    <tr>\n",
              "      <th>4</th>\n",
              "      <td>chr3</td>\n",
              "      <td>10115654</td>\n",
              "      <td>0</td>\n",
              "      <td>100</td>\n",
              "      <td>196.316</td>\n",
              "    </tr>\n",
              "    <tr>\n",
              "      <th>...</th>\n",
              "      <td>...</td>\n",
              "      <td>...</td>\n",
              "      <td>...</td>\n",
              "      <td>...</td>\n",
              "      <td>...</td>\n",
              "    </tr>\n",
              "    <tr>\n",
              "      <th>151</th>\n",
              "      <td>chr3</td>\n",
              "      <td>196739874</td>\n",
              "      <td>0</td>\n",
              "      <td>100</td>\n",
              "      <td>246.127</td>\n",
              "    </tr>\n",
              "    <tr>\n",
              "      <th>152</th>\n",
              "      <td>chr3</td>\n",
              "      <td>197298080</td>\n",
              "      <td>0</td>\n",
              "      <td>100</td>\n",
              "      <td>276.323</td>\n",
              "    </tr>\n",
              "    <tr>\n",
              "      <th>153</th>\n",
              "      <td>chr3</td>\n",
              "      <td>197791236</td>\n",
              "      <td>0</td>\n",
              "      <td>100</td>\n",
              "      <td>297.556</td>\n",
              "    </tr>\n",
              "    <tr>\n",
              "      <th>154</th>\n",
              "      <td>chr3</td>\n",
              "      <td>197950155</td>\n",
              "      <td>0</td>\n",
              "      <td>100</td>\n",
              "      <td>238.640</td>\n",
              "    </tr>\n",
              "    <tr>\n",
              "      <th>155</th>\n",
              "      <td>chr3</td>\n",
              "      <td>197960198</td>\n",
              "      <td>0</td>\n",
              "      <td>100</td>\n",
              "      <td>271.288</td>\n",
              "    </tr>\n",
              "  </tbody>\n",
              "</table>\n",
              "<p>156 rows × 5 columns</p>\n",
              "</div>\n",
              "      <button class=\"colab-df-convert\" onclick=\"convertToInteractive('df-06e6d30a-47d6-492e-a7ac-893ee78eb656')\"\n",
              "              title=\"Convert this dataframe to an interactive table.\"\n",
              "              style=\"display:none;\">\n",
              "        \n",
              "  <svg xmlns=\"http://www.w3.org/2000/svg\" height=\"24px\"viewBox=\"0 0 24 24\"\n",
              "       width=\"24px\">\n",
              "    <path d=\"M0 0h24v24H0V0z\" fill=\"none\"/>\n",
              "    <path d=\"M18.56 5.44l.94 2.06.94-2.06 2.06-.94-2.06-.94-.94-2.06-.94 2.06-2.06.94zm-11 1L8.5 8.5l.94-2.06 2.06-.94-2.06-.94L8.5 2.5l-.94 2.06-2.06.94zm10 10l.94 2.06.94-2.06 2.06-.94-2.06-.94-.94-2.06-.94 2.06-2.06.94z\"/><path d=\"M17.41 7.96l-1.37-1.37c-.4-.4-.92-.59-1.43-.59-.52 0-1.04.2-1.43.59L10.3 9.45l-7.72 7.72c-.78.78-.78 2.05 0 2.83L4 21.41c.39.39.9.59 1.41.59.51 0 1.02-.2 1.41-.59l7.78-7.78 2.81-2.81c.8-.78.8-2.07 0-2.86zM5.41 20L4 18.59l7.72-7.72 1.47 1.35L5.41 20z\"/>\n",
              "  </svg>\n",
              "      </button>\n",
              "      \n",
              "  <style>\n",
              "    .colab-df-container {\n",
              "      display:flex;\n",
              "      flex-wrap:wrap;\n",
              "      gap: 12px;\n",
              "    }\n",
              "\n",
              "    .colab-df-convert {\n",
              "      background-color: #E8F0FE;\n",
              "      border: none;\n",
              "      border-radius: 50%;\n",
              "      cursor: pointer;\n",
              "      display: none;\n",
              "      fill: #1967D2;\n",
              "      height: 32px;\n",
              "      padding: 0 0 0 0;\n",
              "      width: 32px;\n",
              "    }\n",
              "\n",
              "    .colab-df-convert:hover {\n",
              "      background-color: #E2EBFA;\n",
              "      box-shadow: 0px 1px 2px rgba(60, 64, 67, 0.3), 0px 1px 3px 1px rgba(60, 64, 67, 0.15);\n",
              "      fill: #174EA6;\n",
              "    }\n",
              "\n",
              "    [theme=dark] .colab-df-convert {\n",
              "      background-color: #3B4455;\n",
              "      fill: #D2E3FC;\n",
              "    }\n",
              "\n",
              "    [theme=dark] .colab-df-convert:hover {\n",
              "      background-color: #434B5C;\n",
              "      box-shadow: 0px 1px 3px 1px rgba(0, 0, 0, 0.15);\n",
              "      filter: drop-shadow(0px 1px 2px rgba(0, 0, 0, 0.3));\n",
              "      fill: #FFFFFF;\n",
              "    }\n",
              "  </style>\n",
              "\n",
              "      <script>\n",
              "        const buttonEl =\n",
              "          document.querySelector('#df-06e6d30a-47d6-492e-a7ac-893ee78eb656 button.colab-df-convert');\n",
              "        buttonEl.style.display =\n",
              "          google.colab.kernel.accessAllowed ? 'block' : 'none';\n",
              "\n",
              "        async function convertToInteractive(key) {\n",
              "          const element = document.querySelector('#df-06e6d30a-47d6-492e-a7ac-893ee78eb656');\n",
              "          const dataTable =\n",
              "            await google.colab.kernel.invokeFunction('convertToInteractive',\n",
              "                                                     [key], {});\n",
              "          if (!dataTable) return;\n",
              "\n",
              "          const docLinkHtml = 'Like what you see? Visit the ' +\n",
              "            '<a target=\"_blank\" href=https://colab.research.google.com/notebooks/data_table.ipynb>data table notebook</a>'\n",
              "            + ' to learn more about interactive tables.';\n",
              "          element.innerHTML = '';\n",
              "          dataTable['output_type'] = 'display_data';\n",
              "          await google.colab.output.renderOutput(dataTable, element);\n",
              "          const docLink = document.createElement('div');\n",
              "          docLink.innerHTML = docLinkHtml;\n",
              "          element.appendChild(docLink);\n",
              "        }\n",
              "      </script>\n",
              "    </div>\n",
              "  </div>\n",
              "  "
            ]
          },
          "metadata": {},
          "execution_count": 45
        }
      ],
      "source": [
        "FTI = pickle.load(open('FTI' + '.p', 'rb')) #Loading\n",
        "\n",
        "YY1peaks_filt = MarkersFilter(YY1peaks, FTI, hg38_id, select_BS_ids = select_chrs, reso = CTReso, exact = False, \n",
        "                              Msizes = [400], threshold = 0, threshmode = np.sum, threshsign = np.equal)\n",
        "\n",
        "pickle.dump(YY1peaks_filt, open('YY1peaks_filt' + '.p', 'wb')) #Saving\n",
        "\n",
        "YY1peaks_filt"
      ]
    },
    {
      "cell_type": "markdown",
      "id": "b1e9cc3a-f224-451a-a2be-ee04fdd9c9e9",
      "metadata": {
        "id": "b1e9cc3a-f224-451a-a2be-ee04fdd9c9e9"
      },
      "source": [
        "Modifying Markers to be used for Pack generation. Both strands are used (opposite = True) and no marker in the ends of 5000bp. "
      ]
    },
    {
      "cell_type": "code",
      "execution_count": null,
      "id": "47a80ddf-d126-46f7-a5ae-c16e82282aff",
      "metadata": {
        "colab": {
          "base_uri": "https://localhost:8080/",
          "height": 424
        },
        "id": "47a80ddf-d126-46f7-a5ae-c16e82282aff",
        "outputId": "620371ea-039c-4f51-9985-7eb296c05fdf"
      },
      "outputs": [
        {
          "output_type": "execute_result",
          "data": {
            "text/plain": [
              "    subseq        loc  strand  size     add4\n",
              "0     chr3    3179634       0   100  238.511\n",
              "1     chr3    3179634       1   100  238.511\n",
              "2     chr3    4467187       0   100  241.612\n",
              "3     chr3    4467187       1   100  241.612\n",
              "4     chr3    9397134       0   100  177.039\n",
              "..     ...        ...     ...   ...      ...\n",
              "307   chr3  197791236       1   100  297.556\n",
              "308   chr3  197950155       0   100  238.640\n",
              "309   chr3  197950155       1   100  238.640\n",
              "310   chr3  197960198       0   100  271.288\n",
              "311   chr3  197960198       1   100  271.288\n",
              "\n",
              "[312 rows x 5 columns]"
            ],
            "text/html": [
              "\n",
              "  <div id=\"df-a4d49000-dd07-44a3-a33c-50b7ba87705a\">\n",
              "    <div class=\"colab-df-container\">\n",
              "      <div>\n",
              "<style scoped>\n",
              "    .dataframe tbody tr th:only-of-type {\n",
              "        vertical-align: middle;\n",
              "    }\n",
              "\n",
              "    .dataframe tbody tr th {\n",
              "        vertical-align: top;\n",
              "    }\n",
              "\n",
              "    .dataframe thead th {\n",
              "        text-align: right;\n",
              "    }\n",
              "</style>\n",
              "<table border=\"1\" class=\"dataframe\">\n",
              "  <thead>\n",
              "    <tr style=\"text-align: right;\">\n",
              "      <th></th>\n",
              "      <th>subseq</th>\n",
              "      <th>loc</th>\n",
              "      <th>strand</th>\n",
              "      <th>size</th>\n",
              "      <th>add4</th>\n",
              "    </tr>\n",
              "  </thead>\n",
              "  <tbody>\n",
              "    <tr>\n",
              "      <th>0</th>\n",
              "      <td>chr3</td>\n",
              "      <td>3179634</td>\n",
              "      <td>0</td>\n",
              "      <td>100</td>\n",
              "      <td>238.511</td>\n",
              "    </tr>\n",
              "    <tr>\n",
              "      <th>1</th>\n",
              "      <td>chr3</td>\n",
              "      <td>3179634</td>\n",
              "      <td>1</td>\n",
              "      <td>100</td>\n",
              "      <td>238.511</td>\n",
              "    </tr>\n",
              "    <tr>\n",
              "      <th>2</th>\n",
              "      <td>chr3</td>\n",
              "      <td>4467187</td>\n",
              "      <td>0</td>\n",
              "      <td>100</td>\n",
              "      <td>241.612</td>\n",
              "    </tr>\n",
              "    <tr>\n",
              "      <th>3</th>\n",
              "      <td>chr3</td>\n",
              "      <td>4467187</td>\n",
              "      <td>1</td>\n",
              "      <td>100</td>\n",
              "      <td>241.612</td>\n",
              "    </tr>\n",
              "    <tr>\n",
              "      <th>4</th>\n",
              "      <td>chr3</td>\n",
              "      <td>9397134</td>\n",
              "      <td>0</td>\n",
              "      <td>100</td>\n",
              "      <td>177.039</td>\n",
              "    </tr>\n",
              "    <tr>\n",
              "      <th>...</th>\n",
              "      <td>...</td>\n",
              "      <td>...</td>\n",
              "      <td>...</td>\n",
              "      <td>...</td>\n",
              "      <td>...</td>\n",
              "    </tr>\n",
              "    <tr>\n",
              "      <th>307</th>\n",
              "      <td>chr3</td>\n",
              "      <td>197791236</td>\n",
              "      <td>1</td>\n",
              "      <td>100</td>\n",
              "      <td>297.556</td>\n",
              "    </tr>\n",
              "    <tr>\n",
              "      <th>308</th>\n",
              "      <td>chr3</td>\n",
              "      <td>197950155</td>\n",
              "      <td>0</td>\n",
              "      <td>100</td>\n",
              "      <td>238.640</td>\n",
              "    </tr>\n",
              "    <tr>\n",
              "      <th>309</th>\n",
              "      <td>chr3</td>\n",
              "      <td>197950155</td>\n",
              "      <td>1</td>\n",
              "      <td>100</td>\n",
              "      <td>238.640</td>\n",
              "    </tr>\n",
              "    <tr>\n",
              "      <th>310</th>\n",
              "      <td>chr3</td>\n",
              "      <td>197960198</td>\n",
              "      <td>0</td>\n",
              "      <td>100</td>\n",
              "      <td>271.288</td>\n",
              "    </tr>\n",
              "    <tr>\n",
              "      <th>311</th>\n",
              "      <td>chr3</td>\n",
              "      <td>197960198</td>\n",
              "      <td>1</td>\n",
              "      <td>100</td>\n",
              "      <td>271.288</td>\n",
              "    </tr>\n",
              "  </tbody>\n",
              "</table>\n",
              "<p>312 rows × 5 columns</p>\n",
              "</div>\n",
              "      <button class=\"colab-df-convert\" onclick=\"convertToInteractive('df-a4d49000-dd07-44a3-a33c-50b7ba87705a')\"\n",
              "              title=\"Convert this dataframe to an interactive table.\"\n",
              "              style=\"display:none;\">\n",
              "        \n",
              "  <svg xmlns=\"http://www.w3.org/2000/svg\" height=\"24px\"viewBox=\"0 0 24 24\"\n",
              "       width=\"24px\">\n",
              "    <path d=\"M0 0h24v24H0V0z\" fill=\"none\"/>\n",
              "    <path d=\"M18.56 5.44l.94 2.06.94-2.06 2.06-.94-2.06-.94-.94-2.06-.94 2.06-2.06.94zm-11 1L8.5 8.5l.94-2.06 2.06-.94-2.06-.94L8.5 2.5l-.94 2.06-2.06.94zm10 10l.94 2.06.94-2.06 2.06-.94-2.06-.94-.94-2.06-.94 2.06-2.06.94z\"/><path d=\"M17.41 7.96l-1.37-1.37c-.4-.4-.92-.59-1.43-.59-.52 0-1.04.2-1.43.59L10.3 9.45l-7.72 7.72c-.78.78-.78 2.05 0 2.83L4 21.41c.39.39.9.59 1.41.59.51 0 1.02-.2 1.41-.59l7.78-7.78 2.81-2.81c.8-.78.8-2.07 0-2.86zM5.41 20L4 18.59l7.72-7.72 1.47 1.35L5.41 20z\"/>\n",
              "  </svg>\n",
              "      </button>\n",
              "      \n",
              "  <style>\n",
              "    .colab-df-container {\n",
              "      display:flex;\n",
              "      flex-wrap:wrap;\n",
              "      gap: 12px;\n",
              "    }\n",
              "\n",
              "    .colab-df-convert {\n",
              "      background-color: #E8F0FE;\n",
              "      border: none;\n",
              "      border-radius: 50%;\n",
              "      cursor: pointer;\n",
              "      display: none;\n",
              "      fill: #1967D2;\n",
              "      height: 32px;\n",
              "      padding: 0 0 0 0;\n",
              "      width: 32px;\n",
              "    }\n",
              "\n",
              "    .colab-df-convert:hover {\n",
              "      background-color: #E2EBFA;\n",
              "      box-shadow: 0px 1px 2px rgba(60, 64, 67, 0.3), 0px 1px 3px 1px rgba(60, 64, 67, 0.15);\n",
              "      fill: #174EA6;\n",
              "    }\n",
              "\n",
              "    [theme=dark] .colab-df-convert {\n",
              "      background-color: #3B4455;\n",
              "      fill: #D2E3FC;\n",
              "    }\n",
              "\n",
              "    [theme=dark] .colab-df-convert:hover {\n",
              "      background-color: #434B5C;\n",
              "      box-shadow: 0px 1px 3px 1px rgba(0, 0, 0, 0.15);\n",
              "      filter: drop-shadow(0px 1px 2px rgba(0, 0, 0, 0.3));\n",
              "      fill: #FFFFFF;\n",
              "    }\n",
              "  </style>\n",
              "\n",
              "      <script>\n",
              "        const buttonEl =\n",
              "          document.querySelector('#df-a4d49000-dd07-44a3-a33c-50b7ba87705a button.colab-df-convert');\n",
              "        buttonEl.style.display =\n",
              "          google.colab.kernel.accessAllowed ? 'block' : 'none';\n",
              "\n",
              "        async function convertToInteractive(key) {\n",
              "          const element = document.querySelector('#df-a4d49000-dd07-44a3-a33c-50b7ba87705a');\n",
              "          const dataTable =\n",
              "            await google.colab.kernel.invokeFunction('convertToInteractive',\n",
              "                                                     [key], {});\n",
              "          if (!dataTable) return;\n",
              "\n",
              "          const docLinkHtml = 'Like what you see? Visit the ' +\n",
              "            '<a target=\"_blank\" href=https://colab.research.google.com/notebooks/data_table.ipynb>data table notebook</a>'\n",
              "            + ' to learn more about interactive tables.';\n",
              "          element.innerHTML = '';\n",
              "          dataTable['output_type'] = 'display_data';\n",
              "          await google.colab.output.renderOutput(dataTable, element);\n",
              "          const docLink = document.createElement('div');\n",
              "          docLink.innerHTML = docLinkHtml;\n",
              "          element.appendChild(docLink);\n",
              "        }\n",
              "      </script>\n",
              "    </div>\n",
              "  </div>\n",
              "  "
            ]
          },
          "metadata": {},
          "execution_count": 46
        }
      ],
      "source": [
        "YY1peaks_ready = Markers4Packs(YY1peaks_filt, select_BS_ids = None, opposite = True, \n",
        "                                 ends = 5000, BS_sizes = hg38_sizes, BS_ids = hg38_id)\n",
        "YY1peaks_ready"
      ]
    },
    {
      "cell_type": "markdown",
      "id": "54ffcca5-e5cc-4fc5-83b9-76e0ee617144",
      "metadata": {
        "id": "54ffcca5-e5cc-4fc5-83b9-76e0ee617144"
      },
      "source": [
        "Getting YY1 signal (1000bp) over the Markers using SigCurrent2Pack. "
      ]
    },
    {
      "cell_type": "code",
      "execution_count": null,
      "id": "8a5452f7-4a71-42b7-858e-98336a16f36d",
      "metadata": {
        "colab": {
          "base_uri": "https://localhost:8080/"
        },
        "id": "8a5452f7-4a71-42b7-858e-98336a16f36d",
        "outputId": "993e139e-f9f4-4f48-9ee9-8ab868b56f4f"
      },
      "outputs": [
        {
          "output_type": "execute_result",
          "data": {
            "text/plain": [
              "(312, 1, 10)"
            ]
          },
          "metadata": {},
          "execution_count": 48
        }
      ],
      "source": [
        "YY1_norm = pickle.load(open('YY1_norm' + '.p', 'rb')) #Loading\n",
        "\n",
        "YY1_overpeaks = SigCurrent2Pack(YY1_norm, YY1peaks_ready, hg38_id, select_BS_ids = select_chrs, Vsize = 1000, reso = CTReso, \n",
        "                                newreso = None, resomode = np.mean, areas = None, exact = True, stranded = True, dtype = np.float32)\n",
        "YY1_overpeaks.shape"
      ]
    },
    {
      "cell_type": "markdown",
      "id": "b54bee2a-5577-4068-b3ad-98bec5208648",
      "metadata": {
        "id": "b54bee2a-5577-4068-b3ad-98bec5208648"
      },
      "source": [
        "Aggregating the total YY1 signal by averaging (combomode = np.mean) and visualizing with a line plot (vismode = LinePLot). "
      ]
    },
    {
      "cell_type": "code",
      "execution_count": null,
      "id": "5b6079af-c55a-48a6-a859-563483ce9be3",
      "metadata": {
        "colab": {
          "base_uri": "https://localhost:8080/",
          "height": 163
        },
        "id": "5b6079af-c55a-48a6-a859-563483ce9be3",
        "outputId": "b7d2159a-2232-40ec-8dd6-8380eb2376c1"
      },
      "outputs": [
        {
          "output_type": "display_data",
          "data": {
            "text/plain": [
              "<Figure size 360x144 with 1 Axes>"
            ],
            "image/png": "[encoded data removed]"
          },
          "metadata": {
            "needs_background": "light"
          }
        }
      ],
      "source": [
        "ProfilePack2Visual(YY1_overpeaks, combomode = np.mean, vismode = LinePlot, bounds = (None, None), Vsize = 1000, \n",
        "            xlabelsnum = 3, labels = ['YY1'], suptitle = None, figsize = (5,2), fontsize = 12, cmap = 'viridis')"
      ]
    },
    {
      "cell_type": "markdown",
      "id": "3d840ad2-d782-4425-aaab-4e6b41c54e5c",
      "metadata": {
        "id": "3d840ad2-d782-4425-aaab-4e6b41c54e5c"
      },
      "source": [
        "Getting histone signal (4000bp, Vsize = 4000) over the Markers using SigCurrent2Pack. "
      ]
    },
    {
      "cell_type": "code",
      "execution_count": null,
      "id": "11f585a0-47d3-449c-bcc2-fa0fd46b7525",
      "metadata": {
        "colab": {
          "base_uri": "https://localhost:8080/"
        },
        "id": "11f585a0-47d3-449c-bcc2-fa0fd46b7525",
        "outputId": "5fc5a9de-8a2c-4c31-99d3-9a02c25e055a"
      },
      "outputs": [
        {
          "output_type": "execute_result",
          "data": {
            "text/plain": [
              "(312, 2, 40)"
            ]
          },
          "metadata": {},
          "execution_count": 51
        }
      ],
      "source": [
        "histone_norm = pickle.load(open('histone_norm' + '.p', 'rb'))\n",
        "\n",
        "histone_overpeaks = SigCurrent2Pack(histone_norm, YY1peaks_ready, hg38_id, select_BS_ids = select_chrs, Vsize = 4000, reso = CTReso, \n",
        "                                    newreso = None, resomode = np.mean, areas = None, exact = True, stranded = True, dtype = np.float32)\n",
        "histone_overpeaks.shape"
      ]
    },
    {
      "cell_type": "markdown",
      "id": "3784148f-65cc-4a48-81a2-42b23cd703ce",
      "metadata": {
        "id": "3784148f-65cc-4a48-81a2-42b23cd703ce"
      },
      "source": [
        "Averaging the total histone signal(combomode = np.mean) and visualizing with a line plot (vismode = LinePLot). "
      ]
    },
    {
      "cell_type": "code",
      "execution_count": null,
      "id": "ca315c6d-2134-448f-aa1e-5402a92dfb89",
      "metadata": {
        "colab": {
          "base_uri": "https://localhost:8080/",
          "height": 307
        },
        "id": "ca315c6d-2134-448f-aa1e-5402a92dfb89",
        "outputId": "733d19f8-2596-46e8-9d06-29556092673f"
      },
      "outputs": [
        {
          "output_type": "display_data",
          "data": {
            "text/plain": [
              "<Figure size 360x288 with 2 Axes>"
            ],
            "image/png": "[encoded data removed]"
          },
          "metadata": {
            "needs_background": "light"
          }
        }
      ],
      "source": [
        "ProfilePack2Visual(histone_overpeaks, combomode = np.mean, vismode = LinePlot, bounds = (None, None), Vsize = 4000, \n",
        "                   xlabelsnum = 5, labels = histones, suptitle = None, figsize = (5,4), fontsize = 12, cmap = 'viridis')"
      ]
    },
    {
      "cell_type": "markdown",
      "id": "eac5c5d6-f291-475d-a704-30f202a55e79",
      "metadata": {
        "tags": [],
        "id": "eac5c5d6-f291-475d-a704-30f202a55e79"
      },
      "source": [
        "### YY1 Potential Interacting Sites"
      ]
    },
    {
      "cell_type": "markdown",
      "id": "719365f7-7b4b-4a99-9056-2307c742a0aa",
      "metadata": {
        "id": "719365f7-7b4b-4a99-9056-2307c742a0aa"
      },
      "source": [
        "Loading and Converting CM to PWM.  \n",
        "*See First_steps for pre-work*"
      ]
    },
    {
      "cell_type": "code",
      "execution_count": null,
      "id": "75803a0f-4726-4732-8b10-28e9d24a53a7",
      "metadata": {
        "colab": {
          "base_uri": "https://localhost:8080/"
        },
        "id": "75803a0f-4726-4732-8b10-28e9d24a53a7",
        "outputId": "86fa2d72-3fe3-48f1-8249-1b8a1216261c"
      },
      "outputs": [
        {
          "output_type": "execute_result",
          "data": {
            "text/plain": [
              "array([[-0.69632361,  1.27330274, -0.70974413, -1.4970148 ],\n",
              "       [ 1.92165395, -7.45121111, -2.36374827, -6.45121111],\n",
              "       [ 1.92816726, -7.45121111, -7.45121111, -2.45121111],\n",
              "       [ 0.06448873, -0.33227004,  1.0204641 , -2.92764916],\n",
              "       [ 1.99380373, -7.45121111, -7.45121111, -7.45121111],\n",
              "       [-7.45121111, -7.45121111, -7.45121111,  1.99380373],\n",
              "       [-7.45121111, -7.45121111,  1.99380373, -7.45121111],\n",
              "       [-7.45121111, -7.45121111,  1.99380373, -7.45121111],\n",
              "       [-1.72329066,  1.78001007, -7.45121111, -1.95935802],\n",
              "       [-1.77878577, -0.59323012,  1.35291991, -1.02494636],\n",
              "       [-1.2032836 , -0.97547768,  1.47360139, -1.83650127],\n",
              "       [-1.2032836 ,  1.53178246, -1.89662226, -1.30146399]])"
            ]
          },
          "metadata": {},
          "execution_count": 55
        }
      ],
      "source": [
        "YY1_PWM = CM2PWM('YY1_CM.txt', pseudo = True, bkg = [0.25,0.25,0.25,0.25])\n",
        "YY1_PWM"
      ]
    },
    {
      "cell_type": "code",
      "execution_count": 8,
      "id": "e8b475a2-0a0f-405d-8609-9d22315f7508",
      "metadata": {
        "id": "e8b475a2-0a0f-405d-8609-9d22315f7508"
      },
      "outputs": [],
      "source": [
        "hg38, hg38_id, hg38_sizes = pickle.load(open('hg38' + '.p', 'rb')) #Loading"
      ]
    },
    {
      "cell_type": "markdown",
      "id": "7f1abe5c-e1f5-4494-b922-78c12f7bbdb3",
      "metadata": {
        "id": "7f1abe5c-e1f5-4494-b922-78c12f7bbdb3"
      },
      "source": [
        "Scoring the PWM on the genome SeqCurrent.  \n",
        "Due to memory constraints, each chr is scored seperately and saved, and each sub-seq is broken to 100 piecies before scoring operations.  \n",
        "Using multiprocessing (parrellel = 4). "
      ]
    },
    {
      "cell_type": "code",
      "execution_count": 57,
      "id": "e3f93938-e808-420a-9976-83e04a46525a",
      "metadata": {
        "id": "e3f93938-e808-420a-9976-83e04a46525a"
      },
      "outputs": [],
      "source": [
        "for c in select_chrs: \n",
        "    PWMscores = PWMScorer(YY1_PWM, hg38, hg38_id, [c], parrellel = 4, pieces = 100, extend = True, center = True, dtype = np.float32)\n",
        "    pickle.dump(PWMscores, open('YY1_PWMscores_' + c + '.p', 'wb')) #Saving\n",
        "    del PWMscores "
      ]
    },
    {
      "cell_type": "markdown",
      "id": "5e91bac2-963a-4f57-9c56-4fbb5f3e3a29",
      "metadata": {
        "id": "5e91bac2-963a-4f57-9c56-4fbb5f3e3a29"
      },
      "source": [
        "Combining scores from each individual chr to a single Current. "
      ]
    },
    {
      "cell_type": "code",
      "execution_count": 65,
      "id": "add6439b-a700-4949-86b6-13d028ae54f6",
      "metadata": {
        "id": "add6439b-a700-4949-86b6-13d028ae54f6"
      },
      "outputs": [],
      "source": [
        "PWMscores_all = [pickle.load(open('YY1_PWMscores_' + c + '.p', 'rb'))[0] for c in select_chrs]\n",
        "\n",
        "pickle.dump(PWMscores_all, open('YY1_PWMscores_all' + '.p', 'wb')) #Saving"
      ]
    },
    {
      "cell_type": "markdown",
      "id": "63bc8679-e336-43b2-b427-9fa58f9d0eff",
      "metadata": {
        "tags": [],
        "id": "63bc8679-e336-43b2-b427-9fa58f9d0eff"
      },
      "source": [
        "#### PWM score versus binding intensity"
      ]
    },
    {
      "cell_type": "code",
      "execution_count": 6,
      "id": "59732a54-3785-48ce-a235-0d7c1f90bd58",
      "metadata": {
        "id": "59732a54-3785-48ce-a235-0d7c1f90bd58"
      },
      "outputs": [],
      "source": [
        "YY1peaks_filt = pickle.load(open('YY1peaks_filt' + '.p', 'rb')) #Loading\n",
        "PWMscores_all = pickle.load(open('YY1_PWMscores_all' + '.p', 'rb')) #Loading\n",
        "YY1_norm = pickle.load(open('YY1_norm' + '.p', 'rb')) #Loading"
      ]
    },
    {
      "cell_type": "markdown",
      "id": "911d12e0-3627-4ccd-87b0-a5d6d4a92501",
      "metadata": {
        "id": "911d12e0-3627-4ccd-87b0-a5d6d4a92501"
      },
      "source": [
        "Getting maximum PWM score at each Marker of size 500 with newreso = 500 and resomode of np.max using SigCurrent2Pack. "
      ]
    },
    {
      "cell_type": "code",
      "execution_count": 9,
      "id": "628857d1-3636-4bfc-8b62-5f38f68402d8",
      "metadata": {
        "id": "628857d1-3636-4bfc-8b62-5f38f68402d8",
        "colab": {
          "base_uri": "https://localhost:8080/"
        },
        "outputId": "42e05e77-8c83-4a8d-ea8c-b6308ce9aaba"
      },
      "outputs": [
        {
          "output_type": "execute_result",
          "data": {
            "text/plain": [
              "(156, 1, 1)"
            ]
          },
          "metadata": {},
          "execution_count": 9
        }
      ],
      "source": [
        "YY1peaks_PWM = SigCurrent2Pack(PWMscores_all, YY1peaks_filt, hg38_id, select_BS_ids = select_chrs, Vsize = 500, reso = 1, \n",
        "                               newreso = 500, resomode = np.max, areas = None, exact = False, stranded = True, dtype = np.float32)\n",
        "YY1peaks_PWM.shape"
      ]
    },
    {
      "cell_type": "markdown",
      "id": "751f733e-cf17-4ff6-9017-a15355639f25",
      "metadata": {
        "id": "751f733e-cf17-4ff6-9017-a15355639f25"
      },
      "source": [
        "Flattening the YY1 PWM maximum score pack using PackShaper. "
      ]
    },
    {
      "cell_type": "code",
      "execution_count": 10,
      "id": "2b22eec4-d241-4c84-90cc-4524d657ac28",
      "metadata": {
        "id": "2b22eec4-d241-4c84-90cc-4524d657ac28",
        "colab": {
          "base_uri": "https://localhost:8080/"
        },
        "outputId": "45c86afa-a2cb-4f2a-8746-256c7d561a50"
      },
      "outputs": [
        {
          "output_type": "execute_result",
          "data": {
            "text/plain": [
              "(156,)"
            ]
          },
          "metadata": {},
          "execution_count": 10
        }
      ],
      "source": [
        "YY1peaks_PWM_flat = PackShaper(YY1peaks_PWM, expand_dim = None, squeeze = False, twoD = False, flatten = True)\n",
        "YY1peaks_PWM_flat.shape"
      ]
    },
    {
      "cell_type": "markdown",
      "id": "ae0a64e9-4588-472d-9678-6cbb515260ea",
      "metadata": {
        "id": "ae0a64e9-4588-472d-9678-6cbb515260ea"
      },
      "source": [
        "Finding the correlation of the best PWM score and MACS3 Peak score. "
      ]
    },
    {
      "cell_type": "code",
      "execution_count": 11,
      "id": "7171a4d4-8bb8-4f4a-b28b-b063c3b83e45",
      "metadata": {
        "id": "7171a4d4-8bb8-4f4a-b28b-b063c3b83e45",
        "colab": {
          "base_uri": "https://localhost:8080/"
        },
        "outputId": "0745a462-8705-456a-dce8-bc07670c7b8f"
      },
      "outputs": [
        {
          "output_type": "stream",
          "name": "stdout",
          "text": [
            "Pearson correlation of Peak Score and PWM score: 0.426\n"
          ]
        }
      ],
      "source": [
        "cor1 = stats.pearsonr(YY1peaks_filt['add4'].values,YY1peaks_PWM_flat)[0]\n",
        "print(f'Pearson correlation of Peak Score and PWM score: {np.round(cor1, 3)}')"
      ]
    },
    {
      "cell_type": "markdown",
      "id": "682bf2f0-f484-4513-bd46-9fbc494931aa",
      "metadata": {
        "id": "682bf2f0-f484-4513-bd46-9fbc494931aa"
      },
      "source": [
        "Plotting PWM score vs. Peak Score. "
      ]
    },
    {
      "cell_type": "code",
      "execution_count": 12,
      "id": "3ad226d7-21ea-4b47-a4bb-cd71e910023b",
      "metadata": {
        "id": "3ad226d7-21ea-4b47-a4bb-cd71e910023b",
        "colab": {
          "base_uri": "https://localhost:8080/",
          "height": 282
        },
        "outputId": "9985c19d-39d1-4ec5-e9c1-e9852bf99cec"
      },
      "outputs": [
        {
          "output_type": "display_data",
          "data": {
            "text/plain": [
              "<Figure size 432x288 with 1 Axes>"
            ],
            "image/png": "[encoded data removed]"
          },
          "metadata": {
            "needs_background": "light"
          }
        }
      ],
      "source": [
        "plt.scatter(YY1peaks_filt['add4'].values,YY1peaks_PWM_flat, alpha = 0.2, color = 'sienna');\n",
        "plt.xlabel('Peak Score [MACS3]', fontsize = fontsize)\n",
        "plt.ylabel('PWM Score', fontsize = fontsize);"
      ]
    },
    {
      "cell_type": "markdown",
      "id": "95b4f42f-a0dc-454f-bfa0-d99d30079efe",
      "metadata": {
        "id": "95b4f42f-a0dc-454f-bfa0-d99d30079efe"
      },
      "source": [
        "Getting integrated YY1 signal at each Marker of size 480 with Vsize and areas of 480 using SigCurrent2Pack. "
      ]
    },
    {
      "cell_type": "code",
      "execution_count": 13,
      "id": "bbc0bdfc-60b6-4822-9ee6-d6bd26c0d15c",
      "metadata": {
        "id": "bbc0bdfc-60b6-4822-9ee6-d6bd26c0d15c"
      },
      "outputs": [],
      "source": [
        "YY1_overpeaks = SigCurrent2Pack(YY1_norm, YY1peaks_filt, hg38_id, select_BS_ids = select_chrs, Vsize = 480, reso = CTReso, \n",
        "                                newreso = None, resomode = np.mean, areas = [480], exact = True, stranded = True, dtype = np.float32)"
      ]
    },
    {
      "cell_type": "markdown",
      "id": "c6e7f236-30bc-45e8-bd40-0f9265a26057",
      "metadata": {
        "id": "c6e7f236-30bc-45e8-bd40-0f9265a26057"
      },
      "source": [
        "Flattening the pack using PackShaper. "
      ]
    },
    {
      "cell_type": "code",
      "execution_count": 14,
      "id": "8bd453c7-3572-4676-b46f-863445c49352",
      "metadata": {
        "id": "8bd453c7-3572-4676-b46f-863445c49352"
      },
      "outputs": [],
      "source": [
        "YY1_overpeaks_flat = PackShaper(YY1_overpeaks, expand_dim = None, squeeze = False, twoD = False, flatten = True)"
      ]
    },
    {
      "cell_type": "markdown",
      "id": "458ec322-a34f-4edc-824b-268ecf6abef1",
      "metadata": {
        "id": "458ec322-a34f-4edc-824b-268ecf6abef1"
      },
      "source": [
        "Finding the correlation of the best PWM score and integrated YY1 signal. "
      ]
    },
    {
      "cell_type": "code",
      "execution_count": 15,
      "id": "94bed14e-1dfd-4726-8f7b-07e0ce04eef3",
      "metadata": {
        "id": "94bed14e-1dfd-4726-8f7b-07e0ce04eef3",
        "colab": {
          "base_uri": "https://localhost:8080/"
        },
        "outputId": "80ed781e-3737-4c4d-8045-38371716a34d"
      },
      "outputs": [
        {
          "output_type": "stream",
          "name": "stdout",
          "text": [
            "Pearson correlation of Peak Score and PWM score: 0.324\n"
          ]
        }
      ],
      "source": [
        "cor2 = stats.pearsonr(YY1_overpeaks_flat,YY1peaks_PWM_flat)[0]\n",
        "print(f'Pearson correlation of Peak Score and PWM score: {np.round(cor2, 3)}') "
      ]
    },
    {
      "cell_type": "markdown",
      "id": "1a7440f4-ae18-4af2-bef8-27b6ae145c55",
      "metadata": {
        "id": "1a7440f4-ae18-4af2-bef8-27b6ae145c55"
      },
      "source": [
        "Plotting PWM score vs. integrated YY1 signal. "
      ]
    },
    {
      "cell_type": "code",
      "execution_count": 16,
      "id": "7cb2e755-4f1a-400f-8bd2-c28017f01ba8",
      "metadata": {
        "id": "7cb2e755-4f1a-400f-8bd2-c28017f01ba8",
        "colab": {
          "base_uri": "https://localhost:8080/",
          "height": 282
        },
        "outputId": "5f886874-0ce8-4070-87b4-44be20e7bd0b"
      },
      "outputs": [
        {
          "output_type": "display_data",
          "data": {
            "text/plain": [
              "<Figure size 432x288 with 1 Axes>"
            ],
            "image/png": "[encoded data removed]"
          },
          "metadata": {
            "needs_background": "light"
          }
        }
      ],
      "source": [
        "plt.scatter(YY1_overpeaks_flat,YY1peaks_PWM_flat, alpha = 0.2, color = 'sienna');\n",
        "plt.xlabel('Integrated Signal (480bp)', fontsize = fontsize)\n",
        "plt.ylabel('PWM Score', fontsize = fontsize);"
      ]
    },
    {
      "cell_type": "markdown",
      "id": "07777981-2e36-41c7-8fea-aaaca44cee99",
      "metadata": {
        "tags": [],
        "id": "07777981-2e36-41c7-8fea-aaaca44cee99"
      },
      "source": [
        "#### Top PWM sites "
      ]
    },
    {
      "cell_type": "markdown",
      "id": "889f79e9-a8b2-466d-a13f-a3472df6ef2d",
      "metadata": {
        "id": "889f79e9-a8b2-466d-a13f-a3472df6ef2d"
      },
      "source": [
        "Getting the PWM score flags.  \n",
        "Loading and modifying each chr seperately for memory constraints.  \n",
        "PWM scores are first filtered using the full filter Current and multiplying with CurrentModifier.  \n",
        "Currentthresholder keeps values greater than 0.  \n",
        "CurrentFlagger finds best value in 200bp window with stride 20 and using double flagging.  "
      ]
    },
    {
      "cell_type": "code",
      "execution_count": null,
      "id": "360cb325-89ba-44ff-b6bd-34585d5f0b0f",
      "metadata": {
        "id": "360cb325-89ba-44ff-b6bd-34585d5f0b0f"
      },
      "outputs": [],
      "source": [
        "FTE = pickle.load(open('FTE' + '.p', 'rb'))\n",
        "\n",
        "for ic, c in enumerate(select_chrs): \n",
        "    PWMscores = pickle.load(open('YY1_PWMscores_' + c + '.p', 'rb')) #Loading\n",
        "    PWMscores_filt = CurrentModifier(PWMscores, [FTE[ic]], np.multiply, dtype = np.float32)\n",
        "    #PWMscores_filt = CurrentThresholder(PWMscores_filt, threshold = 0, threshsign = np.greater, binary = False) #Zeros negative values\n",
        "    PWMscores_flag = CurrentFlagger(PWMscores_filt, reso = 1, window = 200, stride = 20, flagmode = np.argmax, double = True)\n",
        "    pickle.dump(PWMscores_flag, open('YY1_PWMscores_flag_' + c + '.p', 'wb')) #Saving\n",
        "    del PWMscores, PWMscores_filt, PWMscores_flag"
      ]
    },
    {
      "cell_type": "code",
      "execution_count": null,
      "id": "9914b03f-4452-4daf-8087-148f35ded899",
      "metadata": {
        "id": "9914b03f-4452-4daf-8087-148f35ded899"
      },
      "outputs": [],
      "source": [
        "del [FTE] "
      ]
    },
    {
      "cell_type": "markdown",
      "id": "c232c736-2ce1-4f9d-b8eb-739f2bddff84",
      "metadata": {
        "id": "c232c736-2ce1-4f9d-b8eb-739f2bddff84"
      },
      "source": [
        "Combining flags from each individual chr to a single Current. "
      ]
    },
    {
      "cell_type": "code",
      "execution_count": null,
      "id": "189d346b-cf04-44b0-aee7-6f8d5a122886",
      "metadata": {
        "id": "189d346b-cf04-44b0-aee7-6f8d5a122886"
      },
      "outputs": [],
      "source": [
        "PWMscores_flags = [pickle.load(open('YY1_PWMscores_flag_' + c + '.p', 'rb'))[0] for c in select_chrs]\n",
        "\n",
        "pickle.dump(PWMscores_flags, open('YY1_PWMscores_flags' + '.p', 'wb')) #Saving"
      ]
    },
    {
      "cell_type": "markdown",
      "id": "1e9c75d1-ea70-420f-aef5-e69672e38a1a",
      "metadata": {
        "id": "1e9c75d1-ea70-420f-aef5-e69672e38a1a"
      },
      "source": [
        "Plotting Histogram of non-zero PWM flags. "
      ]
    },
    {
      "cell_type": "code",
      "execution_count": null,
      "id": "9f0263c6-7afe-4466-b166-3184187627b8",
      "metadata": {
        "id": "9f0263c6-7afe-4466-b166-3184187627b8"
      },
      "outputs": [],
      "source": [
        "#PWMscores_flags = pickle.load(open('YY1_PWMscores_flags' + '.p', 'rb')) #Loading\n",
        "\n",
        "flag_values = np.concatenate(PWMscores_flags, axis = 0) #Combining all flag values together for next step\n",
        "\n",
        "plt.hist(flag_values[flag_values != 0], bins = 100, histtype='step', color = 'sienna');\n",
        "#plt.title('Cumulative PWM Scores', fontsize = fontsize) \n",
        "plt.xlabel('PWM Score', fontsize = fontsize) \n",
        "plt.ylabel('Counts', fontsize = fontsize);"
      ]
    },
    {
      "cell_type": "code",
      "execution_count": null,
      "id": "7e1a1405-6a53-433c-878a-e06d06f4050e",
      "metadata": {
        "id": "7e1a1405-6a53-433c-878a-e06d06f4050e"
      },
      "outputs": [],
      "source": [
        "del [flag_values]"
      ]
    },
    {
      "cell_type": "markdown",
      "id": "1620fa4c-6b8f-4ace-8632-9fee376eef39",
      "metadata": {
        "id": "1620fa4c-6b8f-4ace-8632-9fee376eef39"
      },
      "source": [
        "Testing different SigCurrent2Markers modes"
      ]
    },
    {
      "cell_type": "code",
      "execution_count": null,
      "id": "70743f12-607c-4d1d-a0cc-63770e592866",
      "metadata": {
        "id": "70743f12-607c-4d1d-a0cc-63770e592866"
      },
      "outputs": [],
      "source": [
        "#PWMscores_flags = pickle.load(open('YY1_PWMscores_flags' + '.p', 'rb')) #Loading\n",
        "\n",
        "MO = [None, Top, Harpoon, Harpoon, RevDistro, RevDistro, RevDistro, RevDistro]\n",
        "MA = [None, {'smallest': False}, {'bins': 10}, {'bins': 100}, {'alpha': 0}, {'alpha': 0.5}, {'alpha': 1.0}, {'alpha': 2.0}]\n",
        "\n",
        "vals = [] \n",
        "for im in range(len(MO)): \n",
        "    M = SigCurrent2Markers(PWMscores_flags, hg38_id, select_BS_ids = select_chrs, reso = 1, select = 1000, select_mode = MO[im], mode_args = MA[im])\n",
        "    vals.append(M['val'])"
      ]
    },
    {
      "cell_type": "code",
      "execution_count": null,
      "id": "ba22d74d-afa3-4e65-87e7-7fc6d43d2f63",
      "metadata": {
        "id": "ba22d74d-afa3-4e65-87e7-7fc6d43d2f63"
      },
      "outputs": [],
      "source": [
        "allflags = np.concatenate(PWMscores_flags, axis = 0).reshape(-1)\n",
        "mi, ma = np.min(allflags), np.max(allflags)\n",
        "bs = np.linspace(mi, ma, 100)\n",
        "\n",
        "del allflags"
      ]
    },
    {
      "cell_type": "markdown",
      "id": "95b70cf8-83b7-4da7-a08a-72d976223ad4",
      "metadata": {
        "id": "95b70cf8-83b7-4da7-a08a-72d976223ad4"
      },
      "source": [
        "Plotting Markers values for different SigCurrent2Markers modes "
      ]
    },
    {
      "cell_type": "code",
      "execution_count": null,
      "id": "1a9bcef5-2f68-45e5-a8fd-aab530fc9ead",
      "metadata": {
        "id": "1a9bcef5-2f68-45e5-a8fd-aab530fc9ead"
      },
      "outputs": [],
      "source": [
        "fontsize = 12\n",
        "\n",
        "sel_modes_names = ['None, None', 'Top, smallest = False', 'Harpoon, bins = 10', 'Harpoon, bins = 100', \n",
        "                   'RevDistro, alpha = 0', 'RevDistro, alpha = 0.5', 'RevDistro, alpha = 1.0', 'RevDistro, alpha = 2.0'] \n",
        "\n",
        "fig, axs = plt.subplots(2, 4, figsize = (16,10), sharey = True)\n",
        "\n",
        "for (iv, v), ax in zip(enumerate(vals), axs.ravel()):\n",
        "    if iv == 0: \n",
        "        ax.set_xlabel('PWM Score, 100 bins', fontsize = fontsize)\n",
        "        ax.set_ylabel('Counts', fontsize = fontsize)\n",
        "    ax.hist(v, bs, color = 'sienna')\n",
        "    ax.set_title(sel_modes_names[iv], fontsize = fontsize)"
      ]
    },
    {
      "cell_type": "markdown",
      "id": "75411f5b-e137-4300-b4f4-fa287b558c71",
      "metadata": {
        "id": "75411f5b-e137-4300-b4f4-fa287b558c71"
      },
      "source": [
        "Getting 100,000 Marks from PWM flags with Harpoon (bin = 100) for preparing packs for ML (next step) with SigCurrent2Markers. "
      ]
    },
    {
      "cell_type": "code",
      "execution_count": null,
      "id": "34dc1804-f237-4e6f-a61f-692f267dc49e",
      "metadata": {
        "id": "34dc1804-f237-4e6f-a61f-692f267dc49e"
      },
      "outputs": [],
      "source": [
        "#PWMscores_flags = pickle.load(open('YY1_PWMscores_flags' + '.p', 'rb')) #Loading\n",
        "\n",
        "PWMscores_harpoon = SigCurrent2Markers(PWMscores_flags, hg38_id, select_BS_ids = select_chrs, reso = 1, select = 1000, select_mode = Harpoon, mode_args = {'bins': 100})\n",
        "\n",
        "pickle.dump(PWMscores_harpoon, open('YY1_PWMscores_harpoon' + '.p', 'wb'))\n",
        "\n",
        "PWMscores_harpoon"
      ]
    },
    {
      "cell_type": "code",
      "execution_count": null,
      "id": "b4614152-e12f-41d2-9714-359c8790e7eb",
      "metadata": {
        "id": "b4614152-e12f-41d2-9714-359c8790e7eb"
      },
      "outputs": [],
      "source": [
        "del [PWMscores_flags] "
      ]
    },
    {
      "cell_type": "markdown",
      "id": "56f75a75-a0fe-4589-ab9f-fa582e835d5e",
      "metadata": {
        "id": "56f75a75-a0fe-4589-ab9f-fa582e835d5e"
      },
      "source": [
        "### Packs for ML "
      ]
    },
    {
      "cell_type": "markdown",
      "id": "39a1a550-e595-4940-907d-7a3ee90b4b11",
      "metadata": {
        "id": "39a1a550-e595-4940-907d-7a3ee90b4b11"
      },
      "source": [
        "Generating Packs for ML using the Harpoon'ed Markers"
      ]
    },
    {
      "cell_type": "code",
      "execution_count": null,
      "id": "b939d0fb-4ba3-4d07-af93-5f7112182271",
      "metadata": {
        "id": "b939d0fb-4ba3-4d07-af93-5f7112182271"
      },
      "outputs": [],
      "source": [
        "hg38, hg38_id, hg38_sizes = pickle.load(open('hg38' + '.p', 'rb')) #Loading\n",
        "\n",
        "PWMscores_harpoon = pickle.load(open('YY1_PWMscores_harpoon' + '.p', 'rb')) #loading \n",
        "YY1_norm = pickle.load(open('YY1_norm' + '.p', 'rb')) #Loading\n",
        "histone_norm = pickle.load(open('histone_norm' + '.p', 'rb')) #Loading"
      ]
    },
    {
      "cell_type": "markdown",
      "id": "695d46a9-4762-4e3c-8cad-e9ae419d8900",
      "metadata": {
        "id": "695d46a9-4762-4e3c-8cad-e9ae419d8900"
      },
      "source": [
        "Modifying Markers to be used for pack generation (next steps). Both strands are used (opposite = True) and no marker in the ends of 5000bp. "
      ]
    },
    {
      "cell_type": "code",
      "execution_count": null,
      "id": "4075c6d5-b395-4429-ab96-83bd42f58913",
      "metadata": {
        "id": "4075c6d5-b395-4429-ab96-83bd42f58913"
      },
      "outputs": [],
      "source": [
        "PWMscores_ready = Markers4Packs(PWMscores_harpoon, select_BS_ids = None, opposite = True, \n",
        "                                 ends = 5000, BS_sizes = hg38_sizes, BS_ids = hg38_id)"
      ]
    },
    {
      "cell_type": "markdown",
      "id": "792e354c-4cc8-45b6-adfd-265f6516ec4c",
      "metadata": {
        "id": "792e354c-4cc8-45b6-adfd-265f6516ec4c"
      },
      "source": [
        "Integrated YY1 signal of 480bp over Markers. "
      ]
    },
    {
      "cell_type": "code",
      "execution_count": null,
      "id": "ddfc00e8-9b75-495a-91e2-b380453e5527",
      "metadata": {
        "id": "ddfc00e8-9b75-495a-91e2-b380453e5527"
      },
      "outputs": [],
      "source": [
        "YY1pack = SigCurrent2Pack(YY1_norm, PWMscores_ready, hg38_id, select_BS_ids = select_chrs, Vsize = 480, reso = CTreso, \n",
        "                          newreso = None, resomode = np.mean, areas = [480], exact = True, stranded = True, dtype = np.float32)"
      ]
    },
    {
      "cell_type": "markdown",
      "id": "28a27eb4-9c97-4e6b-962d-7cc1d35c0d32",
      "metadata": {
        "id": "28a27eb4-9c97-4e6b-962d-7cc1d35c0d32"
      },
      "source": [
        "Flattening pack, likely to be used for Sklearn. "
      ]
    },
    {
      "cell_type": "code",
      "execution_count": null,
      "id": "e55d9b43-8471-4c31-8eb9-c9e66461718e",
      "metadata": {
        "id": "e55d9b43-8471-4c31-8eb9-c9e66461718e"
      },
      "outputs": [],
      "source": [
        "YY1pack_flat = PackShaper(YY1pack, expand_dim = None, squeeze = False, twoD = False, flatten = True)"
      ]
    },
    {
      "cell_type": "markdown",
      "id": "0bfdfd47-f849-4792-a629-791ce8186e44",
      "metadata": {
        "id": "0bfdfd47-f849-4792-a629-791ce8186e44"
      },
      "source": [
        "Histone signal of 4000bp over Markers. "
      ]
    },
    {
      "cell_type": "code",
      "execution_count": null,
      "id": "b0962bfe-d3a9-4719-ad33-3da3867aa5a0",
      "metadata": {
        "id": "b0962bfe-d3a9-4719-ad33-3da3867aa5a0"
      },
      "outputs": [],
      "source": [
        "histonepack_profile = SigCurrent2Pack(histone_norm, PWMscores_ready, hg38_id, select_BS_ids = select_chrs, Vsize = 4000, reso = CTreso, \n",
        "                                      newreso = 100, resomode = np.mean, areas = None, exact = True, stranded = True, dtype = np.float32)\n",
        "\n",
        "print(f'Histone ProfilePack shape: {histonepack_profile.shape}')"
      ]
    },
    {
      "cell_type": "markdown",
      "id": "eda1ae31-61e4-4bba-b7fa-d033f012169f",
      "metadata": {
        "id": "eda1ae31-61e4-4bba-b7fa-d033f012169f"
      },
      "source": [
        "Integrated Histone signals (4) with maximum of 4000bp over Markers. "
      ]
    },
    {
      "cell_type": "code",
      "execution_count": null,
      "id": "890c7966-582d-4238-9404-803625c872e6",
      "metadata": {
        "id": "890c7966-582d-4238-9404-803625c872e6"
      },
      "outputs": [],
      "source": [
        "areas = np.geomspace(500,4000,4, dtype = int) #Getting different 4 areas from 500 to 4000bp geometrically. \n",
        "histonepack_areas= SigCurrent2Pack(histone_norm, PWMscores_ready, hg38_id, select_BS_ids = select_chrs, Vsize = 4000, reso = CTreso, \n",
        "                                   newreso = None, resomode = np.mean, areas = areas, exact = True, stranded = True, dtype = np.float32)\n",
        "\n",
        "print(f'Histone AreasPack shape: {histonepack_areas.shape}')"
      ]
    },
    {
      "cell_type": "markdown",
      "id": "30b49e11-b14c-489b-8a00-395757f56027",
      "metadata": {
        "id": "30b49e11-b14c-489b-8a00-395757f56027"
      },
      "source": [
        "Also getting the best PWM score over each Marker with Traits2Pack. "
      ]
    },
    {
      "cell_type": "code",
      "execution_count": null,
      "id": "908ed7e0-df74-4985-937b-ea3346b981c6",
      "metadata": {
        "id": "908ed7e0-df74-4985-937b-ea3346b981c6"
      },
      "outputs": [],
      "source": [
        "PWMscore_pack = Traits2Pack(PWMscores_ready, cols = 4, vectorize = None)\n",
        "PWMscore_pack.shape"
      ]
    },
    {
      "cell_type": "markdown",
      "id": "5bbc9ac0-613c-4c2a-9fd2-686f5fea8504",
      "metadata": {
        "id": "5bbc9ac0-613c-4c2a-9fd2-686f5fea8504"
      },
      "source": [
        "Getting sequences underlying Markers of size 500, stranded (stranded = True) with SeqCurrent2Pack. "
      ]
    },
    {
      "cell_type": "code",
      "execution_count": null,
      "id": "ebcd6fe8-7067-4652-b7c1-3327aaa3727d",
      "metadata": {
        "id": "ebcd6fe8-7067-4652-b7c1-3327aaa3727d"
      },
      "outputs": [],
      "source": [
        "seq_pack = SeqCurrent2Pack(hg38, PWMscores_ready, hg38_id, select_BS_ids = select_chrs, Vsize = 500, seqmode = None, stranded = True)"
      ]
    },
    {
      "cell_type": "markdown",
      "id": "1f8d6595-e9ac-42a0-96ef-676375dfc776",
      "metadata": {
        "id": "1f8d6595-e9ac-42a0-96ef-676375dfc776"
      },
      "source": [
        "Getting sequences underlying Markers of size 500, stranded (stranded = True), and OHE (seqmode = Seqs2OHE) with SeqCurrent2Pack. "
      ]
    },
    {
      "cell_type": "code",
      "execution_count": null,
      "id": "58962ba5-3078-453b-a126-c1a1b1c44238",
      "metadata": {
        "id": "58962ba5-3078-453b-a126-c1a1b1c44238"
      },
      "outputs": [],
      "source": [
        "seq_pack_OHE = SeqCurrent2Pack(hg38, PWMscores_ready, hg38_id, select_BS_ids = select_chrs, Vsize = 500, seqmode = Seqs2OHE, stranded = True)\n",
        "seq_pack_OHE.shape"
      ]
    },
    {
      "cell_type": "markdown",
      "id": "fbb3de01-e3b7-49eb-9da5-9fb584272e31",
      "metadata": {
        "id": "fbb3de01-e3b7-49eb-9da5-9fb584272e31"
      },
      "source": [
        "Combinations of packs can be done with Packs2Pack([Packs]) "
      ]
    },
    {
      "cell_type": "markdown",
      "id": "91909015-caf0-4d1a-bf90-388c1a08f126",
      "metadata": {
        "id": "91909015-caf0-4d1a-bf90-388c1a08f126"
      },
      "source": [
        "#### Splitting Packs"
      ]
    },
    {
      "cell_type": "markdown",
      "id": "92d6fd4f-b9d2-4e41-980e-ba75a1fb4b6e",
      "metadata": {
        "id": "92d6fd4f-b9d2-4e41-980e-ba75a1fb4b6e"
      },
      "source": [
        "Splits for ML are generated using Splits and the Markers.  \n",
        "3 Splits are generated (numsplits = 3) with simple Train Test split of 0.7 and 0.3 proportions, respecively (proportions = [0.7,0.3]).  \n",
        "The cut method is applied (cut = True) "
      ]
    },
    {
      "cell_type": "code",
      "execution_count": null,
      "id": "d8b7b027-22ba-4f62-8961-18dd796832f6",
      "metadata": {
        "id": "d8b7b027-22ba-4f62-8961-18dd796832f6"
      },
      "outputs": [],
      "source": [
        "YY1sites_split = Splitter(len(PWMscores_ready), numsplits = 3, proportions = [0.7, 0.3], random = False, cut = True)\n",
        "\n",
        "\n",
        "YY1sites_split[0]"
      ]
    },
    {
      "cell_type": "markdown",
      "id": "1a1c769c-fbba-4273-aacf-88c0e5e07da3",
      "metadata": {
        "id": "1a1c769c-fbba-4273-aacf-88c0e5e07da3"
      },
      "source": [
        "Splitting a pack by a split can be done with PackSplit(Pack, YY1sites_split[n])"
      ]
    },
    {
      "cell_type": "code",
      "source": [],
      "metadata": {
        "id": "mpbb3GoN3L8O"
      },
      "id": "mpbb3GoN3L8O",
      "execution_count": null,
      "outputs": []
    }
  ],
  "metadata": {
    "kernelspec": {
      "display_name": "Python 3",
      "name": "python3"
    },
    "language_info": {
      "name": "python"
    },
    "colab": {
      "provenance": [],
      "include_colab_link": true
    }
  },
  "nbformat": 4,
  "nbformat_minor": 5
}