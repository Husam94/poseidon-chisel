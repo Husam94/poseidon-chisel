{
 "cells": [
  {
   "cell_type": "markdown",
   "id": "636bf635-e099-49c1-84fd-78d3443c4fae",
   "metadata": {},
   "source": [
    "**The following is the Case Study 1.1.**  \n",
    "**Part B: Preparing YY1 Data for ML**  \n",
    "Due to memory constraints, variables are deleted and reloaded at different times.  \n",
    "Following a cooking show format, the files are available for download and upload at any step. "
   ]
  },
  {
   "cell_type": "code",
   "execution_count": null,
   "id": "4e764c02-9e4c-4f91-9ebb-a1db450da5e4",
   "metadata": {},
   "outputs": [],
   "source": [
    "!pip install poseydon-chisel"
   ]
  },
  {
   "cell_type": "markdown",
   "id": "fe59ec36-fa2e-457f-a966-5d77a12d0efb",
   "metadata": {
    "tags": []
   },
   "source": [
    "### Launch"
   ]
  },
  {
   "cell_type": "markdown",
   "id": "8bd4c2f4-7b10-447e-9372-c4f29550d095",
   "metadata": {},
   "source": [
    "Importing the necessary packages and set universal variables"
   ]
  },
  {
   "cell_type": "code",
   "execution_count": 1,
   "id": "70bc4423-9818-46dc-a484-b98f93b78161",
   "metadata": {},
   "outputs": [],
   "source": [
    "import pandas as pd\n",
    "import numpy as np\n",
    "import pickle\n",
    "\n",
    "from scipy import stats"
   ]
  },
  {
   "cell_type": "code",
   "execution_count": 3,
   "id": "b75adf77-2286-4857-912e-49acd531ab82",
   "metadata": {},
   "outputs": [],
   "source": [
    "from P1_Utils import * "
   ]
  },
  {
   "cell_type": "code",
   "execution_count": 4,
   "id": "6c9db8f4-9c0d-421b-8cc4-73e0270b2b7e",
   "metadata": {},
   "outputs": [],
   "source": [
    "data_source = pd.read_excel('Dataset_Identifiers.xlsx') \n",
    "\n",
    "histones = data_source[data_source['target_type'] == 'histone']['target'].unique() #Histone names \n",
    "\n",
    "select_chrs = ['chr1', 'chr2', 'chr3'] #the sub-seqs to be used\n",
    "newreso = 20 #the resolution of SigCurrents to be made and used \n",
    "fontsize = 12 #font size for figures"
   ]
  },
  {
   "cell_type": "code",
   "execution_count": 5,
   "id": "01297be2-bd02-4704-9a8e-f4c5625f83e7",
   "metadata": {},
   "outputs": [],
   "source": [
    "#Loading Human Genome data (see 'Human Genome' section) \n",
    "\n",
    "_, hg38_id, hg38_sizes = pickle.load(open('hg38' + '.p', 'rb'))"
   ]
  },
  {
   "cell_type": "markdown",
   "id": "d08dcab0-9f8b-4690-973d-56ff78c4d2e0",
   "metadata": {
    "tags": []
   },
   "source": [
    "#### Human Genome"
   ]
  },
  {
   "cell_type": "markdown",
   "id": "e4eb3de2-9b1b-4a8b-ad73-86ed50a99ae7",
   "metadata": {},
   "source": [
    "Creating a SeqCurrent from human genome fasta file. \\\n",
    "Only using the first 3 entries in the genome for sub-seqs. Loading only the first 3 to save memory. "
   ]
  },
  {
   "cell_type": "code",
   "execution_count": 6,
   "id": "2c36a4ac-6291-4109-8f7a-64b03676c138",
   "metadata": {},
   "outputs": [],
   "source": [
    "hg38, hg38_id = Fasta2Seqs('hg38.fasta', idents = True, first = 3) \n",
    "hg38_sizes = [len(c) for c in hg38] #Getting sizes\n",
    "hg38_id = [c.split()[0] for c in hg38_id] #Simplifying ids \n",
    "\n",
    "pickle.dump([hg38, hg38_id, hg38_sizes], open('hg38' + '.p', 'wb')) #Saving"
   ]
  },
  {
   "cell_type": "code",
   "execution_count": 9,
   "id": "7b6793d9-7f5a-4914-b908-4bb1f24dc937",
   "metadata": {},
   "outputs": [
    {
     "data": {
      "text/plain": [
       "(['chr1', 'chr2', 'chr3'], [248956422, 242193529, 198295559])"
      ]
     },
     "execution_count": 9,
     "metadata": {},
     "output_type": "execute_result"
    }
   ],
   "source": [
    "hg38_id, hg38_sizes"
   ]
  },
  {
   "cell_type": "code",
   "execution_count": null,
   "id": "332cedff-ce26-4300-bccc-98a13c74419a",
   "metadata": {},
   "outputs": [],
   "source": [
    "del [hg38]"
   ]
  },
  {
   "cell_type": "markdown",
   "id": "0a6faa2e-1466-4a4c-a47f-287aeb414bc0",
   "metadata": {
    "tags": []
   },
   "source": [
    "#### Blacklist Regions"
   ]
  },
  {
   "cell_type": "markdown",
   "id": "d2e20e20-89e8-4a06-b2e3-1c30745fe5ae",
   "metadata": {},
   "source": [
    "Importing Blacklist Regions bed file as Markers and converting to a BinCurrent.  \n",
    "*See First_steps for pre-work*"
   ]
  },
  {
   "cell_type": "code",
   "execution_count": 6,
   "id": "54cd031e-5d1c-495d-99e4-95f795b6b072",
   "metadata": {},
   "outputs": [
    {
     "data": {
      "text/html": [
       "<div>\n",
       "<style scoped>\n",
       "    .dataframe tbody tr th:only-of-type {\n",
       "        vertical-align: middle;\n",
       "    }\n",
       "\n",
       "    .dataframe tbody tr th {\n",
       "        vertical-align: top;\n",
       "    }\n",
       "\n",
       "    .dataframe thead th {\n",
       "        text-align: right;\n",
       "    }\n",
       "</style>\n",
       "<table border=\"1\" class=\"dataframe\">\n",
       "  <thead>\n",
       "    <tr style=\"text-align: right;\">\n",
       "      <th></th>\n",
       "      <th>subseq</th>\n",
       "      <th>loc</th>\n",
       "      <th>strand</th>\n",
       "      <th>size</th>\n",
       "    </tr>\n",
       "  </thead>\n",
       "  <tbody>\n",
       "    <tr>\n",
       "      <th>0</th>\n",
       "      <td>chr1</td>\n",
       "      <td>396250</td>\n",
       "      <td>0</td>\n",
       "      <td>792500</td>\n",
       "    </tr>\n",
       "    <tr>\n",
       "      <th>1</th>\n",
       "      <td>chr1</td>\n",
       "      <td>91387350</td>\n",
       "      <td>0</td>\n",
       "      <td>2100</td>\n",
       "    </tr>\n",
       "    <tr>\n",
       "      <th>2</th>\n",
       "      <td>chr1</td>\n",
       "      <td>103677500</td>\n",
       "      <td>0</td>\n",
       "      <td>166200</td>\n",
       "    </tr>\n",
       "    <tr>\n",
       "      <th>3</th>\n",
       "      <td>chr1</td>\n",
       "      <td>123272050</td>\n",
       "      <td>0</td>\n",
       "      <td>3333700</td>\n",
       "    </tr>\n",
       "    <tr>\n",
       "      <th>4</th>\n",
       "      <td>chr1</td>\n",
       "      <td>125076800</td>\n",
       "      <td>0</td>\n",
       "      <td>18400</td>\n",
       "    </tr>\n",
       "    <tr>\n",
       "      <th>...</th>\n",
       "      <td>...</td>\n",
       "      <td>...</td>\n",
       "      <td>...</td>\n",
       "      <td>...</td>\n",
       "    </tr>\n",
       "    <tr>\n",
       "      <th>631</th>\n",
       "      <td>chrY</td>\n",
       "      <td>4344800</td>\n",
       "      <td>0</td>\n",
       "      <td>2000</td>\n",
       "    </tr>\n",
       "    <tr>\n",
       "      <th>632</th>\n",
       "      <td>chrY</td>\n",
       "      <td>10643700</td>\n",
       "      <td>0</td>\n",
       "      <td>795000</td>\n",
       "    </tr>\n",
       "    <tr>\n",
       "      <th>633</th>\n",
       "      <td>chrY</td>\n",
       "      <td>11203700</td>\n",
       "      <td>0</td>\n",
       "      <td>263200</td>\n",
       "    </tr>\n",
       "    <tr>\n",
       "      <th>634</th>\n",
       "      <td>chrY</td>\n",
       "      <td>11622200</td>\n",
       "      <td>0</td>\n",
       "      <td>271200</td>\n",
       "    </tr>\n",
       "    <tr>\n",
       "      <th>635</th>\n",
       "      <td>chrY</td>\n",
       "      <td>41932350</td>\n",
       "      <td>0</td>\n",
       "      <td>30590100</td>\n",
       "    </tr>\n",
       "  </tbody>\n",
       "</table>\n",
       "<p>636 rows × 4 columns</p>\n",
       "</div>"
      ],
      "text/plain": [
       "    subseq        loc  strand      size\n",
       "0     chr1     396250       0    792500\n",
       "1     chr1   91387350       0      2100\n",
       "2     chr1  103677500       0    166200\n",
       "3     chr1  123272050       0   3333700\n",
       "4     chr1  125076800       0     18400\n",
       "..     ...        ...     ...       ...\n",
       "631   chrY    4344800       0      2000\n",
       "632   chrY   10643700       0    795000\n",
       "633   chrY   11203700       0    263200\n",
       "634   chrY   11622200       0    271200\n",
       "635   chrY   41932350       0  30590100\n",
       "\n",
       "[636 rows x 4 columns]"
      ]
     },
     "execution_count": 6,
     "metadata": {},
     "output_type": "execute_result"
    }
   ],
   "source": [
    "BLR = Bed2Markers('hg38-blacklist.v2.bed') \n",
    "BLR"
   ]
  },
  {
   "cell_type": "markdown",
   "id": "04697522-359e-4464-81bf-3ecb4a8c2b81",
   "metadata": {},
   "source": [
    "Making inverse BinCurrent from Blacklist Markers (0s are bad regions)"
   ]
  },
  {
   "cell_type": "code",
   "execution_count": 16,
   "id": "6f229529-87b1-4955-b050-08eea8dc7aad",
   "metadata": {},
   "outputs": [],
   "source": [
    "BLC = Markers2BinCurrent(BLR, hg38_sizes, hg38_id, select_BS_ids = select_chrs, \n",
    "                         Msizes = BLR.iloc[:, 3], reso = 1, inverse = True, dtype = np.int8) \n",
    "\n",
    "pickle.dump(BLC, open('BLC' + '.p', 'wb')) #Saving"
   ]
  },
  {
   "cell_type": "markdown",
   "id": "bb9c0a70-2107-4c4d-accb-8a65f57e9164",
   "metadata": {},
   "source": [
    "Lowering resolution to newreso (20bp) and taking the minimum (0s are bad regions) "
   ]
  },
  {
   "cell_type": "code",
   "execution_count": 18,
   "id": "c738a142-fa35-430c-8269-9621d8e6d7f5",
   "metadata": {},
   "outputs": [],
   "source": [
    "BLC_LR = LowerResCurrent(BLC, 1, newreso, resomode = np.min, dtype = np.int8) \n",
    "\n",
    "pickle.dump(BLC_LR, open('BLC_LR' + '.p', 'wb')) #Saving"
   ]
  },
  {
   "cell_type": "code",
   "execution_count": null,
   "id": "d2981eb7-0be7-4e80-96c1-28ea0a3ac96e",
   "metadata": {},
   "outputs": [],
   "source": [
    "del [BLC, BLC_LR] #deleting "
   ]
  },
  {
   "cell_type": "markdown",
   "id": "f63a7d51-5447-45c6-a685-978d74200acf",
   "metadata": {
    "tags": []
   },
   "source": [
    "### ChIP Signals"
   ]
  },
  {
   "cell_type": "markdown",
   "id": "32c0dfaf-9b6c-4f14-a0b2-12fa1674d85c",
   "metadata": {
    "tags": []
   },
   "source": [
    "#### Histones"
   ]
  },
  {
   "cell_type": "markdown",
   "id": "512e2c40-d154-4011-9e36-cb74e9a69690",
   "metadata": {},
   "source": [
    "Making a dictionary of histone SigCurrents. Each entry is also a dictionary for the replicates. "
   ]
  },
  {
   "cell_type": "code",
   "execution_count": 8,
   "id": "ade924e8-72f8-4b12-bbf6-5e6e9e7ee41b",
   "metadata": {},
   "outputs": [],
   "source": [
    "histone_reps = {}\n",
    "for h in histones: histone_reps[h] = {}"
   ]
  },
  {
   "cell_type": "markdown",
   "id": "60dcdab4-7ecc-42ee-9e68-452cfa12c48a",
   "metadata": {},
   "source": [
    "SigCurrents produced from bam alignment files. Reads are single-end and are extended to 300bp.  \n",
    "*See First_steps for pre-work*"
   ]
  },
  {
   "cell_type": "code",
   "execution_count": 22,
   "id": "3e4d50de-0619-4dfd-a10e-3aecd3289985",
   "metadata": {},
   "outputs": [],
   "source": [
    "for index, row in data_source[data_source['target_type'] == 'histone'].iterrows(): \n",
    "    target, rep, newid = row['target'], row['rep'], row['newid']\n",
    "    histone_reps[target][rep] = Bam2Current('./bam/' + newid + '.bam', hg38_sizes, hg38_id, select_BS_ids = select_chrs, \n",
    "                                            newreso = 20, resomode = np.mean, stranded = False, read_length = 300, \n",
    "                                            paired = False, make_index = True, dtype = np.float32)\n",
    "\n",
    "pickle.dump(histone_reps, open('histone_reps' + '.p', 'wb')) #Saving"
   ]
  },
  {
   "cell_type": "markdown",
   "id": "dbd6c136-91f9-4f1c-b16e-d5f2a893c24c",
   "metadata": {},
   "source": [
    "Merging replicates by summing and storing in a new dictionary"
   ]
  },
  {
   "cell_type": "code",
   "execution_count": 23,
   "id": "b13a36a3-2fc8-44c5-b381-e598939ec38b",
   "metadata": {},
   "outputs": [],
   "source": [
    "histone_merged = {}\n",
    "for h in histone_reps.keys(): \n",
    "    histone_merged[h] = CurrentMerger(Currents2Current([histone_reps[h][e] for e in histone_reps[h].keys()]), mode = np.sum, dtype = np.float32) "
   ]
  },
  {
   "cell_type": "code",
   "execution_count": null,
   "id": "2493e565-5462-4c53-a58a-b7f51501857c",
   "metadata": {},
   "outputs": [],
   "source": [
    "del [histone_reps] #deleting"
   ]
  },
  {
   "cell_type": "markdown",
   "id": "82fdda5a-8358-4ef1-8956-0b0d4032b455",
   "metadata": {},
   "source": [
    "Combining all merged replicates into a single signal Current. "
   ]
  },
  {
   "cell_type": "code",
   "execution_count": null,
   "id": "1982f0c1-db60-4df2-a097-6aa7d392686f",
   "metadata": {},
   "outputs": [],
   "source": [
    "histone_combined = Currents2Current([histone_merged[h] for h in histone_merged.keys()])\n",
    "\n",
    "pickle.dump(histone_combined, open('histone_combined' + '.p', 'wb')) #Saving"
   ]
  },
  {
   "cell_type": "code",
   "execution_count": null,
   "id": "49a816ea-1cf4-4b10-84ed-e22aade96dcd",
   "metadata": {},
   "outputs": [],
   "source": [
    "del [histone_merged] #deleting"
   ]
  },
  {
   "cell_type": "markdown",
   "id": "3fd93a29-4aa2-4f28-985a-7934d83fe54d",
   "metadata": {},
   "source": [
    "Zeroing signals in BLRs by multiplying Currents by CurrentModifier. BLC and BLC_LR, 0s are bad regions and 1s are good. "
   ]
  },
  {
   "cell_type": "code",
   "execution_count": 8,
   "id": "9f009881-0063-45d9-9ef0-436aa1bc219f",
   "metadata": {},
   "outputs": [],
   "source": [
    "#histone_combined = pickle.load(open('histone_combined' + '.p', 'rb')) #loading\n",
    "\n",
    "BLC_LR = pickle.load(open('BLC_LR' + '.p', 'rb')) #loading\n",
    "\n",
    "histone_noBLR = CurrentModifier(histone_combined, BLC_LR, np.multiply) "
   ]
  },
  {
   "cell_type": "markdown",
   "id": "eb3d5ae2-c5e5-4895-bd5a-46eadb8325cc",
   "metadata": {},
   "source": [
    "Min max normalizing values from 0 to max score for each signal in SigCurrent. "
   ]
  },
  {
   "cell_type": "code",
   "execution_count": null,
   "id": "c122d0fe-c58a-4259-a826-1674cdb56fea",
   "metadata": {},
   "outputs": [],
   "source": [
    "histone_norm = CurrentTransformer(histone_noBLR, minmax = (0, None), standardize = False, dtype = np.float32) \n",
    "\n",
    "pickle.dump(histone_norm, open('histone_norm' + '.p', 'wb')) #Saving"
   ]
  },
  {
   "cell_type": "code",
   "execution_count": 9,
   "id": "76c1cd48-5bb2-42ff-b377-e4cbe891cea0",
   "metadata": {
    "tags": []
   },
   "outputs": [],
   "source": [
    "del [histone_combined, BLC_LR, histone_noBLR] #deleting"
   ]
  },
  {
   "cell_type": "markdown",
   "id": "9fc5b1e7-febc-48f7-a11f-4d824e6dd7b6",
   "metadata": {
    "tags": []
   },
   "source": [
    "#### Dead Regions"
   ]
  },
  {
   "cell_type": "markdown",
   "id": "185c6fe8-b327-4373-a805-561da16f50bd",
   "metadata": {},
   "source": [
    "Getting a Dead region Current by windowing, thresholding, then padding.  \n",
    "Dead region will be defined as not having any signal above 0.1 in a 2000bp window. "
   ]
  },
  {
   "cell_type": "code",
   "execution_count": 13,
   "id": "e3b29dfb-5463-4d81-a64d-dfe9e85a62dd",
   "metadata": {},
   "outputs": [],
   "source": [
    "#histone_norm = pickle.load(open('histone_norm' + '.p', 'rb')) #loading\n",
    "\n",
    "DC = CurrentWindower(histone_norm, reso = 20, mode = np.max, window = 2000, center = True, extend = True, dtype = np.float32) \n",
    "DC = CurrentThresholder(DC, threshold = 0.1, threshsign = np.greater, binary = True) #Windows not passing threshold have a 0\n",
    "DC = CurrentPadder(DC, reso = 20, pad = 1000, shift = 0, value = 0, base = 1, dtype = np.int8) #Expanding 0s 1000bp each side to match initial 2000bp window\n",
    "\n",
    "pickle.dump(DC,  open('DC' + '.p', 'wb')) #Saving"
   ]
  },
  {
   "cell_type": "markdown",
   "id": "2a85d733-45e4-4b72-884f-685acd9508c7",
   "metadata": {},
   "source": [
    "Merging Blacklist and Dead regions together to make a full filter Current (FT), aka a BadCurrent, keeping 0s in from both Currents by taking minumum. "
   ]
  },
  {
   "cell_type": "code",
   "execution_count": 17,
   "id": "911426d6-81c7-416a-affe-9a8aad7a9b6a",
   "metadata": {},
   "outputs": [],
   "source": [
    "#BLC_LR = pickle.load(open('BLC_LR' + '.p', 'rb')) #loading\n",
    "#DC = pickle.load(open('DC' + '.p', 'rb')) #loading\n",
    "\n",
    "FT = CurrentMerger(Currents2Current([BLC_LR, DC]), mode = np.min) \n",
    "\n",
    "pickle.dump(FT, open('FT' + '.p', 'wb')) #Saving"
   ]
  },
  {
   "cell_type": "markdown",
   "id": "482f9af9-2d92-4de8-8627-bfa7f6a4f11d",
   "metadata": {},
   "source": [
    "Making bp resolution Dead region Current for later use. "
   ]
  },
  {
   "cell_type": "code",
   "execution_count": 9,
   "id": "d548f851-db3c-4c0f-87d1-396e5fc49fcc",
   "metadata": {},
   "outputs": [],
   "source": [
    "#FT = pickle.load(open('FT' + '.p', 'rb')) #loading\n",
    "\n",
    "FTE = CurrentExpander(FT, newreso, hg38_sizes, hg38_id, select_BS_ids = select_chrs)\n",
    "\n",
    "pickle.dump(FTE, open('FTE' + '.p', 'wb')) #Saving"
   ]
  },
  {
   "cell_type": "code",
   "execution_count": null,
   "id": "ccd61134-af66-45db-a727-56ce6a2e5367",
   "metadata": {},
   "outputs": [],
   "source": [
    "del [FTE] #deleting"
   ]
  },
  {
   "cell_type": "markdown",
   "id": "48fd1da7-8f69-43e5-bd1d-ab0563dbfc4d",
   "metadata": {},
   "source": [
    "Inverting so that 0s are good and 1s are bad for later use. "
   ]
  },
  {
   "cell_type": "code",
   "execution_count": 12,
   "id": "f2b38515-3d55-4d74-b597-d6c4cad5dc26",
   "metadata": {},
   "outputs": [],
   "source": [
    "#FT = pickle.load(open('FT' + '.p', 'rb')) #loading\n",
    "\n",
    "FTI = BinCurrentInverter(FT) \n",
    "\n",
    "pickle.dump(FTI, open('FTI' + '.p', 'wb')) #Saving"
   ]
  },
  {
   "cell_type": "code",
   "execution_count": null,
   "id": "1a088ff5-08c2-4120-a886-9fb75d4de03f",
   "metadata": {},
   "outputs": [],
   "source": [
    "del [FTI] #deleting"
   ]
  },
  {
   "cell_type": "markdown",
   "id": "18907788-7907-4488-81d6-9a51d6f50cf4",
   "metadata": {
    "tags": []
   },
   "source": [
    "#### YY1"
   ]
  },
  {
   "cell_type": "markdown",
   "id": "c6e05187-59a7-4e7b-b137-af0d81b2c33c",
   "metadata": {},
   "source": [
    "Like with histones previously, making a dictionary of YY1 replicates SigCurrents.  \n",
    "SigCurrents produced from bam alignment files.  \n",
    "*See First_steps for pre-work*"
   ]
  },
  {
   "cell_type": "code",
   "execution_count": null,
   "id": "ccf7fb47-0484-4e49-a598-7689c1716d4d",
   "metadata": {},
   "outputs": [],
   "source": [
    "YY1_reps = {}\n",
    "for index, row in data_source[data_source['target'] == 'YY1'].iterrows(): \n",
    "    rep, newid = row['rep'], row['newid']\n",
    "    YY1_reps[rep] = Bam2Current('./bam/' + newid + '.bam', hg38_sizes, hg38_id, select_BS_ids = select_chrs, \n",
    "                                newreso = 20, resomode = np.mean, stranded = False, read_length = 300, \n",
    "                                paired = False, make_index = True, dtype = np.float32)\n",
    "\n",
    "pickle.dump(YY1_reps, open('YY1_reps' + '.p', 'wb')) #Saving"
   ]
  },
  {
   "cell_type": "markdown",
   "id": "08b06360-c871-4d1b-9b46-f11e918d9ecf",
   "metadata": {},
   "source": [
    "Like with histones previously, merging replicates by summing, zeroing Blacklist region signals, and min max normalizing. "
   ]
  },
  {
   "cell_type": "code",
   "execution_count": 15,
   "id": "758d2de8-6b3f-4086-b455-877f352699e2",
   "metadata": {},
   "outputs": [],
   "source": [
    "#YY1_reps = pickle.load(open('YY1_reps' + '.p', 'rb')) #loading\n",
    "BLC_LR = pickle.load(open('BLC_LR' + '.p', 'rb')) #loading#\n",
    "\n",
    "YY1_merged = CurrentMerger(Currents2Current([YY1_reps[r] for r in YY1_reps.keys()]), mode = np.sum, dtype = np.float32)\n",
    "\n",
    "YY1_noBLR = CurrentModifier(YY1_merged, BLC_LR, np.multiply, dtype = np.float32)\n",
    "\n",
    "YY1_norm = CurrentTransformer(YY1_noBLR, minmax = (0, None), standardize = False, dtype = np.float32)\n",
    "\n",
    "pickle.dump(YY1_norm, open('YY1_norm' + '.p', 'wb')) #Saving"
   ]
  },
  {
   "cell_type": "code",
   "execution_count": null,
   "id": "3bac02ae-7296-4cab-8090-5285d60f1439",
   "metadata": {},
   "outputs": [],
   "source": [
    "del [YY1_merged, YY1_noBLR, YY1_norm]"
   ]
  },
  {
   "cell_type": "markdown",
   "id": "f5e14836-c849-4235-9b1b-50ec966f7098",
   "metadata": {
    "tags": []
   },
   "source": [
    "### YY1 Peaks"
   ]
  },
  {
   "cell_type": "markdown",
   "id": "f8e83b09-d540-4ebb-b05c-e47fa9ebab8f",
   "metadata": {},
   "source": [
    "Making Markers from YY1 peaks.  \n",
    "*See First_steps for pre-work*"
   ]
  },
  {
   "cell_type": "code",
   "execution_count": 11,
   "id": "924a9991-5714-4a1c-b611-28df57b7eb08",
   "metadata": {},
   "outputs": [
    {
     "data": {
      "text/html": [
       "<div>\n",
       "<style scoped>\n",
       "    .dataframe tbody tr th:only-of-type {\n",
       "        vertical-align: middle;\n",
       "    }\n",
       "\n",
       "    .dataframe tbody tr th {\n",
       "        vertical-align: top;\n",
       "    }\n",
       "\n",
       "    .dataframe thead th {\n",
       "        text-align: right;\n",
       "    }\n",
       "</style>\n",
       "<table border=\"1\" class=\"dataframe\">\n",
       "  <thead>\n",
       "    <tr style=\"text-align: right;\">\n",
       "      <th></th>\n",
       "      <th>subseq</th>\n",
       "      <th>loc</th>\n",
       "      <th>strand</th>\n",
       "      <th>size</th>\n",
       "      <th>add4</th>\n",
       "    </tr>\n",
       "  </thead>\n",
       "  <tbody>\n",
       "    <tr>\n",
       "      <th>0</th>\n",
       "      <td>chr1</td>\n",
       "      <td>778560</td>\n",
       "      <td>0</td>\n",
       "      <td>100</td>\n",
       "      <td>193.965</td>\n",
       "    </tr>\n",
       "    <tr>\n",
       "      <th>1</th>\n",
       "      <td>chr1</td>\n",
       "      <td>959185</td>\n",
       "      <td>0</td>\n",
       "      <td>100</td>\n",
       "      <td>236.246</td>\n",
       "    </tr>\n",
       "    <tr>\n",
       "      <th>2</th>\n",
       "      <td>chr1</td>\n",
       "      <td>1231946</td>\n",
       "      <td>0</td>\n",
       "      <td>100</td>\n",
       "      <td>293.486</td>\n",
       "    </tr>\n",
       "    <tr>\n",
       "      <th>3</th>\n",
       "      <td>chr1</td>\n",
       "      <td>1273793</td>\n",
       "      <td>0</td>\n",
       "      <td>100</td>\n",
       "      <td>319.671</td>\n",
       "    </tr>\n",
       "    <tr>\n",
       "      <th>4</th>\n",
       "      <td>chr1</td>\n",
       "      <td>1399262</td>\n",
       "      <td>0</td>\n",
       "      <td>100</td>\n",
       "      <td>284.429</td>\n",
       "    </tr>\n",
       "    <tr>\n",
       "      <th>...</th>\n",
       "      <td>...</td>\n",
       "      <td>...</td>\n",
       "      <td>...</td>\n",
       "      <td>...</td>\n",
       "      <td>...</td>\n",
       "    </tr>\n",
       "    <tr>\n",
       "      <th>2995</th>\n",
       "      <td>chrX</td>\n",
       "      <td>154437081</td>\n",
       "      <td>0</td>\n",
       "      <td>100</td>\n",
       "      <td>255.714</td>\n",
       "    </tr>\n",
       "    <tr>\n",
       "      <th>2996</th>\n",
       "      <td>chrX</td>\n",
       "      <td>154516170</td>\n",
       "      <td>0</td>\n",
       "      <td>100</td>\n",
       "      <td>270.880</td>\n",
       "    </tr>\n",
       "    <tr>\n",
       "      <th>2997</th>\n",
       "      <td>chrX</td>\n",
       "      <td>154762904</td>\n",
       "      <td>0</td>\n",
       "      <td>100</td>\n",
       "      <td>195.129</td>\n",
       "    </tr>\n",
       "    <tr>\n",
       "      <th>2998</th>\n",
       "      <td>chrX</td>\n",
       "      <td>155071473</td>\n",
       "      <td>0</td>\n",
       "      <td>100</td>\n",
       "      <td>245.130</td>\n",
       "    </tr>\n",
       "    <tr>\n",
       "      <th>2999</th>\n",
       "      <td>chrX</td>\n",
       "      <td>155216434</td>\n",
       "      <td>0</td>\n",
       "      <td>100</td>\n",
       "      <td>263.190</td>\n",
       "    </tr>\n",
       "  </tbody>\n",
       "</table>\n",
       "<p>3000 rows × 5 columns</p>\n",
       "</div>"
      ],
      "text/plain": [
       "     subseq        loc  strand  size     add4\n",
       "0      chr1     778560       0   100  193.965\n",
       "1      chr1     959185       0   100  236.246\n",
       "2      chr1    1231946       0   100  293.486\n",
       "3      chr1    1273793       0   100  319.671\n",
       "4      chr1    1399262       0   100  284.429\n",
       "...     ...        ...     ...   ...      ...\n",
       "2995   chrX  154437081       0   100  255.714\n",
       "2996   chrX  154516170       0   100  270.880\n",
       "2997   chrX  154762904       0   100  195.129\n",
       "2998   chrX  155071473       0   100  245.130\n",
       "2999   chrX  155216434       0   100  263.190\n",
       "\n",
       "[3000 rows x 5 columns]"
      ]
     },
     "execution_count": 11,
     "metadata": {},
     "output_type": "execute_result"
    }
   ],
   "source": [
    "YY1peaks = Bed2Markers('YY1_peaks/YY1_summits_toppeaks.bed', addcols = [4])\n",
    "YY1peaks"
   ]
  },
  {
   "cell_type": "markdown",
   "id": "ce072648-18f8-4204-9227-a756d0e56fc7",
   "metadata": {},
   "source": [
    "Filter YY1 peaks Marker to only include select_chrs and remove those within 400bp of a full filtered region. "
   ]
  },
  {
   "cell_type": "code",
   "execution_count": 13,
   "id": "5368142c-0ecf-474f-8db6-7d22d105d69c",
   "metadata": {},
   "outputs": [
    {
     "data": {
      "text/html": [
       "<div>\n",
       "<style scoped>\n",
       "    .dataframe tbody tr th:only-of-type {\n",
       "        vertical-align: middle;\n",
       "    }\n",
       "\n",
       "    .dataframe tbody tr th {\n",
       "        vertical-align: top;\n",
       "    }\n",
       "\n",
       "    .dataframe thead th {\n",
       "        text-align: right;\n",
       "    }\n",
       "</style>\n",
       "<table border=\"1\" class=\"dataframe\">\n",
       "  <thead>\n",
       "    <tr style=\"text-align: right;\">\n",
       "      <th></th>\n",
       "      <th>subseq</th>\n",
       "      <th>loc</th>\n",
       "      <th>strand</th>\n",
       "      <th>size</th>\n",
       "      <th>add4</th>\n",
       "    </tr>\n",
       "  </thead>\n",
       "  <tbody>\n",
       "    <tr>\n",
       "      <th>0</th>\n",
       "      <td>chr1</td>\n",
       "      <td>778560</td>\n",
       "      <td>0</td>\n",
       "      <td>100</td>\n",
       "      <td>193.965</td>\n",
       "    </tr>\n",
       "    <tr>\n",
       "      <th>1</th>\n",
       "      <td>chr1</td>\n",
       "      <td>959185</td>\n",
       "      <td>0</td>\n",
       "      <td>100</td>\n",
       "      <td>236.246</td>\n",
       "    </tr>\n",
       "    <tr>\n",
       "      <th>2</th>\n",
       "      <td>chr1</td>\n",
       "      <td>1231946</td>\n",
       "      <td>0</td>\n",
       "      <td>100</td>\n",
       "      <td>293.486</td>\n",
       "    </tr>\n",
       "    <tr>\n",
       "      <th>3</th>\n",
       "      <td>chr1</td>\n",
       "      <td>1273793</td>\n",
       "      <td>0</td>\n",
       "      <td>100</td>\n",
       "      <td>319.671</td>\n",
       "    </tr>\n",
       "    <tr>\n",
       "      <th>4</th>\n",
       "      <td>chr1</td>\n",
       "      <td>1407215</td>\n",
       "      <td>0</td>\n",
       "      <td>100</td>\n",
       "      <td>317.361</td>\n",
       "    </tr>\n",
       "    <tr>\n",
       "      <th>...</th>\n",
       "      <td>...</td>\n",
       "      <td>...</td>\n",
       "      <td>...</td>\n",
       "      <td>...</td>\n",
       "      <td>...</td>\n",
       "    </tr>\n",
       "    <tr>\n",
       "      <th>692</th>\n",
       "      <td>chr3</td>\n",
       "      <td>196739874</td>\n",
       "      <td>0</td>\n",
       "      <td>100</td>\n",
       "      <td>246.127</td>\n",
       "    </tr>\n",
       "    <tr>\n",
       "      <th>693</th>\n",
       "      <td>chr3</td>\n",
       "      <td>197298080</td>\n",
       "      <td>0</td>\n",
       "      <td>100</td>\n",
       "      <td>276.323</td>\n",
       "    </tr>\n",
       "    <tr>\n",
       "      <th>694</th>\n",
       "      <td>chr3</td>\n",
       "      <td>197791236</td>\n",
       "      <td>0</td>\n",
       "      <td>100</td>\n",
       "      <td>297.556</td>\n",
       "    </tr>\n",
       "    <tr>\n",
       "      <th>695</th>\n",
       "      <td>chr3</td>\n",
       "      <td>197950155</td>\n",
       "      <td>0</td>\n",
       "      <td>100</td>\n",
       "      <td>238.640</td>\n",
       "    </tr>\n",
       "    <tr>\n",
       "      <th>696</th>\n",
       "      <td>chr3</td>\n",
       "      <td>197960198</td>\n",
       "      <td>0</td>\n",
       "      <td>100</td>\n",
       "      <td>271.288</td>\n",
       "    </tr>\n",
       "  </tbody>\n",
       "</table>\n",
       "<p>697 rows × 5 columns</p>\n",
       "</div>"
      ],
      "text/plain": [
       "    subseq        loc  strand  size     add4\n",
       "0     chr1     778560       0   100  193.965\n",
       "1     chr1     959185       0   100  236.246\n",
       "2     chr1    1231946       0   100  293.486\n",
       "3     chr1    1273793       0   100  319.671\n",
       "4     chr1    1407215       0   100  317.361\n",
       "..     ...        ...     ...   ...      ...\n",
       "692   chr3  196739874       0   100  246.127\n",
       "693   chr3  197298080       0   100  276.323\n",
       "694   chr3  197791236       0   100  297.556\n",
       "695   chr3  197950155       0   100  238.640\n",
       "696   chr3  197960198       0   100  271.288\n",
       "\n",
       "[697 rows x 5 columns]"
      ]
     },
     "execution_count": 13,
     "metadata": {},
     "output_type": "execute_result"
    }
   ],
   "source": [
    "FTI = pickle.load(open('FTI' + '.p', 'rb')) #Loading\n",
    "\n",
    "YY1peaks_filt = MarkersFilter(YY1peaks, FTI, hg38_id, select_BS_ids = select_chrs, reso = 20, exact = False, \n",
    "                              Msizes = [400], threshold = 0, threshmode = np.sum, threshsign = np.equal)\n",
    "\n",
    "pickle.dump(YY1peaks_filt, open('YY1peaks_filt' + '.p', 'wb')) #Saving\n",
    "\n",
    "YY1peaks_filt"
   ]
  },
  {
   "cell_type": "markdown",
   "id": "29ed4595-f5f4-4801-a5b1-7cd8c1d08f7f",
   "metadata": {},
   "source": [
    "Modifying Markers to be used for Pack generation. Both strands are used (opposite = True) and no marker in the ends of 5000bp. "
   ]
  },
  {
   "cell_type": "code",
   "execution_count": 14,
   "id": "12f2b90a-89b3-4af1-b729-aa6c8389a3d1",
   "metadata": {},
   "outputs": [
    {
     "data": {
      "text/html": [
       "<div>\n",
       "<style scoped>\n",
       "    .dataframe tbody tr th:only-of-type {\n",
       "        vertical-align: middle;\n",
       "    }\n",
       "\n",
       "    .dataframe tbody tr th {\n",
       "        vertical-align: top;\n",
       "    }\n",
       "\n",
       "    .dataframe thead th {\n",
       "        text-align: right;\n",
       "    }\n",
       "</style>\n",
       "<table border=\"1\" class=\"dataframe\">\n",
       "  <thead>\n",
       "    <tr style=\"text-align: right;\">\n",
       "      <th></th>\n",
       "      <th>subseq</th>\n",
       "      <th>loc</th>\n",
       "      <th>strand</th>\n",
       "      <th>size</th>\n",
       "      <th>add4</th>\n",
       "    </tr>\n",
       "  </thead>\n",
       "  <tbody>\n",
       "    <tr>\n",
       "      <th>0</th>\n",
       "      <td>chr1</td>\n",
       "      <td>778560</td>\n",
       "      <td>0</td>\n",
       "      <td>100</td>\n",
       "      <td>193.965</td>\n",
       "    </tr>\n",
       "    <tr>\n",
       "      <th>1</th>\n",
       "      <td>chr1</td>\n",
       "      <td>778560</td>\n",
       "      <td>1</td>\n",
       "      <td>100</td>\n",
       "      <td>193.965</td>\n",
       "    </tr>\n",
       "    <tr>\n",
       "      <th>2</th>\n",
       "      <td>chr1</td>\n",
       "      <td>959185</td>\n",
       "      <td>0</td>\n",
       "      <td>100</td>\n",
       "      <td>236.246</td>\n",
       "    </tr>\n",
       "    <tr>\n",
       "      <th>3</th>\n",
       "      <td>chr1</td>\n",
       "      <td>959185</td>\n",
       "      <td>1</td>\n",
       "      <td>100</td>\n",
       "      <td>236.246</td>\n",
       "    </tr>\n",
       "    <tr>\n",
       "      <th>4</th>\n",
       "      <td>chr1</td>\n",
       "      <td>1231946</td>\n",
       "      <td>0</td>\n",
       "      <td>100</td>\n",
       "      <td>293.486</td>\n",
       "    </tr>\n",
       "    <tr>\n",
       "      <th>...</th>\n",
       "      <td>...</td>\n",
       "      <td>...</td>\n",
       "      <td>...</td>\n",
       "      <td>...</td>\n",
       "      <td>...</td>\n",
       "    </tr>\n",
       "    <tr>\n",
       "      <th>1389</th>\n",
       "      <td>chr3</td>\n",
       "      <td>197791236</td>\n",
       "      <td>1</td>\n",
       "      <td>100</td>\n",
       "      <td>297.556</td>\n",
       "    </tr>\n",
       "    <tr>\n",
       "      <th>1390</th>\n",
       "      <td>chr3</td>\n",
       "      <td>197950155</td>\n",
       "      <td>0</td>\n",
       "      <td>100</td>\n",
       "      <td>238.640</td>\n",
       "    </tr>\n",
       "    <tr>\n",
       "      <th>1391</th>\n",
       "      <td>chr3</td>\n",
       "      <td>197950155</td>\n",
       "      <td>1</td>\n",
       "      <td>100</td>\n",
       "      <td>238.640</td>\n",
       "    </tr>\n",
       "    <tr>\n",
       "      <th>1392</th>\n",
       "      <td>chr3</td>\n",
       "      <td>197960198</td>\n",
       "      <td>0</td>\n",
       "      <td>100</td>\n",
       "      <td>271.288</td>\n",
       "    </tr>\n",
       "    <tr>\n",
       "      <th>1393</th>\n",
       "      <td>chr3</td>\n",
       "      <td>197960198</td>\n",
       "      <td>1</td>\n",
       "      <td>100</td>\n",
       "      <td>271.288</td>\n",
       "    </tr>\n",
       "  </tbody>\n",
       "</table>\n",
       "<p>1394 rows × 5 columns</p>\n",
       "</div>"
      ],
      "text/plain": [
       "     subseq        loc  strand  size     add4\n",
       "0      chr1     778560       0   100  193.965\n",
       "1      chr1     778560       1   100  193.965\n",
       "2      chr1     959185       0   100  236.246\n",
       "3      chr1     959185       1   100  236.246\n",
       "4      chr1    1231946       0   100  293.486\n",
       "...     ...        ...     ...   ...      ...\n",
       "1389   chr3  197791236       1   100  297.556\n",
       "1390   chr3  197950155       0   100  238.640\n",
       "1391   chr3  197950155       1   100  238.640\n",
       "1392   chr3  197960198       0   100  271.288\n",
       "1393   chr3  197960198       1   100  271.288\n",
       "\n",
       "[1394 rows x 5 columns]"
      ]
     },
     "execution_count": 14,
     "metadata": {},
     "output_type": "execute_result"
    }
   ],
   "source": [
    "YY1peaks_ready = Markers4Packs(YY1peaks_filt, select_BS_ids = None, opposite = True, \n",
    "                                 ends = 5000, BS_sizes = hg38_sizes, BS_ids = hg38_id)\n",
    "YY1peaks_ready"
   ]
  },
  {
   "cell_type": "markdown",
   "id": "91efe129-2a27-4caa-8c8d-5dc802979085",
   "metadata": {},
   "source": [
    "Getting YY1 signal (1000bp) over the Markers using SigCurrent2Pack. "
   ]
  },
  {
   "cell_type": "code",
   "execution_count": 11,
   "id": "d3187d43-13fb-4bdc-b700-bed84d579850",
   "metadata": {},
   "outputs": [
    {
     "data": {
      "text/plain": [
       "(1394, 1, 50)"
      ]
     },
     "execution_count": 11,
     "metadata": {},
     "output_type": "execute_result"
    }
   ],
   "source": [
    "#YY1_norm = pickle.load(open('YY1_norm' + '.p', 'rb')) #Loading\n",
    "\n",
    "YY1_overpeaks = SigCurrent2Pack(YY1_norm, YY1peaks_ready, hg38_id, select_BS_ids = select_chrs, Vsize = 1000, reso = 20, \n",
    "                                newreso = None, resomode = np.mean, areas = None, exact = True, stranded = True, dtype = np.float32)\n",
    "YY1_overpeaks.shape"
   ]
  },
  {
   "cell_type": "markdown",
   "id": "06e68aff-bc1f-4334-a0df-fcf8cc9f777c",
   "metadata": {},
   "source": [
    "Aggregating the total YY1 signal by averaging (combomode = np.mean) and visualizing with a line plot (vismode = LinePLot). "
   ]
  },
  {
   "cell_type": "code",
   "execution_count": 13,
   "id": "07407b75-c175-4c55-bd53-6dcab9199676",
   "metadata": {},
   "outputs": [
    {
     "data": {
      "image/png": "[encoded data removed]",
      "text/plain": [
       "<Figure size 360x144 with 1 Axes>"
      ]
     },
     "metadata": {
      "needs_background": "light"
     },
     "output_type": "display_data"
    }
   ],
   "source": [
    "ProfilePack2Visual(YY1_overpeaks, combomode = np.mean, vismode = LinePlot, bounds = (None, None), Vsize = 1000, \n",
    "            xlabelsnum = 3, labels = ['YY1'], suptitle = None, figsize = (5,2), fontsize = 12, cmap = 'viridis')"
   ]
  },
  {
   "cell_type": "markdown",
   "id": "d2c1a01c-03a5-455b-ad77-920d33f60dde",
   "metadata": {},
   "source": [
    "Getting histone signal (4000bp, Vsize = 4000) over the Markers using SigCurrent2Pack. "
   ]
  },
  {
   "cell_type": "code",
   "execution_count": 16,
   "id": "1ee4317c-b8f6-4a9b-9d1f-ab38f91e3f9e",
   "metadata": {},
   "outputs": [
    {
     "data": {
      "text/plain": [
       "(1394, 11, 200)"
      ]
     },
     "execution_count": 16,
     "metadata": {},
     "output_type": "execute_result"
    }
   ],
   "source": [
    "#histone_norm = pickle.load(open('histone_norm' + '.p', 'rb'))\n",
    "\n",
    "histone_overpeaks = SigCurrent2Pack(histone_norm, YY1peaks_ready, hg38_id, select_BS_ids = select_chrs, Vsize = 4000, reso = 20, \n",
    "                                    newreso = None, resomode = np.mean, areas = None, exact = True, stranded = True, dtype = np.float32)\n",
    "histone_overpeaks.shape"
   ]
  },
  {
   "cell_type": "markdown",
   "id": "c09b81a5-4daa-48f4-bcbf-ccb3b7a1f1c9",
   "metadata": {},
   "source": [
    "Averaging the total histone signal(combomode = np.mean) and visualizing with a line plot (vismode = LinePLot). "
   ]
  },
  {
   "cell_type": "code",
   "execution_count": 18,
   "id": "812fbda9-8302-4247-9f79-9bdb99ccd88b",
   "metadata": {},
   "outputs": [
    {
     "data": {
      "image/png": "[encoded data removed]",
      "text/plain": [
       "<Figure size 360x720 with 11 Axes>"
      ]
     },
     "metadata": {
      "needs_background": "light"
     },
     "output_type": "display_data"
    }
   ],
   "source": [
    "ProfilePack2Visual(histone_overpeaks, combomode = np.mean, vismode = LinePlot, bounds = (None, None), Vsize = 4000, \n",
    "                   xlabelsnum = 5, labels = histones, suptitle = None, figsize = (5,10), fontsize = 12, cmap = 'viridis')"
   ]
  },
  {
   "cell_type": "markdown",
   "id": "9e58964f-de38-4963-9dd0-77956c6bc6f6",
   "metadata": {
    "tags": []
   },
   "source": [
    "### YY1 Potential Interacting Sites"
   ]
  },
  {
   "cell_type": "markdown",
   "id": "5c802739-a52e-4576-b1c8-d85bbfb4779f",
   "metadata": {},
   "source": [
    "Loading and Converting CM to PWM.  \n",
    "*See First_steps for pre-work*"
   ]
  },
  {
   "cell_type": "code",
   "execution_count": 19,
   "id": "12473d50-c745-4966-98fe-eeb2de5b1805",
   "metadata": {},
   "outputs": [
    {
     "data": {
      "text/plain": [
       "array([[-0.69632361,  1.27330274, -0.70974413, -1.4970148 ],\n",
       "       [ 1.92165395, -7.45121111, -2.36374827, -6.45121111],\n",
       "       [ 1.92816726, -7.45121111, -7.45121111, -2.45121111],\n",
       "       [ 0.06448873, -0.33227004,  1.0204641 , -2.92764916],\n",
       "       [ 1.99380373, -7.45121111, -7.45121111, -7.45121111],\n",
       "       [-7.45121111, -7.45121111, -7.45121111,  1.99380373],\n",
       "       [-7.45121111, -7.45121111,  1.99380373, -7.45121111],\n",
       "       [-7.45121111, -7.45121111,  1.99380373, -7.45121111],\n",
       "       [-1.72329066,  1.78001007, -7.45121111, -1.95935802],\n",
       "       [-1.77878577, -0.59323012,  1.35291991, -1.02494636],\n",
       "       [-1.2032836 , -0.97547768,  1.47360139, -1.83650127],\n",
       "       [-1.2032836 ,  1.53178246, -1.89662226, -1.30146399]])"
      ]
     },
     "execution_count": 19,
     "metadata": {},
     "output_type": "execute_result"
    }
   ],
   "source": [
    "YY1_PWM = CM2PWM('YY1_CM.txt', pseudo = True, bkg = [0.25,0.25,0.25,0.25])\n",
    "YY1_PWM"
   ]
  },
  {
   "cell_type": "code",
   "execution_count": 20,
   "id": "898dd941-e61f-4a8b-b2e8-d1a82762ed7e",
   "metadata": {},
   "outputs": [],
   "source": [
    "hg38, hg38_id, hg38_sizes = pickle.load(open('hg38' + '.p', 'rb')) #Loading"
   ]
  },
  {
   "cell_type": "markdown",
   "id": "c596b7d6-1703-4ed7-9848-056f631856ac",
   "metadata": {},
   "source": [
    "Scoring the PWM on the genome SeqCurrent.  \n",
    "Due to memory constraints, each chr is scored seperately and saved, and each sub-seq is broken to 100 piecies before scoring operations.  \n",
    "Using multiprocessing (parrellel = 4). "
   ]
  },
  {
   "cell_type": "code",
   "execution_count": 21,
   "id": "31e8a4fb-bc5f-401b-839d-e6cbba566b45",
   "metadata": {},
   "outputs": [],
   "source": [
    "for c in select_chrs: \n",
    "    PWMscores = PWMScorer(YY1_PWM, hg38, hg38_id, [c], parrellel = 4, pieces = 100, extend = True, center = True, dtype = np.float32)\n",
    "    pickle.dump(PWMscores, open('YY1_PWMscores_' + c + '.p', 'wb')) #Saving\n",
    "    del PWMscores "
   ]
  },
  {
   "cell_type": "markdown",
   "id": "99cdaa5b-3834-4c7e-ac08-020e24c95965",
   "metadata": {},
   "source": [
    "Combining scores from each individual chr to a single Current. "
   ]
  },
  {
   "cell_type": "code",
   "execution_count": 22,
   "id": "7f674956-0480-4fe5-90bf-7b2bbefa7334",
   "metadata": {},
   "outputs": [],
   "source": [
    "PWMscores_all = [pickle.load(open('YY1_PWMscores_' + c + '.p', 'rb'))[0] for c in select_chrs]\n",
    "\n",
    "pickle.dump(PWMscores_all, open('YY1_PWMscores_all' + '.p', 'wb')) #Saving"
   ]
  },
  {
   "cell_type": "markdown",
   "id": "98081f02-367f-4641-a45e-c1c97f4188e8",
   "metadata": {
    "tags": []
   },
   "source": [
    "#### PWM score versus binding intensity"
   ]
  },
  {
   "cell_type": "code",
   "execution_count": 15,
   "id": "97d81a4c-a039-41a2-a807-072e62247a68",
   "metadata": {},
   "outputs": [],
   "source": [
    "YY1peaks_filt = pickle.load(open('YY1peaks_filt' + '.p', 'rb')) #Loading\n",
    "PWMscores_all = pickle.load(open('YY1_PWMscores_all' + '.p', 'rb')) #Loading\n",
    "YY1_norm = pickle.load(open('YY1_norm' + '.p', 'rb')) #Loading"
   ]
  },
  {
   "cell_type": "markdown",
   "id": "6868dd7d-0f84-480f-af63-0856b7e9d2f1",
   "metadata": {},
   "source": [
    "Getting maximum PWM score at each Marker of size 500 with newreso = 500 and resomode of np.max using SigCurrent2Pack. "
   ]
  },
  {
   "cell_type": "code",
   "execution_count": 16,
   "id": "52897b85-5fe4-45b4-8dc6-531e3f521353",
   "metadata": {},
   "outputs": [
    {
     "data": {
      "text/plain": [
       "(697, 1, 1)"
      ]
     },
     "execution_count": 16,
     "metadata": {},
     "output_type": "execute_result"
    }
   ],
   "source": [
    "YY1peaks_PWM = SigCurrent2Pack(PWMscores_all, YY1peaks_filt, hg38_id, select_BS_ids = select_chrs, Vsize = 500, reso = 1, \n",
    "                               newreso = 500, resomode = np.max, areas = None, exact = False, stranded = True, dtype = np.float32)\n",
    "YY1peaks_PWM.shape"
   ]
  },
  {
   "cell_type": "markdown",
   "id": "5dbfe4fd-ac72-45e3-ba76-7bfc759eb054",
   "metadata": {},
   "source": [
    "Flattening the YY1 PWM maximum score pack using PackShaper. "
   ]
  },
  {
   "cell_type": "code",
   "execution_count": 17,
   "id": "253fc1ad-41db-480a-81bd-d9a685a4b585",
   "metadata": {},
   "outputs": [
    {
     "data": {
      "text/plain": [
       "(697,)"
      ]
     },
     "execution_count": 17,
     "metadata": {},
     "output_type": "execute_result"
    }
   ],
   "source": [
    "YY1peaks_PWM_flat = PackShaper(YY1peaks_PWM, expand_dim = None, squeeze = False, twoD = False, flatten = True)\n",
    "YY1peaks_PWM_flat.shape"
   ]
  },
  {
   "cell_type": "markdown",
   "id": "6e4afdf4-844a-40b1-95d3-8fcc2825e164",
   "metadata": {},
   "source": [
    "Finding the correlation of the best PWM score and MACS3 Peak score. "
   ]
  },
  {
   "cell_type": "code",
   "execution_count": 18,
   "id": "7c8b2dca-3328-43f3-be28-419dc71d8c64",
   "metadata": {},
   "outputs": [
    {
     "name": "stdout",
     "output_type": "stream",
     "text": [
      "Pearson correlation of Peak Score and PWM score: 0.355\n"
     ]
    }
   ],
   "source": [
    "cor1 = stats.pearsonr(YY1peaks_filt['add4'].values,YY1peaks_PWM_flat)[0]\n",
    "print(f'Pearson correlation of Peak Score and PWM score: {np.round(cor1, 3)}')"
   ]
  },
  {
   "cell_type": "markdown",
   "id": "ec823334-a945-4084-8cc3-e949387ca3ca",
   "metadata": {},
   "source": [
    "Plotting PWM score vs. Peak Score. "
   ]
  },
  {
   "cell_type": "code",
   "execution_count": 19,
   "id": "15bf3b7b-92ec-4a54-b68c-1241dbad7540",
   "metadata": {},
   "outputs": [
    {
     "data": {
      "image/png": "[encoded data removed]",
      "text/plain": [
       "<Figure size 432x288 with 1 Axes>"
      ]
     },
     "metadata": {
      "needs_background": "light"
     },
     "output_type": "display_data"
    }
   ],
   "source": [
    "plt.scatter(YY1peaks_filt['add4'].values,YY1peaks_PWM_flat, alpha = 0.2, color = 'sienna');\n",
    "plt.xlabel('Peak Score [MACS3]', fontsize = fontsize)\n",
    "plt.ylabel('PWM Score', fontsize = fontsize);"
   ]
  },
  {
   "cell_type": "markdown",
   "id": "48db07a1-3c86-4b22-a70f-faba38db41f7",
   "metadata": {},
   "source": [
    "Getting integrated YY1 signal at each Marker of size 480 with Vsize and areas of 480 using SigCurrent2Pack. "
   ]
  },
  {
   "cell_type": "code",
   "execution_count": 28,
   "id": "b6e8c7d0-cbee-482f-91e1-41a9482c8f54",
   "metadata": {},
   "outputs": [],
   "source": [
    "YY1_overpeaks = SigCurrent2Pack(YY1_norm, YY1peaks_filt, hg38_id, select_BS_ids = select_chrs, Vsize = 480, reso = 20, \n",
    "                                newreso = None, resomode = np.mean, areas = [480], exact = True, stranded = True, dtype = np.float32)"
   ]
  },
  {
   "cell_type": "markdown",
   "id": "ab4a83b2-da54-4e92-8586-ea9155b7a2e4",
   "metadata": {},
   "source": [
    "Flattening the pack using PackShaper. "
   ]
  },
  {
   "cell_type": "code",
   "execution_count": null,
   "id": "2b2a5102-b977-4031-91eb-f0cb59444298",
   "metadata": {},
   "outputs": [],
   "source": [
    "YY1_overpeaks_flat = PackShaper(YY1_overpeaks, expand_dim = None, squeeze = False, twoD = False, flatten = True)"
   ]
  },
  {
   "cell_type": "markdown",
   "id": "2d013050-2000-4957-8d77-e9c8ed319697",
   "metadata": {},
   "source": [
    "Finding the correlation of the best PWM score and integrated YY1 signal. "
   ]
  },
  {
   "cell_type": "code",
   "execution_count": null,
   "id": "125c1521-0361-4dea-9826-9066846b4c12",
   "metadata": {},
   "outputs": [],
   "source": [
    "cor2 = stats.pearsonr(YY1_overpeaks_flat,YY1peaks_PWM_flat)[0]\n",
    "print(f'Pearson correlation of Peak Score and PWM score: {np.round(cor2, 3)}') "
   ]
  },
  {
   "cell_type": "markdown",
   "id": "1c1cf142-0e32-4984-9135-a8ddba15241d",
   "metadata": {},
   "source": [
    "Plotting PWM score vs. integrated YY1 signal. "
   ]
  },
  {
   "cell_type": "code",
   "execution_count": 29,
   "id": "da273a98-62ee-4f83-9939-af74a9e2bf07",
   "metadata": {},
   "outputs": [
    {
     "name": "stdout",
     "output_type": "stream",
     "text": [
      "Pearson correlation of Peak Score and PWM score: 0.326\n"
     ]
    },
    {
     "data": {
      "image/png": "[encoded data removed]",
      "text/plain": [
       "<Figure size 432x288 with 1 Axes>"
      ]
     },
     "metadata": {
      "needs_background": "light"
     },
     "output_type": "display_data"
    }
   ],
   "source": [
    "plt.scatter(YY1_overpeaks_flat,YY1peaks_PWM_flat, alpha = 0.2, color = 'sienna');\n",
    "plt.xlabel('Integrated Signal (480bp)', fontsize = fontsize)\n",
    "plt.ylabel('PWM Score', fontsize = fontsize);"
   ]
  },
  {
   "cell_type": "markdown",
   "id": "902b196a-bdbf-4d5f-9cad-d168acc33cee",
   "metadata": {
    "tags": []
   },
   "source": [
    "#### Top PWM sites "
   ]
  },
  {
   "cell_type": "markdown",
   "id": "7472cc72-050c-4014-aedd-3560c29dc9c5",
   "metadata": {},
   "source": [
    "Getting the PWM score flags.  \n",
    "Loading and modifying each chr seperately for memory constraints.  \n",
    "PWM scores are first filtered using the full filter Current and multiplying with CurrentModifier.  \n",
    "Currentthresholder keeps values greater than 0.  \n",
    "CurrentFlagger finds best value in 200bp window with stride 20 and using double flagging.  "
   ]
  },
  {
   "cell_type": "code",
   "execution_count": 31,
   "id": "8aac6211-12ea-4845-a3f3-84c2f9a0d7e7",
   "metadata": {},
   "outputs": [],
   "source": [
    "FTE = pickle.load(open('FTE' + '.p', 'rb'))\n",
    "\n",
    "for ic, c in enumerate(select_chrs): \n",
    "    PWMscores = pickle.load(open('YY1_PWMscores_' + c + '.p', 'rb')) #Loading\n",
    "    PWMscores_filt = CurrentModifier(PWMscores, [FTE[ic]], np.multiply, dtype = np.float32)\n",
    "    #PWMscores_filt = CurrentThresholder(PWMscores_filt, threshold = 0, threshsign = np.greater, binary = False) #Zeros negative values\n",
    "    PWMscores_flag = CurrentFlagger(PWMscores_filt, reso = 1, window = 200, stride = 20, flagmode = np.argmax, double = True)\n",
    "    pickle.dump(PWMscores_flag, open('YY1_PWMscores_flag_' + c + '.p', 'wb')) #Saving\n",
    "    del PWMscores, PWMscores_filt, PWMscores_flag"
   ]
  },
  {
   "cell_type": "code",
   "execution_count": null,
   "id": "6abe8052-7a5b-4f86-9f4e-c8615a67679e",
   "metadata": {},
   "outputs": [],
   "source": [
    "del [FTE] "
   ]
  },
  {
   "cell_type": "markdown",
   "id": "8f08de58-6a08-47bb-9e4a-cd0a1e722af8",
   "metadata": {},
   "source": [
    "Combining flags from each individual chr to a single Current. "
   ]
  },
  {
   "cell_type": "code",
   "execution_count": 32,
   "id": "e6cc30c4-2bd4-4837-a6c0-d8554efa7990",
   "metadata": {},
   "outputs": [],
   "source": [
    "PWMscores_flags = [pickle.load(open('YY1_PWMscores_flag_' + c + '.p', 'rb'))[0] for c in select_chrs]\n",
    "\n",
    "pickle.dump(PWMscores_flags, open('YY1_PWMscores_flags' + '.p', 'wb')) #Saving"
   ]
  },
  {
   "cell_type": "markdown",
   "id": "2c81db21-a7e7-412a-a53c-27cabe1ea572",
   "metadata": {},
   "source": [
    "Plotting Histogram of non-zero PWM flags. "
   ]
  },
  {
   "cell_type": "code",
   "execution_count": 33,
   "id": "74d028a3-f280-4c82-9005-d739b7f3a05b",
   "metadata": {},
   "outputs": [
    {
     "data": {
      "image/png": "[encoded data removed]",
      "text/plain": [
       "<Figure size 432x288 with 1 Axes>"
      ]
     },
     "metadata": {
      "needs_background": "light"
     },
     "output_type": "display_data"
    }
   ],
   "source": [
    "#PWMscores_flags = pickle.load(open('YY1_PWMscores_flags' + '.p', 'rb')) #Loading\n",
    "\n",
    "flag_values = np.concatenate(PWMscores_flags, axis = 0) #Combining all flag values together for next step\n",
    "\n",
    "plt.hist(flag_values[flag_values != 0], bins = 100, histtype='step', color = 'sienna');\n",
    "#plt.title('Cumulative PWM Scores', fontsize = fontsize) \n",
    "plt.xlabel('PWM Score', fontsize = fontsize) \n",
    "plt.ylabel('Counts', fontsize = fontsize);"
   ]
  },
  {
   "cell_type": "code",
   "execution_count": 34,
   "id": "57c6f55e-43b6-43bb-91b6-2fc8e03d708f",
   "metadata": {},
   "outputs": [],
   "source": [
    "del flag_values"
   ]
  },
  {
   "cell_type": "markdown",
   "id": "1458141f-c0a7-46ad-9220-d2c969e96817",
   "metadata": {},
   "source": [
    "Testing different SigCurrent2Markers modes"
   ]
  },
  {
   "cell_type": "code",
   "execution_count": 35,
   "id": "1d00811a-ec90-48e3-92e7-26ccc4158c31",
   "metadata": {},
   "outputs": [],
   "source": [
    "#PWMscores_flags = pickle.load(open('YY1_PWMscores_flags' + '.p', 'rb')) #Loading\n",
    "\n",
    "MO = [None, Top, Harpoon, Harpoon, RevDistro, RevDistro, RevDistro, RevDistro]\n",
    "MA = [None, {'smallest': False}, {'bins': 10}, {'bins': 100}, {'alpha': 0}, {'alpha': 0.5}, {'alpha': 1.0}, {'alpha': 2.0}]\n",
    "\n",
    "vals = [] \n",
    "for im in range(len(MO)): \n",
    "    M = SigCurrent2Markers(PWMscores_flags, hg38_id, select_BS_ids = select_chrs, reso = 1, select = 100000, select_mode = MO[im], mode_args = MA[im])\n",
    "    vals.append(M['val'])"
   ]
  },
  {
   "cell_type": "code",
   "execution_count": 36,
   "id": "a6712cb4-56e6-4ea5-a6cf-b7781b2bf71a",
   "metadata": {},
   "outputs": [],
   "source": [
    "allflags = np.concatenate(PWMscores_flags, axis = 0).reshape(-1)\n",
    "mi, ma = np.min(allflags), np.max(allflags)\n",
    "bs = np.linspace(mi, ma, 100)\n",
    "\n",
    "del allflags"
   ]
  },
  {
   "cell_type": "markdown",
   "id": "7d55d305-217b-4357-a9a7-e0c5463a4acf",
   "metadata": {},
   "source": [
    "Plotting Markers values for different SigCurrent2Markers modes "
   ]
  },
  {
   "cell_type": "code",
   "execution_count": 37,
   "id": "d333f006-7c62-4314-b735-e79d8002c93b",
   "metadata": {},
   "outputs": [
    {
     "data": {
      "image/png": "[encoded data removed]",
      "text/plain": [
       "<Figure size 1152x720 with 8 Axes>"
      ]
     },
     "metadata": {
      "needs_background": "light"
     },
     "output_type": "display_data"
    }
   ],
   "source": [
    "fontsize = 12\n",
    "\n",
    "sel_modes_names = ['None, None', 'Top, smallest = False', 'Harpoon, bins = 10', 'Harpoon, bins = 100', \n",
    "                   'RevDistro, alpha = 0', 'RevDistro, alpha = 0.5', 'RevDistro, alpha = 1.0', 'RevDistro, alpha = 2.0'] \n",
    "\n",
    "fig, axs = plt.subplots(2, 4, figsize = (16,10), sharey = True)\n",
    "\n",
    "for (iv, v), ax in zip(enumerate(vals), axs.ravel()):\n",
    "    if iv == 0: \n",
    "        ax.set_xlabel('PWM Score, 100 bins', fontsize = fontsize)\n",
    "        ax.set_ylabel('Counts', fontsize = fontsize)\n",
    "    ax.hist(v, bs, color = 'sienna')\n",
    "    ax.set_title(sel_modes_names[iv], fontsize = fontsize)"
   ]
  },
  {
   "cell_type": "markdown",
   "id": "1c5e9161-0ca9-4a68-9b28-20d50148f68d",
   "metadata": {},
   "source": [
    "Getting 100,000 Marks from PWM flags with Harpoon (bin = 100) for preparing packs for ML (next step) with SigCurrent2Markers. "
   ]
  },
  {
   "cell_type": "code",
   "execution_count": 38,
   "id": "81a25276-7d23-47f4-80e3-8347a7cfa0f5",
   "metadata": {},
   "outputs": [
    {
     "data": {
      "text/html": [
       "<div>\n",
       "<style scoped>\n",
       "    .dataframe tbody tr th:only-of-type {\n",
       "        vertical-align: middle;\n",
       "    }\n",
       "\n",
       "    .dataframe tbody tr th {\n",
       "        vertical-align: top;\n",
       "    }\n",
       "\n",
       "    .dataframe thead th {\n",
       "        text-align: right;\n",
       "    }\n",
       "</style>\n",
       "<table border=\"1\" class=\"dataframe\">\n",
       "  <thead>\n",
       "    <tr style=\"text-align: right;\">\n",
       "      <th></th>\n",
       "      <th>subseq</th>\n",
       "      <th>loc</th>\n",
       "      <th>strand</th>\n",
       "      <th>size</th>\n",
       "      <th>val</th>\n",
       "    </tr>\n",
       "  </thead>\n",
       "  <tbody>\n",
       "    <tr>\n",
       "      <th>0</th>\n",
       "      <td>chr1</td>\n",
       "      <td>830276</td>\n",
       "      <td>0</td>\n",
       "      <td>1</td>\n",
       "      <td>1.564099</td>\n",
       "    </tr>\n",
       "    <tr>\n",
       "      <th>1</th>\n",
       "      <td>chr1</td>\n",
       "      <td>831773</td>\n",
       "      <td>0</td>\n",
       "      <td>1</td>\n",
       "      <td>-2.718052</td>\n",
       "    </tr>\n",
       "    <tr>\n",
       "      <th>2</th>\n",
       "      <td>chr1</td>\n",
       "      <td>847096</td>\n",
       "      <td>0</td>\n",
       "      <td>1</td>\n",
       "      <td>9.274565</td>\n",
       "    </tr>\n",
       "    <tr>\n",
       "      <th>3</th>\n",
       "      <td>chr1</td>\n",
       "      <td>847856</td>\n",
       "      <td>0</td>\n",
       "      <td>1</td>\n",
       "      <td>-0.124353</td>\n",
       "    </tr>\n",
       "    <tr>\n",
       "      <th>4</th>\n",
       "      <td>chr1</td>\n",
       "      <td>854726</td>\n",
       "      <td>0</td>\n",
       "      <td>1</td>\n",
       "      <td>10.579587</td>\n",
       "    </tr>\n",
       "    <tr>\n",
       "      <th>...</th>\n",
       "      <td>...</td>\n",
       "      <td>...</td>\n",
       "      <td>...</td>\n",
       "      <td>...</td>\n",
       "      <td>...</td>\n",
       "    </tr>\n",
       "    <tr>\n",
       "      <th>99995</th>\n",
       "      <td>chr3</td>\n",
       "      <td>198060830</td>\n",
       "      <td>0</td>\n",
       "      <td>1</td>\n",
       "      <td>1.363014</td>\n",
       "    </tr>\n",
       "    <tr>\n",
       "      <th>99996</th>\n",
       "      <td>chr3</td>\n",
       "      <td>198063371</td>\n",
       "      <td>0</td>\n",
       "      <td>1</td>\n",
       "      <td>4.999675</td>\n",
       "    </tr>\n",
       "    <tr>\n",
       "      <th>99997</th>\n",
       "      <td>chr3</td>\n",
       "      <td>198075457</td>\n",
       "      <td>0</td>\n",
       "      <td>1</td>\n",
       "      <td>-5.486622</td>\n",
       "    </tr>\n",
       "    <tr>\n",
       "      <th>99998</th>\n",
       "      <td>chr3</td>\n",
       "      <td>198094424</td>\n",
       "      <td>0</td>\n",
       "      <td>1</td>\n",
       "      <td>2.145247</td>\n",
       "    </tr>\n",
       "    <tr>\n",
       "      <th>99999</th>\n",
       "      <td>chr3</td>\n",
       "      <td>198094556</td>\n",
       "      <td>0</td>\n",
       "      <td>1</td>\n",
       "      <td>-1.722090</td>\n",
       "    </tr>\n",
       "  </tbody>\n",
       "</table>\n",
       "<p>100000 rows × 5 columns</p>\n",
       "</div>"
      ],
      "text/plain": [
       "      subseq        loc  strand  size        val\n",
       "0       chr1     830276       0     1   1.564099\n",
       "1       chr1     831773       0     1  -2.718052\n",
       "2       chr1     847096       0     1   9.274565\n",
       "3       chr1     847856       0     1  -0.124353\n",
       "4       chr1     854726       0     1  10.579587\n",
       "...      ...        ...     ...   ...        ...\n",
       "99995   chr3  198060830       0     1   1.363014\n",
       "99996   chr3  198063371       0     1   4.999675\n",
       "99997   chr3  198075457       0     1  -5.486622\n",
       "99998   chr3  198094424       0     1   2.145247\n",
       "99999   chr3  198094556       0     1  -1.722090\n",
       "\n",
       "[100000 rows x 5 columns]"
      ]
     },
     "execution_count": 38,
     "metadata": {},
     "output_type": "execute_result"
    }
   ],
   "source": [
    "#PWMscores_flags = pickle.load(open('YY1_PWMscores_flags' + '.p', 'rb')) #Loading\n",
    "\n",
    "PWMscores_harpoon = SigCurrent2Markers(PWMscores_flags, hg38_id, select_BS_ids = select_chrs, reso = 1, select = 100000, select_mode = Harpoon, mode_args = {'bins': 100})\n",
    "\n",
    "pickle.dump(PWMscores_harpoon, open('YY1_PWMscores_harpoon' + '.p', 'wb'))\n",
    "\n",
    "PWMscores_harpoon"
   ]
  },
  {
   "cell_type": "code",
   "execution_count": null,
   "id": "4938832e-7faf-4c11-ac7a-816b19e58961",
   "metadata": {},
   "outputs": [],
   "source": [
    "del [PWMscores_flags] "
   ]
  },
  {
   "cell_type": "markdown",
   "id": "5a1c526b-ab3a-40e1-a909-8f5644993b04",
   "metadata": {},
   "source": [
    "### Packs for ML "
   ]
  },
  {
   "cell_type": "markdown",
   "id": "7dac9969-c05c-416d-a7a3-6dfcd6b01178",
   "metadata": {},
   "source": [
    "Generating Packs for ML using the Harpoon'ed Markers"
   ]
  },
  {
   "cell_type": "code",
   "execution_count": 39,
   "id": "2bb6491a-519a-457d-83e1-69271b7a3016",
   "metadata": {},
   "outputs": [],
   "source": [
    "hg38, hg38_id, hg38_sizes = pickle.load(open('hg38' + '.p', 'rb')) #Loading\n",
    "\n",
    "PWMscores_harpoon = pickle.load(open('YY1_PWMscores_harpoon' + '.p', 'rb')) #loading \n",
    "YY1_norm = pickle.load(open('YY1_norm' + '.p', 'rb')) #Loading\n",
    "histone_norm = pickle.load(open('histone_norm' + '.p', 'rb')) #Loading"
   ]
  },
  {
   "cell_type": "markdown",
   "id": "45a68f41-dc5a-471b-b4ee-c34756d990ae",
   "metadata": {},
   "source": [
    "Modifying Markers to be used for pack generation (next steps). Both strands are used (opposite = True) and no marker in the ends of 5000bp. "
   ]
  },
  {
   "cell_type": "code",
   "execution_count": 41,
   "id": "bd03c715-73e0-46ac-a951-3359cf6dd5b8",
   "metadata": {},
   "outputs": [],
   "source": [
    "PWMscores_ready = Markers4Packs(PWMscores_harpoon, select_BS_ids = None, opposite = True, \n",
    "                                 ends = 5000, BS_sizes = hg38_sizes, BS_ids = hg38_id)"
   ]
  },
  {
   "cell_type": "markdown",
   "id": "1d0e6f7a-af5d-484c-89c9-9abc8e2a2739",
   "metadata": {},
   "source": [
    "Integrated YY1 signal of 480bp over Markers. "
   ]
  },
  {
   "cell_type": "code",
   "execution_count": 42,
   "id": "b8f350d1-58fc-4878-a7e1-b66b37d61d49",
   "metadata": {},
   "outputs": [],
   "source": [
    "YY1pack = SigCurrent2Pack(YY1_norm, PWMscores_ready, hg38_id, select_BS_ids = select_chrs, Vsize = 480, reso = 20, \n",
    "                          newreso = None, resomode = np.mean, areas = [480], exact = True, stranded = True, dtype = np.float32)"
   ]
  },
  {
   "cell_type": "markdown",
   "id": "6bf730e3-5689-4393-9afc-5b61448a502d",
   "metadata": {},
   "source": [
    "Flattening pack, likely to be used for Sklearn. "
   ]
  },
  {
   "cell_type": "code",
   "execution_count": null,
   "id": "9caa5f0e-5d33-4124-aea0-d94ff9e6c58c",
   "metadata": {},
   "outputs": [],
   "source": [
    "YY1pack_flat = PackShaper(YY1pack, expand_dim = None, squeeze = False, twoD = False, flatten = True)"
   ]
  },
  {
   "cell_type": "markdown",
   "id": "9d87717e-5317-4303-bfbe-bb2f85db7110",
   "metadata": {},
   "source": [
    "Histone signal of 4000bp over Markers. "
   ]
  },
  {
   "cell_type": "code",
   "execution_count": null,
   "id": "2ce9996f-ccaa-4a35-b63d-0bdde5bbf2b9",
   "metadata": {},
   "outputs": [],
   "source": [
    "histonepack_profile = SigCurrent2Pack(histone_norm, PWMscores_ready, hg38_id, select_BS_ids = select_chrs, Vsize = 4000, reso = 20, \n",
    "                                      newreso = 100, resomode = np.mean, areas = None, exact = True, stranded = True, dtype = np.float32)\n",
    "\n",
    "print(f'Histone ProfilePack shape: {histonepack_profile.shape}')"
   ]
  },
  {
   "cell_type": "markdown",
   "id": "48d4508c-7779-47bd-8766-6b8738651195",
   "metadata": {},
   "source": [
    "Integrated Histone signals (4) with maximum of 4000bp over Markers. "
   ]
  },
  {
   "cell_type": "code",
   "execution_count": 43,
   "id": "052e6849-dc8e-493f-832b-796532d4cc6f",
   "metadata": {},
   "outputs": [
    {
     "name": "stdout",
     "output_type": "stream",
     "text": [
      "Histone ProfilePack shape: (200000, 11, 40)\n",
      "Histone AreasPack shape: (200000, 11, 4)\n"
     ]
    }
   ],
   "source": [
    "areas = np.geomspace(500,4000,4, dtype = int) #Getting different 4 areas from 500 to 4000bp geometrically. \n",
    "histonepack_areas= SigCurrent2Pack(histone_norm, PWMscores_ready, hg38_id, select_BS_ids = select_chrs, Vsize = 4000, reso = 20, \n",
    "                                   newreso = None, resomode = np.mean, areas = areas, exact = True, stranded = True, dtype = np.float32)\n",
    "\n",
    "print(f'Histone AreasPack shape: {histonepack_areas.shape}')"
   ]
  },
  {
   "cell_type": "markdown",
   "id": "e2cceb6c-cbbf-437e-a676-84a41f821797",
   "metadata": {},
   "source": [
    "Also getting the best PWM score over each Marker with Traits2Pack. "
   ]
  },
  {
   "cell_type": "code",
   "execution_count": 11,
   "id": "05d82f3a-1451-428b-b656-220f660c27a6",
   "metadata": {},
   "outputs": [
    {
     "data": {
      "text/plain": [
       "(200000,)"
      ]
     },
     "execution_count": 11,
     "metadata": {},
     "output_type": "execute_result"
    }
   ],
   "source": [
    "PWMscore_pack = Traits2Pack(PWMscores_ready, cols = 4, vectorize = None)\n",
    "PWMscore_pack.shape"
   ]
  },
  {
   "cell_type": "markdown",
   "id": "db810508-5a45-4ba6-932d-61b885ae78aa",
   "metadata": {},
   "source": [
    "Getting sequences underlying Markers of size 500, stranded (stranded = True) with SeqCurrent2Pack. "
   ]
  },
  {
   "cell_type": "code",
   "execution_count": 44,
   "id": "189485bd-313a-4689-b151-b440199bfdcb",
   "metadata": {},
   "outputs": [],
   "source": [
    "seq_pack = SeqCurrent2Pack(hg38, PWMscores_ready, hg38_id, select_BS_ids = select_chrs, Vsize = 500, seqmode = None, stranded = True)"
   ]
  },
  {
   "cell_type": "markdown",
   "id": "d06546a6-d443-431d-89ee-f443be6969b4",
   "metadata": {},
   "source": [
    "Getting sequences underlying Markers of size 500, stranded (stranded = True), and OHE (seqmode = Seqs2OHE) with SeqCurrent2Pack. "
   ]
  },
  {
   "cell_type": "code",
   "execution_count": 45,
   "id": "c1bb753a-7115-41d6-8f7b-b53ac46d490d",
   "metadata": {},
   "outputs": [
    {
     "data": {
      "text/plain": [
       "(200000, 500, 4)"
      ]
     },
     "execution_count": 45,
     "metadata": {},
     "output_type": "execute_result"
    }
   ],
   "source": [
    "seq_pack_OHE = SeqCurrent2Pack(hg38, PWMscores_ready, hg38_id, select_BS_ids = select_chrs, Vsize = 500, seqmode = Seqs2OHE, stranded = True)\n",
    "seq_pack_OHE.shape"
   ]
  },
  {
   "cell_type": "markdown",
   "id": "b6ca2778-6b62-4496-bb6f-84889ae3523b",
   "metadata": {},
   "source": [
    "Combinations of packs can be done with Packs2Pack([Packs]) "
   ]
  },
  {
   "cell_type": "markdown",
   "id": "0fd508e5-5866-4001-a6b9-010368197cf3",
   "metadata": {},
   "source": [
    "#### Splitting Packs"
   ]
  },
  {
   "cell_type": "markdown",
   "id": "11da9720-05e4-4f51-a456-d82e300407b5",
   "metadata": {},
   "source": [
    "Splits for ML are generated using Splits and the Markers.  \n",
    "3 Splits are generated (numsplits = 3) with simple Train Test split of 0.7 and 0.3 proportions, respecively (proportions = [0.7,0.3]).  \n",
    "The cut method is applied (cut = True) "
   ]
  },
  {
   "cell_type": "code",
   "execution_count": 48,
   "id": "02649a52-466d-4ea9-9336-f2be2e521edb",
   "metadata": {},
   "outputs": [
    {
     "data": {
      "text/plain": [
       "[array([ 34263,  34264,  34265, ..., 174260, 174261, 174262]),\n",
       " array([174263, 174264, 174265, ...,  34260,  34261,  34262])]"
      ]
     },
     "execution_count": 48,
     "metadata": {},
     "output_type": "execute_result"
    }
   ],
   "source": [
    "YY1sites_split = Splitter(len(PWMscores_ready), numsplits = 3, proportions = [0.7, 0.3], random = False, cut = True)\n",
    "\n",
    "\n",
    "YY1sites_split[0]"
   ]
  },
  {
   "cell_type": "markdown",
   "id": "b5041409-7307-4902-8446-a40e16646f80",
   "metadata": {},
   "source": [
    "Splitting a pack by a split can be done with PackSplit(Pack, YY1sites_split[n])"
   ]
  }
 ],
 "metadata": {
  "kernelspec": {
   "display_name": "p1_kernel",
   "language": "python",
   "name": "p1_kernel"
  },
  "language_info": {
   "codemirror_mode": {
    "name": "ipython",
    "version": 3
   },
   "file_extension": ".py",
   "mimetype": "text/x-python",
   "name": "python",
   "nbconvert_exporter": "python",
   "pygments_lexer": "ipython3",
   "version": "3.7.13"
  },
  "toc-autonumbering": false
 },
 "nbformat": 4,
 "nbformat_minor": 5
}
