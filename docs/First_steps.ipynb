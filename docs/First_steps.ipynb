{
 "cells": [
  {
   "cell_type": "code",
   "execution_count": 1,
   "id": "0850ca3c-bb09-4253-b0f0-aa18a9c15acf",
   "metadata": {},
   "outputs": [],
   "source": [
    "import pandas as pd"
   ]
  },
  {
   "cell_type": "code",
   "execution_count": 2,
   "id": "6e978408-3417-46a7-89d1-b4b2c3224c1d",
   "metadata": {},
   "outputs": [],
   "source": [
    "import urllib.request\n",
    "from tqdm import tqdm\n",
    "\n",
    "#https://stackoverflow.com/questions/15644964/python-progress-bar-and-downloads\n",
    "\n",
    "class DownloadProgressBar(tqdm):\n",
    "    def update_to(self, b=1, bsize=1, tsize=None):\n",
    "        if tsize is not None:\n",
    "            self.total = tsize\n",
    "        self.update(b * bsize - self.n)\n",
    "\n",
    "def download_url(url, output_path):\n",
    "    with DownloadProgressBar(unit='B', unit_scale=True,\n",
    "                             miniters=1, desc=url.split('/')[-1]) as t:\n",
    "        urllib.request.urlretrieve(url, filename=output_path, reporthook=t.update_to)"
   ]
  },
  {
   "cell_type": "markdown",
   "id": "107790f2-9efc-4b60-b89d-94684437bb56",
   "metadata": {},
   "source": [
    "#### Downloading files"
   ]
  },
  {
   "cell_type": "markdown",
   "id": "c8c78d61-5718-4b38-a865-f19f56d7fc73",
   "metadata": {},
   "source": [
    "##### Alignment (.bam) files"
   ]
  },
  {
   "cell_type": "code",
   "execution_count": null,
   "id": "80fde311-cda5-4b24-88fa-0199f79d8c15",
   "metadata": {},
   "outputs": [],
   "source": [
    "!mkdir bam"
   ]
  },
  {
   "cell_type": "code",
   "execution_count": null,
   "id": "8e6f713d-a9b3-4511-bde3-cb627b7741bd",
   "metadata": {
    "tags": []
   },
   "outputs": [],
   "source": [
    "data_source = pd.read_excel('Dataset_Identifiers.xlsx')\n",
    "data_source"
   ]
  },
  {
   "cell_type": "code",
   "execution_count": null,
   "id": "72cce8f3-8328-4c95-b7fa-0b8635d2efbc",
   "metadata": {
    "tags": []
   },
   "outputs": [],
   "source": [
    "path_A = 'https://www.encodeproject.org/files/'\n",
    "path_B = '/@@download/'\n",
    "path_C = '.bam'\n",
    "\n",
    "for index, row in data_source.iterrows():\n",
    "    download_url(path_A + row['id'] + path_B + row['id'] + path_C, 'bam/' + row['newid'] + path_C)"
   ]
  },
  {
   "cell_type": "markdown",
   "id": "6605c6b3-cf03-45f0-afaa-626767269ec9",
   "metadata": {},
   "source": [
    "##### Human Genome (.fasta)"
   ]
  },
  {
   "cell_type": "code",
   "execution_count": null,
   "id": "a6ae1cc9-1142-4e50-a3e2-88745ee9accb",
   "metadata": {},
   "outputs": [],
   "source": [
    "#genome from https://www.encodeproject.org/data-standards/reference-sequences/\n",
    "genome_url = 'https://www.encodeproject.org/files/GRCh38_no_alt_analysis_set_GCA_000001405.15/@@download/GRCh38_no_alt_analysis_set_GCA_000001405.15.fasta.gz'\n",
    "download_url(genome_url, 'hg38.fasta.gz')"
   ]
  },
  {
   "cell_type": "code",
   "execution_count": null,
   "id": "54d4012f-7a8e-4620-9255-3c0065ca42b3",
   "metadata": {},
   "outputs": [],
   "source": [
    "!gzip -d ./hg38.fasta.gz"
   ]
  },
  {
   "cell_type": "markdown",
   "id": "6bc1cb88-d9a7-43bd-bdee-a4f8fe6c6506",
   "metadata": {},
   "source": [
    "##### Blacklist Regions (.bed)"
   ]
  },
  {
   "cell_type": "code",
   "execution_count": null,
   "id": "8d07a62b-b686-4ac1-863d-93346cac08c7",
   "metadata": {},
   "outputs": [],
   "source": [
    "#Black list regions from https://github.com/Boyle-Lab/Blacklist\n",
    "\n",
    "#BLR_url = 'https://www.github.com/Boyle-Lab/Blacklist/blob/master/lists/hg38-blacklist.v2.bed.gz'\n",
    "#download_url(BLR_url, 'hg38-blacklist.v2.bed.gz')\n",
    "\n",
    "#something weird is going on, manually download this file "
   ]
  },
  {
   "cell_type": "code",
   "execution_count": 13,
   "id": "455651d4-991a-4c72-b270-be53b7131bde",
   "metadata": {},
   "outputs": [],
   "source": [
    "!gzip -d hg38-blacklist.v2.bed.gz"
   ]
  },
  {
   "cell_type": "markdown",
   "id": "c207082e-0f53-4c67-8629-df2cd0f3c843",
   "metadata": {},
   "source": [
    "#### Peak Calling"
   ]
  },
  {
   "cell_type": "code",
   "execution_count": null,
   "id": "af3964c5-f1c3-433d-8109-2e1746b8440f",
   "metadata": {},
   "outputs": [],
   "source": [
    "# !for x in YY1 Input_RM; do samtools merge ./bam_merged/${x}_RepM.bam `ls ./bam/${x}*` --threads 4; done\n",
    "\n",
    "!macs3 callpeak -t `ls ./bam/YY1*` -c `ls ./bam/Input_RM*` -f BAM -g hs -q 0.001 -n YY1 --outdir ./YY1_peaks --call-summits"
   ]
  },
  {
   "cell_type": "markdown",
   "id": "1ea6b456-4b20-47cf-ba9e-16d53db28e83",
   "metadata": {},
   "source": [
    "#### Motif Discovery "
   ]
  },
  {
   "cell_type": "markdown",
   "id": "369a2f1d-7d4c-475c-99c3-498ec56a5a6d",
   "metadata": {},
   "source": [
    "##### Top Peaks for Motifs "
   ]
  },
  {
   "cell_type": "code",
   "execution_count": null,
   "id": "386ebbdb-302b-477d-803b-0faac2dcb98c",
   "metadata": {},
   "outputs": [],
   "source": [
    "summits_columns = ['chr', 'start', 'end', 'name', 'score']\n",
    "YY1_summits = pd.read_csv('YY1_peaks/' + 'YY1_summits.bed', sep='\\t', header = None, names = summits_columns)\n",
    "\n",
    "toppeaks = 3000\n",
    "seqsize = 200 \n",
    "\n",
    "YY1_summits = YY1_summits.sort_values('score', ascending = False, ignore_index = True).iloc[:toppeaks]\n",
    "YY1_summits['start'] = YY1_summits['start'] - (seqsize // 2) \n",
    "YY1_summits['end'] = YY1_summits['end'] + (seqsize // 2) \n",
    "\n",
    "YY1_summits.to_csv('YY1_peaks/' + 'YY1_summits_toppeaks.bed', header=None, index=None, sep = '\\t') "
   ]
  },
  {
   "cell_type": "markdown",
   "id": "5bbb2882-b26d-4436-842e-ed62d6248f3b",
   "metadata": {},
   "source": [
    "##### Sequence extraction"
   ]
  },
  {
   "cell_type": "code",
   "execution_count": null,
   "id": "66a12058-3077-4e7f-835c-f53d805c271e",
   "metadata": {},
   "outputs": [],
   "source": [
    "!bedtools getfasta -fi ./hg38.fasta -fo ./YY1_peaks/YY1_summits_toppeaks.fa -bed ./YY1_peaks/YY1_summits_toppeaks.bed -s -name+"
   ]
  },
  {
   "cell_type": "markdown",
   "id": "9d9f4cc9-f372-4ff2-8d3a-d44c90441386",
   "metadata": {},
   "source": [
    "##### MEME"
   ]
  },
  {
   "cell_type": "code",
   "execution_count": null,
   "id": "2a2f2a23-7533-496e-b146-22926ba8962a",
   "metadata": {},
   "outputs": [],
   "source": [
    "!meme ./YY1_peaks/YY1_summits_toppeaks.fa -o ./YY1_peaks/meme -dna -revcomp -nmotifs 20 -minw 7 -maxw 15 -mod zoops -p 8"
   ]
  },
  {
   "cell_type": "raw",
   "id": "cfc1d55a-b8ef-407d-80b4-113a49793694",
   "metadata": {},
   "source": [
    "Access html file, select best motif, copy Count Matrix and save it to a txt file. \n",
    "\n",
    "YY1_CM.txt"
   ]
  },
  {
   "cell_type": "markdown",
   "id": "2dba753a-6d8c-495c-b79c-f01884f606e4",
   "metadata": {},
   "source": [
    "#### Fragment Size Estimation"
   ]
  },
  {
   "cell_type": "code",
   "execution_count": null,
   "id": "0215e0c1-effd-4335-8730-dc16b4b2ffca",
   "metadata": {
    "tags": []
   },
   "outputs": [],
   "source": [
    "!macs3 predictd -i `ls ./bam/YY1*` -g hs --outdir ./predictd"
   ]
  }
 ],
 "metadata": {
  "kernelspec": {
   "display_name": "p1_kernel",
   "language": "python",
   "name": "p1_kernel"
  },
  "language_info": {
   "codemirror_mode": {
    "name": "ipython",
    "version": 3
   },
   "file_extension": ".py",
   "mimetype": "text/x-python",
   "name": "python",
   "nbconvert_exporter": "python",
   "pygments_lexer": "ipython3",
   "version": "3.7.13"
  }
 },
 "nbformat": 4,
 "nbformat_minor": 5
}
